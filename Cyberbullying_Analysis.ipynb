{
 "cells": [
  {
   "cell_type": "markdown",
   "id": "1b32213e",
   "metadata": {},
   "source": [
    "# **CAPSTONE PROJECT**: </br> CYBERBULLYING ANALYSIS, DETECTION, AND CATEGORIZATION"
   ]
  },
  {
   "cell_type": "markdown",
   "id": "ba0f5713",
   "metadata": {},
   "source": [
    "**PROBLEM STATEMENT** </br>\n",
    "Social media usage has risen drastically in every age group; a large majority of citizens rely on this form of daily communication. Consequently, social media’s omnipresence means that cyberbullying can effectively impact anyone anytime anywhere. The anonymity of cyberbullies on the internet makes it harder to stop compared to traditional bullying. According to the UNICEF, the risk of cyberbullying increased during the pandemic due to nationwide school closures, greater usage of electronics, and less in-person interaction. The statistics of cyberbullying are very concerning: roughly 37% of middle and high school students have been cyberbullied and 87% have observed cyberbullying. To combat the rise of cyberbullying, media outlets should incorporate algorithms that detect harmful messages and predict when a user types something that can be considered online harassment.\n",
    "\n",
    "The purpose of this project is to apply Natural Language Processing (NLP), Machine Learning (ML), and Deep Learning (DL) techniques on multiple cyberbullying datasets to perform exploratory data/text analysis, design a model that can detect cyberbullying, and utilize transfer learning with an additional model that can classify the form of cyberbullying for a comprehensive cyberbullying analysis model."
   ]
  },
  {
   "cell_type": "markdown",
   "id": "36a507c5",
   "metadata": {},
   "source": [
    "**DISCLAIMER** </br>\n",
    "This capstone project uses publicly available Twitter text messages that contain no personally identifiable information. Efforts have been made to maintain ethical standards and minimize harm, including anonymization, responsible data handling, and bias analysis in modeling. This project is conducted solely for academic purposes such as understanding, flagging, and protecting against online harassment. I do not condone nor encourage any form of offensive behavior."
   ]
  },
  {
   "cell_type": "markdown",
   "id": "c6085845-09e9-46e4-9d2b-528f015a889a",
   "metadata": {},
   "source": [
    "Note that this Notebook uses Python 3.10"
   ]
  },
  {
   "cell_type": "code",
   "execution_count": 1,
   "id": "51d1cc61-3fb9-4497-a66b-a851f96df8fb",
   "metadata": {},
   "outputs": [
    {
     "name": "stdout",
     "output_type": "stream",
     "text": [
      "Defaulting to user installation because normal site-packages is not writeable\n",
      "Requirement already satisfied: joblib==1.5.1 in ./.local/lib/python3.10/site-packages (1.5.1)\n",
      "Defaulting to user installation because normal site-packages is not writeable\n",
      "Requirement already satisfied: alt-profanity-check==1.3.2 in ./.local/lib/python3.10/site-packages (1.3.2)\n",
      "Requirement already satisfied: scikit-learn==1.3.2 in ./.local/lib/python3.10/site-packages (from alt-profanity-check==1.3.2) (1.3.2)\n",
      "Requirement already satisfied: joblib>=1.3.2 in ./.local/lib/python3.10/site-packages (from alt-profanity-check==1.3.2) (1.5.1)\n",
      "Requirement already satisfied: numpy<2.0,>=1.17.3 in ./.local/lib/python3.10/site-packages (from scikit-learn==1.3.2->alt-profanity-check==1.3.2) (1.26.4)\n",
      "Requirement already satisfied: scipy>=1.5.0 in ./.local/lib/python3.10/site-packages (from scikit-learn==1.3.2->alt-profanity-check==1.3.2) (1.15.3)\n",
      "Requirement already satisfied: threadpoolctl>=2.0.0 in /usr/local/lib/python3.10/site-packages (from scikit-learn==1.3.2->alt-profanity-check==1.3.2) (3.1.0)\n",
      "Defaulting to user installation because normal site-packages is not writeable\n",
      "Requirement already satisfied: numpy==1.26.4 in ./.local/lib/python3.10/site-packages (1.26.4)\n",
      "Defaulting to user installation because normal site-packages is not writeable\n",
      "Requirement already satisfied: pandas==2.2.3 in ./.local/lib/python3.10/site-packages (2.2.3)\n",
      "Requirement already satisfied: numpy>=1.22.4 in ./.local/lib/python3.10/site-packages (from pandas==2.2.3) (1.26.4)\n",
      "Requirement already satisfied: python-dateutil>=2.8.2 in /usr/local/lib/python3.10/site-packages (from pandas==2.2.3) (2.8.2)\n",
      "Requirement already satisfied: pytz>=2020.1 in /usr/local/lib/python3.10/site-packages (from pandas==2.2.3) (2022.1)\n",
      "Requirement already satisfied: tzdata>=2022.7 in ./.local/lib/python3.10/site-packages (from pandas==2.2.3) (2025.2)\n",
      "Requirement already satisfied: six>=1.5 in /usr/local/lib/python3.10/site-packages (from python-dateutil>=2.8.2->pandas==2.2.3) (1.16.0)\n"
     ]
    }
   ],
   "source": [
    "!pip install joblib==1.5.1\n",
    "!pip install alt-profanity-check==1.3.2\n",
    "!pip install numpy==1.26.4\n",
    "!pip install pandas==2.2.3"
   ]
  },
  {
   "cell_type": "markdown",
   "id": "dfa29f4b",
   "metadata": {},
   "source": [
    "***\n",
    "# **SECTION 1** : CYBERBULLYING ANALYSIS"
   ]
  },
  {
   "cell_type": "markdown",
   "id": "877fd988",
   "metadata": {},
   "source": [
    "**OVERVIEW** </br>\n",
    "Cyberbullying analysis involves routine data preparation, examination, and analyis. First, the datasets will be loaded and combined into a single Pandas DataFrame where data wrangling will address any complications. Next, new features such as word count, profanity presence, and emoji count will be engineered to provide possible correlations between certain variables. Finally, various graphs and statistical information will be utilized to uncover possible trends and patterns within the DataFrame."
   ]
  },
  {
   "cell_type": "markdown",
   "id": "83a4c416",
   "metadata": {},
   "source": [
    "Import libraries for data science"
   ]
  },
  {
   "cell_type": "code",
   "execution_count": 2,
   "id": "61574bf9",
   "metadata": {},
   "outputs": [],
   "source": [
    "import warnings\n",
    "warnings.filterwarnings('ignore')\n",
    "\n",
    "# Data science\n",
    "import pandas as pd\n",
    "import numpy as np\n",
    "import matplotlib.pyplot as plt\n",
    "import seaborn as sns\n",
    "# Import alt-profanity-check library to assist in detecting profanity\n",
    "from profanity_check import predict\n",
    "# Import emoji library to assist in counting number of text emojis\n",
    "from emoji import emoji_count\n",
    "from sklearn.preprocessing import MinMaxScaler"
   ]
  },
  {
   "cell_type": "markdown",
   "id": "eb128e92",
   "metadata": {},
   "source": [
    "Load the datasets"
   ]
  },
  {
   "cell_type": "code",
   "execution_count": 3,
   "id": "4adac05b",
   "metadata": {},
   "outputs": [],
   "source": [
    "data_1 = pd.read_csv('data/cyberbullying_tweets.csv')\n",
    "data_2 = pd.read_csv('data/cb_multi_labeled_balanced.csv')"
   ]
  },
  {
   "cell_type": "markdown",
   "id": "bd97c01b",
   "metadata": {},
   "source": [
    "## 1. **Data wrangling**"
   ]
  },
  {
   "cell_type": "code",
   "execution_count": 4,
   "id": "575b56f0",
   "metadata": {},
   "outputs": [
    {
     "data": {
      "text/html": [
       "<div>\n",
       "<style scoped>\n",
       "    .dataframe tbody tr th:only-of-type {\n",
       "        vertical-align: middle;\n",
       "    }\n",
       "\n",
       "    .dataframe tbody tr th {\n",
       "        vertical-align: top;\n",
       "    }\n",
       "\n",
       "    .dataframe thead th {\n",
       "        text-align: right;\n",
       "    }\n",
       "</style>\n",
       "<table border=\"1\" class=\"dataframe\">\n",
       "  <thead>\n",
       "    <tr style=\"text-align: right;\">\n",
       "      <th></th>\n",
       "      <th>tweet_text</th>\n",
       "      <th>cyberbullying_type</th>\n",
       "    </tr>\n",
       "  </thead>\n",
       "  <tbody>\n",
       "    <tr>\n",
       "      <th>39500</th>\n",
       "      <td>Hannah Brown from the Bachelorette looks like ...</td>\n",
       "      <td>age</td>\n",
       "    </tr>\n",
       "    <tr>\n",
       "      <th>16681</th>\n",
       "      <td>They were always classified as Muslims you utt...</td>\n",
       "      <td>religion</td>\n",
       "    </tr>\n",
       "    <tr>\n",
       "      <th>22276</th>\n",
       "      <td>Hard truth? You’re a fucking IDIOT. You’re whi...</td>\n",
       "      <td>religion</td>\n",
       "    </tr>\n",
       "    <tr>\n",
       "      <th>45589</th>\n",
       "      <td>Hey Hey Hey ! Not me. RT @RugerRet: Im sayin t...</td>\n",
       "      <td>ethnicity</td>\n",
       "    </tr>\n",
       "    <tr>\n",
       "      <th>17832</th>\n",
       "      <td>This takes the cake. I cannot believe you. You...</td>\n",
       "      <td>religion</td>\n",
       "    </tr>\n",
       "    <tr>\n",
       "      <th>632</th>\n",
       "      <td>@OHLANDmusic I would say me but that's egotist...</td>\n",
       "      <td>not_cyberbullying</td>\n",
       "    </tr>\n",
       "    <tr>\n",
       "      <th>38983</th>\n",
       "      <td>I saw the kid that would bully me in middle sc...</td>\n",
       "      <td>age</td>\n",
       "    </tr>\n",
       "    <tr>\n",
       "      <th>15177</th>\n",
       "      <td>If you 1)use gay as an insult 2)think rape jok...</td>\n",
       "      <td>gender</td>\n",
       "    </tr>\n",
       "    <tr>\n",
       "      <th>45049</th>\n",
       "      <td>The story doesn’t even stop there one of the g...</td>\n",
       "      <td>ethnicity</td>\n",
       "    </tr>\n",
       "    <tr>\n",
       "      <th>16096</th>\n",
       "      <td>RT @joe_nuzz: Graphic of growth of Radical Isl...</td>\n",
       "      <td>religion</td>\n",
       "    </tr>\n",
       "  </tbody>\n",
       "</table>\n",
       "</div>"
      ],
      "text/plain": [
       "                                              tweet_text cyberbullying_type\n",
       "39500  Hannah Brown from the Bachelorette looks like ...                age\n",
       "16681  They were always classified as Muslims you utt...           religion\n",
       "22276  Hard truth? You’re a fucking IDIOT. You’re whi...           religion\n",
       "45589  Hey Hey Hey ! Not me. RT @RugerRet: Im sayin t...          ethnicity\n",
       "17832  This takes the cake. I cannot believe you. You...           religion\n",
       "632    @OHLANDmusic I would say me but that's egotist...  not_cyberbullying\n",
       "38983  I saw the kid that would bully me in middle sc...                age\n",
       "15177  If you 1)use gay as an insult 2)think rape jok...             gender\n",
       "45049  The story doesn’t even stop there one of the g...          ethnicity\n",
       "16096  RT @joe_nuzz: Graphic of growth of Radical Isl...           religion"
      ]
     },
     "execution_count": 4,
     "metadata": {},
     "output_type": "execute_result"
    }
   ],
   "source": [
    "data_1.sample(10)"
   ]
  },
  {
   "cell_type": "code",
   "execution_count": 5,
   "id": "b44ab50e",
   "metadata": {},
   "outputs": [
    {
     "name": "stdout",
     "output_type": "stream",
     "text": [
      "<class 'pandas.core.frame.DataFrame'>\n",
      "RangeIndex: 47692 entries, 0 to 47691\n",
      "Data columns (total 2 columns):\n",
      " #   Column              Non-Null Count  Dtype \n",
      "---  ------              --------------  ----- \n",
      " 0   tweet_text          47692 non-null  object\n",
      " 1   cyberbullying_type  47692 non-null  object\n",
      "dtypes: object(2)\n",
      "memory usage: 745.3+ KB\n"
     ]
    }
   ],
   "source": [
    "data_1.info()"
   ]
  },
  {
   "cell_type": "code",
   "execution_count": 6,
   "id": "98125dc9",
   "metadata": {},
   "outputs": [
    {
     "name": "stdout",
     "output_type": "stream",
     "text": [
      "<class 'pandas.core.frame.DataFrame'>\n",
      "Index: 47656 entries, 0 to 47691\n",
      "Data columns (total 2 columns):\n",
      " #   Column              Non-Null Count  Dtype \n",
      "---  ------              --------------  ----- \n",
      " 0   tweet_text          47656 non-null  object\n",
      " 1   cyberbullying_type  47656 non-null  object\n",
      "dtypes: object(2)\n",
      "memory usage: 1.1+ MB\n"
     ]
    }
   ],
   "source": [
    "# Handle missing and duplicate values in Dataset 1\n",
    "data_1.dropna(inplace=True)\n",
    "data_1.drop_duplicates(inplace=True)\n",
    "\n",
    "data_1.info()"
   ]
  },
  {
   "cell_type": "code",
   "execution_count": 7,
   "id": "da8ca6b7",
   "metadata": {},
   "outputs": [
    {
     "data": {
      "text/plain": [
       "cyberbullying_type\n",
       "religion               7997\n",
       "age                    7992\n",
       "ethnicity              7959\n",
       "gender                 7948\n",
       "not_cyberbullying      7937\n",
       "other_cyberbullying    7823\n",
       "Name: count, dtype: int64"
      ]
     },
     "execution_count": 7,
     "metadata": {},
     "output_type": "execute_result"
    }
   ],
   "source": [
    "cyberbullying_types_count_1 = data_1['cyberbullying_type'].value_counts()\n",
    "cyberbullying_types_count_1"
   ]
  },
  {
   "cell_type": "markdown",
   "id": "1f19ed8d",
   "metadata": {},
   "source": [
    "**Observations**:\n",
    "- Dataset 1 consists of 47,656 unique tweets that consist of six different classes: not_cyberbullying, religion, age, gender, ethnicity\n",
    "other_cyberbullying\n",
    "- Each class has roughly the same number of entries which will facilitate in cyberbullying categorization"
   ]
  },
  {
   "cell_type": "code",
   "execution_count": 8,
   "id": "6c38b37b",
   "metadata": {},
   "outputs": [
    {
     "data": {
      "text/html": [
       "<div>\n",
       "<style scoped>\n",
       "    .dataframe tbody tr th:only-of-type {\n",
       "        vertical-align: middle;\n",
       "    }\n",
       "\n",
       "    .dataframe tbody tr th {\n",
       "        vertical-align: top;\n",
       "    }\n",
       "\n",
       "    .dataframe thead th {\n",
       "        text-align: right;\n",
       "    }\n",
       "</style>\n",
       "<table border=\"1\" class=\"dataframe\">\n",
       "  <thead>\n",
       "    <tr style=\"text-align: right;\">\n",
       "      <th></th>\n",
       "      <th>text</th>\n",
       "      <th>label</th>\n",
       "    </tr>\n",
       "  </thead>\n",
       "  <tbody>\n",
       "    <tr>\n",
       "      <th>94965</th>\n",
       "      <td>This reaction is one word, chaotic. The voice ...</td>\n",
       "      <td>not_cyberbullying</td>\n",
       "    </tr>\n",
       "    <tr>\n",
       "      <th>52896</th>\n",
       "      <td>I'm saying like https://t.co/4bRFCdK8ME</td>\n",
       "      <td>not_cyberbullying</td>\n",
       "    </tr>\n",
       "    <tr>\n",
       "      <th>93881</th>\n",
       "      <td>@Sahid22866449 @BilalKareem Thankyou for fucki...</td>\n",
       "      <td>religion</td>\n",
       "    </tr>\n",
       "    <tr>\n",
       "      <th>64627</th>\n",
       "      <td>@DanaSchwartzzz There’s something hilarious ab...</td>\n",
       "      <td>not_cyberbullying</td>\n",
       "    </tr>\n",
       "    <tr>\n",
       "      <th>78798</th>\n",
       "      <td>brooklyne calling how to forget NYC 9/11 Attac...</td>\n",
       "      <td>not_cyberbullying</td>\n",
       "    </tr>\n",
       "    <tr>\n",
       "      <th>76573</th>\n",
       "      <td>RT @joysamcyborg: Nazism has revisited Europe....</td>\n",
       "      <td>religion</td>\n",
       "    </tr>\n",
       "    <tr>\n",
       "      <th>54152</th>\n",
       "      <td>@Nicko7200 Big W 😂😂</td>\n",
       "      <td>not_cyberbullying</td>\n",
       "    </tr>\n",
       "    <tr>\n",
       "      <th>89397</th>\n",
       "      <td>@PaoloGOATchero @iamlanfia @BleacherReport You...</td>\n",
       "      <td>not_cyberbullying</td>\n",
       "    </tr>\n",
       "    <tr>\n",
       "      <th>71689</th>\n",
       "      <td>@nooruddin1970 @HateDetectors 2) I shared my u...</td>\n",
       "      <td>religion</td>\n",
       "    </tr>\n",
       "    <tr>\n",
       "      <th>77146</th>\n",
       "      <td>@optimum our service in south College Station,...</td>\n",
       "      <td>not_cyberbullying</td>\n",
       "    </tr>\n",
       "  </tbody>\n",
       "</table>\n",
       "</div>"
      ],
      "text/plain": [
       "                                                    text              label\n",
       "94965  This reaction is one word, chaotic. The voice ...  not_cyberbullying\n",
       "52896            I'm saying like https://t.co/4bRFCdK8ME  not_cyberbullying\n",
       "93881  @Sahid22866449 @BilalKareem Thankyou for fucki...           religion\n",
       "64627  @DanaSchwartzzz There’s something hilarious ab...  not_cyberbullying\n",
       "78798  brooklyne calling how to forget NYC 9/11 Attac...  not_cyberbullying\n",
       "76573  RT @joysamcyborg: Nazism has revisited Europe....           religion\n",
       "54152                                @Nicko7200 Big W 😂😂  not_cyberbullying\n",
       "89397  @PaoloGOATchero @iamlanfia @BleacherReport You...  not_cyberbullying\n",
       "71689  @nooruddin1970 @HateDetectors 2) I shared my u...           religion\n",
       "77146  @optimum our service in south College Station,...  not_cyberbullying"
      ]
     },
     "execution_count": 8,
     "metadata": {},
     "output_type": "execute_result"
    }
   ],
   "source": [
    "data_2.sample(10)"
   ]
  },
  {
   "cell_type": "code",
   "execution_count": 9,
   "id": "432e87ed",
   "metadata": {},
   "outputs": [
    {
     "name": "stdout",
     "output_type": "stream",
     "text": [
      "<class 'pandas.core.frame.DataFrame'>\n",
      "RangeIndex: 99990 entries, 0 to 99989\n",
      "Data columns (total 2 columns):\n",
      " #   Column  Non-Null Count  Dtype \n",
      "---  ------  --------------  ----- \n",
      " 0   text    99990 non-null  object\n",
      " 1   label   99990 non-null  object\n",
      "dtypes: object(2)\n",
      "memory usage: 1.5+ MB\n"
     ]
    }
   ],
   "source": [
    "data_2.info()"
   ]
  },
  {
   "cell_type": "code",
   "execution_count": 10,
   "id": "68b16a3e",
   "metadata": {},
   "outputs": [
    {
     "name": "stdout",
     "output_type": "stream",
     "text": [
      "<class 'pandas.core.frame.DataFrame'>\n",
      "Index: 99989 entries, 0 to 99989\n",
      "Data columns (total 2 columns):\n",
      " #   Column  Non-Null Count  Dtype \n",
      "---  ------  --------------  ----- \n",
      " 0   text    99989 non-null  object\n",
      " 1   label   99989 non-null  object\n",
      "dtypes: object(2)\n",
      "memory usage: 2.3+ MB\n"
     ]
    }
   ],
   "source": [
    "# Handle missing and duplicate values\n",
    "data_2.dropna(inplace=True)\n",
    "data_2.drop_duplicates(inplace=True)\n",
    "\n",
    "data_2.info()"
   ]
  },
  {
   "cell_type": "code",
   "execution_count": 11,
   "id": "ab42e78b",
   "metadata": {},
   "outputs": [
    {
     "data": {
      "text/plain": [
       "label\n",
       "not_cyberbullying    49999\n",
       "ethnicity/race       17000\n",
       "gender/sexual        17000\n",
       "religion             15990\n",
       "Name: count, dtype: int64"
      ]
     },
     "execution_count": 11,
     "metadata": {},
     "output_type": "execute_result"
    }
   ],
   "source": [
    "cyberbullying_types_count_2 = data_2['label'].value_counts()\n",
    "cyberbullying_types_count_2"
   ]
  },
  {
   "cell_type": "markdown",
   "id": "ca24257d",
   "metadata": {},
   "source": [
    "**Observations**:\n",
    "- Dataset 2 consists of 99,989 tweets that consist of four different classes: not_cyberbullying, religion, ethnicity/race, and gender/sexual\n",
    "- The dataset is designed to have an equal split of cyberbullying and non-cyberbullying values, which will facilitate in cyberbullying detection"
   ]
  },
  {
   "cell_type": "markdown",
   "id": "45c2e76d",
   "metadata": {},
   "source": [
    "To use both datasets, concatenation will be used. This requires renaming the following labels of Dataset 2 to be compatible with Dataset 1:\n",
    "- ethnicity/race --> ethnicity\n",
    "- gender/sexual --> gender </br>\n",
    "as well as changing the column names to match Dataset 1:\n",
    "- text --> tweet_text\n",
    "- label --> cyberbullying_type"
   ]
  },
  {
   "cell_type": "code",
   "execution_count": 12,
   "id": "9b61a215",
   "metadata": {},
   "outputs": [
    {
     "data": {
      "text/html": [
       "<div>\n",
       "<style scoped>\n",
       "    .dataframe tbody tr th:only-of-type {\n",
       "        vertical-align: middle;\n",
       "    }\n",
       "\n",
       "    .dataframe tbody tr th {\n",
       "        vertical-align: top;\n",
       "    }\n",
       "\n",
       "    .dataframe thead th {\n",
       "        text-align: right;\n",
       "    }\n",
       "</style>\n",
       "<table border=\"1\" class=\"dataframe\">\n",
       "  <thead>\n",
       "    <tr style=\"text-align: right;\">\n",
       "      <th></th>\n",
       "      <th>tweet_text</th>\n",
       "      <th>cyberbullying_type</th>\n",
       "    </tr>\n",
       "  </thead>\n",
       "  <tbody>\n",
       "    <tr>\n",
       "      <th>0</th>\n",
       "      <td>@ZubearSays Any real nigga isn't letting this ...</td>\n",
       "      <td>ethnicity</td>\n",
       "    </tr>\n",
       "    <tr>\n",
       "      <th>1</th>\n",
       "      <td>@MoradoSkittle @prolifejewess @DAConsult @Kell...</td>\n",
       "      <td>not_cyberbullying</td>\n",
       "    </tr>\n",
       "    <tr>\n",
       "      <th>2</th>\n",
       "      <td>the only thing i wish, i wish a nigga would</td>\n",
       "      <td>ethnicity</td>\n",
       "    </tr>\n",
       "    <tr>\n",
       "      <th>3</th>\n",
       "      <td>You saudias are not friends of Muslim idiots c...</td>\n",
       "      <td>religion</td>\n",
       "    </tr>\n",
       "    <tr>\n",
       "      <th>4</th>\n",
       "      <td>@JaydenT2399 @TractorLaw @holmes_gael @erconge...</td>\n",
       "      <td>religion</td>\n",
       "    </tr>\n",
       "    <tr>\n",
       "      <th>...</th>\n",
       "      <td>...</td>\n",
       "      <td>...</td>\n",
       "    </tr>\n",
       "    <tr>\n",
       "      <th>99985</th>\n",
       "      <td>Thank fuck they didn’t dance remix Peru #LoveI...</td>\n",
       "      <td>not_cyberbullying</td>\n",
       "    </tr>\n",
       "    <tr>\n",
       "      <th>99986</th>\n",
       "      <td>Sierra Canyon vs. Alemany - California High Sc...</td>\n",
       "      <td>not_cyberbullying</td>\n",
       "    </tr>\n",
       "    <tr>\n",
       "      <th>99987</th>\n",
       "      <td>@queenbellaxoxo @PontiacMadeDDG @HalleBailey B...</td>\n",
       "      <td>gender</td>\n",
       "    </tr>\n",
       "    <tr>\n",
       "      <th>99988</th>\n",
       "      <td>What you like yo nigga to call you</td>\n",
       "      <td>ethnicity</td>\n",
       "    </tr>\n",
       "    <tr>\n",
       "      <th>99989</th>\n",
       "      <td>@kirkfranklin Happy CAKE DAY 🌬🎂🎁🎈🎉</td>\n",
       "      <td>not_cyberbullying</td>\n",
       "    </tr>\n",
       "  </tbody>\n",
       "</table>\n",
       "<p>99989 rows × 2 columns</p>\n",
       "</div>"
      ],
      "text/plain": [
       "                                              tweet_text cyberbullying_type\n",
       "0      @ZubearSays Any real nigga isn't letting this ...          ethnicity\n",
       "1      @MoradoSkittle @prolifejewess @DAConsult @Kell...  not_cyberbullying\n",
       "2            the only thing i wish, i wish a nigga would          ethnicity\n",
       "3      You saudias are not friends of Muslim idiots c...           religion\n",
       "4      @JaydenT2399 @TractorLaw @holmes_gael @erconge...           religion\n",
       "...                                                  ...                ...\n",
       "99985  Thank fuck they didn’t dance remix Peru #LoveI...  not_cyberbullying\n",
       "99986  Sierra Canyon vs. Alemany - California High Sc...  not_cyberbullying\n",
       "99987  @queenbellaxoxo @PontiacMadeDDG @HalleBailey B...             gender\n",
       "99988                 What you like yo nigga to call you          ethnicity\n",
       "99989                 @kirkfranklin Happy CAKE DAY 🌬🎂🎁🎈🎉  not_cyberbullying\n",
       "\n",
       "[99989 rows x 2 columns]"
      ]
     },
     "execution_count": 12,
     "metadata": {},
     "output_type": "execute_result"
    }
   ],
   "source": [
    "# Renaming columns\n",
    "data_2.rename(columns={'text': 'tweet_text', 'label': 'cyberbullying_type'}, inplace=True)\n",
    "\n",
    "def relabel(label):\n",
    "    '''\n",
    "    Helper function to assist in relabeling.\n",
    "    '''\n",
    "    if label == 'ethnicity/race':\n",
    "        return 'ethnicity'\n",
    "    elif label == 'gender/sexual':\n",
    "        return 'gender'\n",
    "    else:\n",
    "        return label\n",
    "\n",
    "data_2['cyberbullying_type'] = data_2['cyberbullying_type'].apply(relabel)\n",
    "\n",
    "data_2"
   ]
  },
  {
   "cell_type": "code",
   "execution_count": 13,
   "id": "d11ca15d",
   "metadata": {},
   "outputs": [
    {
     "data": {
      "text/html": [
       "<div>\n",
       "<style scoped>\n",
       "    .dataframe tbody tr th:only-of-type {\n",
       "        vertical-align: middle;\n",
       "    }\n",
       "\n",
       "    .dataframe tbody tr th {\n",
       "        vertical-align: top;\n",
       "    }\n",
       "\n",
       "    .dataframe thead th {\n",
       "        text-align: right;\n",
       "    }\n",
       "</style>\n",
       "<table border=\"1\" class=\"dataframe\">\n",
       "  <thead>\n",
       "    <tr style=\"text-align: right;\">\n",
       "      <th></th>\n",
       "      <th>tweet_text</th>\n",
       "      <th>cyberbullying_type</th>\n",
       "    </tr>\n",
       "  </thead>\n",
       "  <tbody>\n",
       "    <tr>\n",
       "      <th>0</th>\n",
       "      <td>In other words #katandandre, your food was cra...</td>\n",
       "      <td>not_cyberbullying</td>\n",
       "    </tr>\n",
       "    <tr>\n",
       "      <th>1</th>\n",
       "      <td>Why is #aussietv so white? #MKR #theblock #ImA...</td>\n",
       "      <td>not_cyberbullying</td>\n",
       "    </tr>\n",
       "    <tr>\n",
       "      <th>2</th>\n",
       "      <td>@XochitlSuckkks a classy whore? Or more red ve...</td>\n",
       "      <td>not_cyberbullying</td>\n",
       "    </tr>\n",
       "    <tr>\n",
       "      <th>3</th>\n",
       "      <td>@Jason_Gio meh. :P  thanks for the heads up, b...</td>\n",
       "      <td>not_cyberbullying</td>\n",
       "    </tr>\n",
       "    <tr>\n",
       "      <th>4</th>\n",
       "      <td>@RudhoeEnglish This is an ISIS account pretend...</td>\n",
       "      <td>not_cyberbullying</td>\n",
       "    </tr>\n",
       "    <tr>\n",
       "      <th>...</th>\n",
       "      <td>...</td>\n",
       "      <td>...</td>\n",
       "    </tr>\n",
       "    <tr>\n",
       "      <th>147640</th>\n",
       "      <td>Thank fuck they didn’t dance remix Peru #LoveI...</td>\n",
       "      <td>not_cyberbullying</td>\n",
       "    </tr>\n",
       "    <tr>\n",
       "      <th>147641</th>\n",
       "      <td>Sierra Canyon vs. Alemany - California High Sc...</td>\n",
       "      <td>not_cyberbullying</td>\n",
       "    </tr>\n",
       "    <tr>\n",
       "      <th>147642</th>\n",
       "      <td>@queenbellaxoxo @PontiacMadeDDG @HalleBailey B...</td>\n",
       "      <td>gender</td>\n",
       "    </tr>\n",
       "    <tr>\n",
       "      <th>147643</th>\n",
       "      <td>What you like yo nigga to call you</td>\n",
       "      <td>ethnicity</td>\n",
       "    </tr>\n",
       "    <tr>\n",
       "      <th>147644</th>\n",
       "      <td>@kirkfranklin Happy CAKE DAY 🌬🎂🎁🎈🎉</td>\n",
       "      <td>not_cyberbullying</td>\n",
       "    </tr>\n",
       "  </tbody>\n",
       "</table>\n",
       "<p>147645 rows × 2 columns</p>\n",
       "</div>"
      ],
      "text/plain": [
       "                                               tweet_text cyberbullying_type\n",
       "0       In other words #katandandre, your food was cra...  not_cyberbullying\n",
       "1       Why is #aussietv so white? #MKR #theblock #ImA...  not_cyberbullying\n",
       "2       @XochitlSuckkks a classy whore? Or more red ve...  not_cyberbullying\n",
       "3       @Jason_Gio meh. :P  thanks for the heads up, b...  not_cyberbullying\n",
       "4       @RudhoeEnglish This is an ISIS account pretend...  not_cyberbullying\n",
       "...                                                   ...                ...\n",
       "147640  Thank fuck they didn’t dance remix Peru #LoveI...  not_cyberbullying\n",
       "147641  Sierra Canyon vs. Alemany - California High Sc...  not_cyberbullying\n",
       "147642  @queenbellaxoxo @PontiacMadeDDG @HalleBailey B...             gender\n",
       "147643                 What you like yo nigga to call you          ethnicity\n",
       "147644                 @kirkfranklin Happy CAKE DAY 🌬🎂🎁🎈🎉  not_cyberbullying\n",
       "\n",
       "[147645 rows x 2 columns]"
      ]
     },
     "execution_count": 13,
     "metadata": {},
     "output_type": "execute_result"
    }
   ],
   "source": [
    "# Append Dataset 1 and Dataset 2 using concat\n",
    "data = pd.concat([data_1, data_2], ignore_index=True)\n",
    "\n",
    "data"
   ]
  },
  {
   "cell_type": "code",
   "execution_count": 14,
   "id": "b617f39c",
   "metadata": {},
   "outputs": [
    {
     "name": "stdout",
     "output_type": "stream",
     "text": [
      "<class 'pandas.core.frame.DataFrame'>\n",
      "RangeIndex: 147645 entries, 0 to 147644\n",
      "Data columns (total 2 columns):\n",
      " #   Column              Non-Null Count   Dtype \n",
      "---  ------              --------------   ----- \n",
      " 0   tweet_text          147645 non-null  object\n",
      " 1   cyberbullying_type  147645 non-null  object\n",
      "dtypes: object(2)\n",
      "memory usage: 2.3+ MB\n"
     ]
    }
   ],
   "source": [
    "data.info()"
   ]
  },
  {
   "cell_type": "code",
   "execution_count": 15,
   "id": "baa74df3",
   "metadata": {},
   "outputs": [
    {
     "data": {
      "text/plain": [
       "cyberbullying_type\n",
       "not_cyberbullying      57936\n",
       "ethnicity              24959\n",
       "gender                 24948\n",
       "religion               23987\n",
       "age                     7992\n",
       "other_cyberbullying     7823\n",
       "Name: count, dtype: int64"
      ]
     },
     "execution_count": 15,
     "metadata": {},
     "output_type": "execute_result"
    }
   ],
   "source": [
    "cyberbullying_types_count = data['cyberbullying_type'].value_counts()\n",
    "cyberbullying_types_count"
   ]
  },
  {
   "cell_type": "markdown",
   "id": "132c70a2",
   "metadata": {},
   "source": [
    "**Observations**:\n",
    "- The resulting DataFrame has approximately 150,000 entries\n",
    "- The most abundant class is not_cyberbullying\n",
    "- The least abundant classes are age and other_cyberbullying\n",
    "    - This is due to Dataset 2 possessing a greater proportion of not_cyberbullying entries while not containing any age nor other_cyberbullying entries\n",
    "    - During the model building section, upsampling techniques such as SMOTE may be used to handle class imbalances"
   ]
  },
  {
   "cell_type": "markdown",
   "id": "8b44f8b5",
   "metadata": {},
   "source": [
    "## 2. **Feature engineering**"
   ]
  },
  {
   "cell_type": "markdown",
   "id": "1568d8aa",
   "metadata": {},
   "source": [
    "Create a new variable called 'cyberbullying' which is 0 when the text message is not cyberbullying and is 1 when the text message is cyberbullying. This is a form of encoding that will be used for binary classification (detection) as well as other data analysis."
   ]
  },
  {
   "cell_type": "code",
   "execution_count": 16,
   "id": "977510c1",
   "metadata": {},
   "outputs": [
    {
     "data": {
      "text/html": [
       "<div>\n",
       "<style scoped>\n",
       "    .dataframe tbody tr th:only-of-type {\n",
       "        vertical-align: middle;\n",
       "    }\n",
       "\n",
       "    .dataframe tbody tr th {\n",
       "        vertical-align: top;\n",
       "    }\n",
       "\n",
       "    .dataframe thead th {\n",
       "        text-align: right;\n",
       "    }\n",
       "</style>\n",
       "<table border=\"1\" class=\"dataframe\">\n",
       "  <thead>\n",
       "    <tr style=\"text-align: right;\">\n",
       "      <th></th>\n",
       "      <th>tweet_text</th>\n",
       "      <th>cyberbullying_type</th>\n",
       "      <th>cyberbullying</th>\n",
       "    </tr>\n",
       "  </thead>\n",
       "  <tbody>\n",
       "    <tr>\n",
       "      <th>44968</th>\n",
       "      <td>Yes! I heard of it after it had been out for a...</td>\n",
       "      <td>ethnicity</td>\n",
       "      <td>1</td>\n",
       "    </tr>\n",
       "    <tr>\n",
       "      <th>63109</th>\n",
       "      <td>“i cant wait to leave this house” yeah me too!...</td>\n",
       "      <td>gender</td>\n",
       "      <td>1</td>\n",
       "    </tr>\n",
       "    <tr>\n",
       "      <th>113434</th>\n",
       "      <td>@RobertPettis32 Bitch go fuck yourself hoe</td>\n",
       "      <td>gender</td>\n",
       "      <td>1</td>\n",
       "    </tr>\n",
       "    <tr>\n",
       "      <th>19633</th>\n",
       "      <td>&amp; u r a chutya paistani supporter hence by def...</td>\n",
       "      <td>religion</td>\n",
       "      <td>1</td>\n",
       "    </tr>\n",
       "    <tr>\n",
       "      <th>99363</th>\n",
       "      <td>ALMOST AT 600K???</td>\n",
       "      <td>not_cyberbullying</td>\n",
       "      <td>0</td>\n",
       "    </tr>\n",
       "    <tr>\n",
       "      <th>129269</th>\n",
       "      <td>I had no comeback...n I was ... idle hanged  c...</td>\n",
       "      <td>religion</td>\n",
       "      <td>1</td>\n",
       "    </tr>\n",
       "    <tr>\n",
       "      <th>121737</th>\n",
       "      <td>He wants to run away. He wants to hide, or fal...</td>\n",
       "      <td>not_cyberbullying</td>\n",
       "      <td>0</td>\n",
       "    </tr>\n",
       "    <tr>\n",
       "      <th>34511</th>\n",
       "      <td>She is the archetypal school bully</td>\n",
       "      <td>age</td>\n",
       "      <td>1</td>\n",
       "    </tr>\n",
       "    <tr>\n",
       "      <th>136046</th>\n",
       "      <td>@PhillipCruze Love your vibe. How about legisl...</td>\n",
       "      <td>not_cyberbullying</td>\n",
       "      <td>0</td>\n",
       "    </tr>\n",
       "    <tr>\n",
       "      <th>127306</th>\n",
       "      <td>#Biden is going down with the #Schiff!! #price...</td>\n",
       "      <td>not_cyberbullying</td>\n",
       "      <td>0</td>\n",
       "    </tr>\n",
       "  </tbody>\n",
       "</table>\n",
       "</div>"
      ],
      "text/plain": [
       "                                               tweet_text cyberbullying_type  \\\n",
       "44968   Yes! I heard of it after it had been out for a...          ethnicity   \n",
       "63109   “i cant wait to leave this house” yeah me too!...             gender   \n",
       "113434         @RobertPettis32 Bitch go fuck yourself hoe             gender   \n",
       "19633   & u r a chutya paistani supporter hence by def...           religion   \n",
       "99363                                   ALMOST AT 600K???  not_cyberbullying   \n",
       "129269  I had no comeback...n I was ... idle hanged  c...           religion   \n",
       "121737  He wants to run away. He wants to hide, or fal...  not_cyberbullying   \n",
       "34511                  She is the archetypal school bully                age   \n",
       "136046  @PhillipCruze Love your vibe. How about legisl...  not_cyberbullying   \n",
       "127306  #Biden is going down with the #Schiff!! #price...  not_cyberbullying   \n",
       "\n",
       "        cyberbullying  \n",
       "44968               1  \n",
       "63109               1  \n",
       "113434              1  \n",
       "19633               1  \n",
       "99363               0  \n",
       "129269              1  \n",
       "121737              0  \n",
       "34511               1  \n",
       "136046              0  \n",
       "127306              0  "
      ]
     },
     "execution_count": 16,
     "metadata": {},
     "output_type": "execute_result"
    }
   ],
   "source": [
    "data['cyberbullying'] = data['cyberbullying_type'].apply(lambda x: 0 if x == 'not_cyberbullying' else 1)\n",
    "\n",
    "data.sample(10)"
   ]
  },
  {
   "cell_type": "markdown",
   "id": "fd04e37e",
   "metadata": {},
   "source": [
    "Create a new variable called 'word_count' which displays the number of words in 'tweet_text'."
   ]
  },
  {
   "cell_type": "code",
   "execution_count": 17,
   "id": "71ac5a6c",
   "metadata": {},
   "outputs": [
    {
     "data": {
      "text/html": [
       "<div>\n",
       "<style scoped>\n",
       "    .dataframe tbody tr th:only-of-type {\n",
       "        vertical-align: middle;\n",
       "    }\n",
       "\n",
       "    .dataframe tbody tr th {\n",
       "        vertical-align: top;\n",
       "    }\n",
       "\n",
       "    .dataframe thead th {\n",
       "        text-align: right;\n",
       "    }\n",
       "</style>\n",
       "<table border=\"1\" class=\"dataframe\">\n",
       "  <thead>\n",
       "    <tr style=\"text-align: right;\">\n",
       "      <th></th>\n",
       "      <th>tweet_text</th>\n",
       "      <th>cyberbullying_type</th>\n",
       "      <th>cyberbullying</th>\n",
       "      <th>word_count</th>\n",
       "    </tr>\n",
       "  </thead>\n",
       "  <tbody>\n",
       "    <tr>\n",
       "      <th>66826</th>\n",
       "      <td>Thanks, I hate it\\nThe toys will probably look...</td>\n",
       "      <td>not_cyberbullying</td>\n",
       "      <td>0</td>\n",
       "      <td>81</td>\n",
       "    </tr>\n",
       "    <tr>\n",
       "      <th>115830</th>\n",
       "      <td>@wyonaf I wish he and Katie Porter were not ru...</td>\n",
       "      <td>not_cyberbullying</td>\n",
       "      <td>0</td>\n",
       "      <td>94</td>\n",
       "    </tr>\n",
       "    <tr>\n",
       "      <th>130569</th>\n",
       "      <td>@MonaAmbegaonkar @reachind_uk @WasiqUK @KapilM...</td>\n",
       "      <td>religion</td>\n",
       "      <td>1</td>\n",
       "      <td>364</td>\n",
       "    </tr>\n",
       "    <tr>\n",
       "      <th>15172</th>\n",
       "      <td>@NrdRgeRenegades when you go ahead and try to ...</td>\n",
       "      <td>gender</td>\n",
       "      <td>1</td>\n",
       "      <td>137</td>\n",
       "    </tr>\n",
       "    <tr>\n",
       "      <th>91558</th>\n",
       "      <td>@BrotiGupta true love is what it is</td>\n",
       "      <td>not_cyberbullying</td>\n",
       "      <td>0</td>\n",
       "      <td>35</td>\n",
       "    </tr>\n",
       "    <tr>\n",
       "      <th>143038</th>\n",
       "      <td>@AbdulTheArabGuy I just avoid fanbases. Honest...</td>\n",
       "      <td>gender</td>\n",
       "      <td>1</td>\n",
       "      <td>296</td>\n",
       "    </tr>\n",
       "    <tr>\n",
       "      <th>51905</th>\n",
       "      <td>You may come with 1000 of useless stories but ...</td>\n",
       "      <td>religion</td>\n",
       "      <td>1</td>\n",
       "      <td>222</td>\n",
       "    </tr>\n",
       "    <tr>\n",
       "      <th>47745</th>\n",
       "      <td>@LAxFLAME That drip nigga ‼️</td>\n",
       "      <td>ethnicity</td>\n",
       "      <td>1</td>\n",
       "      <td>28</td>\n",
       "    </tr>\n",
       "    <tr>\n",
       "      <th>20396</th>\n",
       "      <td>Radical RW conspiracy nutjob &amp;amp; alleged “fi...</td>\n",
       "      <td>religion</td>\n",
       "      <td>1</td>\n",
       "      <td>221</td>\n",
       "    </tr>\n",
       "    <tr>\n",
       "      <th>73464</th>\n",
       "      <td>@maarrii_19 LMFAAAOO *bald pussy bitch respect...</td>\n",
       "      <td>gender</td>\n",
       "      <td>1</td>\n",
       "      <td>58</td>\n",
       "    </tr>\n",
       "  </tbody>\n",
       "</table>\n",
       "</div>"
      ],
      "text/plain": [
       "                                               tweet_text cyberbullying_type  \\\n",
       "66826   Thanks, I hate it\\nThe toys will probably look...  not_cyberbullying   \n",
       "115830  @wyonaf I wish he and Katie Porter were not ru...  not_cyberbullying   \n",
       "130569  @MonaAmbegaonkar @reachind_uk @WasiqUK @KapilM...           religion   \n",
       "15172   @NrdRgeRenegades when you go ahead and try to ...             gender   \n",
       "91558                 @BrotiGupta true love is what it is  not_cyberbullying   \n",
       "143038  @AbdulTheArabGuy I just avoid fanbases. Honest...             gender   \n",
       "51905   You may come with 1000 of useless stories but ...           religion   \n",
       "47745                        @LAxFLAME That drip nigga ‼️          ethnicity   \n",
       "20396   Radical RW conspiracy nutjob &amp; alleged “fi...           religion   \n",
       "73464   @maarrii_19 LMFAAAOO *bald pussy bitch respect...             gender   \n",
       "\n",
       "        cyberbullying  word_count  \n",
       "66826               0          81  \n",
       "115830              0          94  \n",
       "130569              1         364  \n",
       "15172               1         137  \n",
       "91558               0          35  \n",
       "143038              1         296  \n",
       "51905               1         222  \n",
       "47745               1          28  \n",
       "20396               1         221  \n",
       "73464               1          58  "
      ]
     },
     "execution_count": 17,
     "metadata": {},
     "output_type": "execute_result"
    }
   ],
   "source": [
    "data['word_count'] = data['tweet_text'].apply(len)\n",
    "\n",
    "data.sample(10)"
   ]
  },
  {
   "cell_type": "markdown",
   "id": "7b2d9e39",
   "metadata": {},
   "source": [
    "Create a new variable called 'emoji_count' which displays the number of emoticons in 'tweet_text'. The emoji library will be used to count emoticons."
   ]
  },
  {
   "cell_type": "code",
   "execution_count": 18,
   "id": "dc5db450",
   "metadata": {},
   "outputs": [
    {
     "data": {
      "text/html": [
       "<div>\n",
       "<style scoped>\n",
       "    .dataframe tbody tr th:only-of-type {\n",
       "        vertical-align: middle;\n",
       "    }\n",
       "\n",
       "    .dataframe tbody tr th {\n",
       "        vertical-align: top;\n",
       "    }\n",
       "\n",
       "    .dataframe thead th {\n",
       "        text-align: right;\n",
       "    }\n",
       "</style>\n",
       "<table border=\"1\" class=\"dataframe\">\n",
       "  <thead>\n",
       "    <tr style=\"text-align: right;\">\n",
       "      <th></th>\n",
       "      <th>tweet_text</th>\n",
       "      <th>cyberbullying_type</th>\n",
       "      <th>cyberbullying</th>\n",
       "      <th>word_count</th>\n",
       "      <th>emoji_count</th>\n",
       "    </tr>\n",
       "  </thead>\n",
       "  <tbody>\n",
       "    <tr>\n",
       "      <th>65361</th>\n",
       "      <td>@_d_n_verg_ @stevesalaita Palestinians are hal...</td>\n",
       "      <td>religion</td>\n",
       "      <td>1</td>\n",
       "      <td>135</td>\n",
       "      <td>0</td>\n",
       "    </tr>\n",
       "    <tr>\n",
       "      <th>114721</th>\n",
       "      <td>When did people start calling ordering appetiz...</td>\n",
       "      <td>gender</td>\n",
       "      <td>1</td>\n",
       "      <td>104</td>\n",
       "      <td>0</td>\n",
       "    </tr>\n",
       "    <tr>\n",
       "      <th>34809</th>\n",
       "      <td>I know this is going to sound terrible but I l...</td>\n",
       "      <td>age</td>\n",
       "      <td>1</td>\n",
       "      <td>216</td>\n",
       "      <td>0</td>\n",
       "    </tr>\n",
       "    <tr>\n",
       "      <th>109496</th>\n",
       "      <td>It’s on honestly wild to me how y’all can hate...</td>\n",
       "      <td>ethnicity</td>\n",
       "      <td>1</td>\n",
       "      <td>126</td>\n",
       "      <td>0</td>\n",
       "    </tr>\n",
       "    <tr>\n",
       "      <th>80461</th>\n",
       "      <td>@bnc_cult Fuck My Big Phat Pretty Light Skinne...</td>\n",
       "      <td>ethnicity</td>\n",
       "      <td>1</td>\n",
       "      <td>88</td>\n",
       "      <td>0</td>\n",
       "    </tr>\n",
       "    <tr>\n",
       "      <th>13037</th>\n",
       "      <td>Whatya know, Kat is still a cunt! #MKR</td>\n",
       "      <td>gender</td>\n",
       "      <td>1</td>\n",
       "      <td>38</td>\n",
       "      <td>0</td>\n",
       "    </tr>\n",
       "    <tr>\n",
       "      <th>85997</th>\n",
       "      <td>First things first-I am a girls girl, but ever...</td>\n",
       "      <td>ethnicity</td>\n",
       "      <td>1</td>\n",
       "      <td>200</td>\n",
       "      <td>0</td>\n",
       "    </tr>\n",
       "    <tr>\n",
       "      <th>6097</th>\n",
       "      <td>@MrFootball42 naptime!</td>\n",
       "      <td>not_cyberbullying</td>\n",
       "      <td>0</td>\n",
       "      <td>22</td>\n",
       "      <td>0</td>\n",
       "    </tr>\n",
       "    <tr>\n",
       "      <th>123073</th>\n",
       "      <td>Emily black leaked only fans</td>\n",
       "      <td>not_cyberbullying</td>\n",
       "      <td>0</td>\n",
       "      <td>28</td>\n",
       "      <td>0</td>\n",
       "    </tr>\n",
       "    <tr>\n",
       "      <th>67526</th>\n",
       "      <td>@phillipbanksss I went to valley wit niggas th...</td>\n",
       "      <td>ethnicity</td>\n",
       "      <td>1</td>\n",
       "      <td>117</td>\n",
       "      <td>0</td>\n",
       "    </tr>\n",
       "  </tbody>\n",
       "</table>\n",
       "</div>"
      ],
      "text/plain": [
       "                                               tweet_text cyberbullying_type  \\\n",
       "65361   @_d_n_verg_ @stevesalaita Palestinians are hal...           religion   \n",
       "114721  When did people start calling ordering appetiz...             gender   \n",
       "34809   I know this is going to sound terrible but I l...                age   \n",
       "109496  It’s on honestly wild to me how y’all can hate...          ethnicity   \n",
       "80461   @bnc_cult Fuck My Big Phat Pretty Light Skinne...          ethnicity   \n",
       "13037              Whatya know, Kat is still a cunt! #MKR             gender   \n",
       "85997   First things first-I am a girls girl, but ever...          ethnicity   \n",
       "6097                               @MrFootball42 naptime!  not_cyberbullying   \n",
       "123073                       Emily black leaked only fans  not_cyberbullying   \n",
       "67526   @phillipbanksss I went to valley wit niggas th...          ethnicity   \n",
       "\n",
       "        cyberbullying  word_count  emoji_count  \n",
       "65361               1         135            0  \n",
       "114721              1         104            0  \n",
       "34809               1         216            0  \n",
       "109496              1         126            0  \n",
       "80461               1          88            0  \n",
       "13037               1          38            0  \n",
       "85997               1         200            0  \n",
       "6097                0          22            0  \n",
       "123073              0          28            0  \n",
       "67526               1         117            0  "
      ]
     },
     "execution_count": 18,
     "metadata": {},
     "output_type": "execute_result"
    }
   ],
   "source": [
    "data['emoji_count'] = data['tweet_text'].apply(emoji_count)\n",
    "\n",
    "data.sample(10)"
   ]
  },
  {
   "cell_type": "markdown",
   "id": "22cd4916",
   "metadata": {},
   "source": [
    "Create a new variable called 'profanity' which is 1 if swear words and/or offensive language were used in 'tweet_text' and 0 if none were used. The alt-profanity-check library uses Support Vector Machines for high accuracy profanity detection."
   ]
  },
  {
   "cell_type": "code",
   "execution_count": 19,
   "id": "e170c85c",
   "metadata": {},
   "outputs": [],
   "source": [
    "def detect_profanity(text):\n",
    "    '''\n",
    "    Helper function for detecting profanity.\n",
    "    '''\n",
    "    pred = predict([text])\n",
    "    return pred[0]"
   ]
  },
  {
   "cell_type": "code",
   "execution_count": 20,
   "id": "a445f6bf",
   "metadata": {},
   "outputs": [
    {
     "data": {
      "text/html": [
       "<div>\n",
       "<style scoped>\n",
       "    .dataframe tbody tr th:only-of-type {\n",
       "        vertical-align: middle;\n",
       "    }\n",
       "\n",
       "    .dataframe tbody tr th {\n",
       "        vertical-align: top;\n",
       "    }\n",
       "\n",
       "    .dataframe thead th {\n",
       "        text-align: right;\n",
       "    }\n",
       "</style>\n",
       "<table border=\"1\" class=\"dataframe\">\n",
       "  <thead>\n",
       "    <tr style=\"text-align: right;\">\n",
       "      <th></th>\n",
       "      <th>tweet_text</th>\n",
       "      <th>cyberbullying_type</th>\n",
       "      <th>cyberbullying</th>\n",
       "      <th>word_count</th>\n",
       "      <th>emoji_count</th>\n",
       "      <th>profanity</th>\n",
       "    </tr>\n",
       "  </thead>\n",
       "  <tbody>\n",
       "    <tr>\n",
       "      <th>144771</th>\n",
       "      <td>@prettyboithean Because I would always choose ...</td>\n",
       "      <td>gender</td>\n",
       "      <td>1</td>\n",
       "      <td>159</td>\n",
       "      <td>2</td>\n",
       "      <td>1</td>\n",
       "    </tr>\n",
       "    <tr>\n",
       "      <th>11248</th>\n",
       "      <td>So @RepTedYoho’s first interaction with a fema...</td>\n",
       "      <td>gender</td>\n",
       "      <td>1</td>\n",
       "      <td>149</td>\n",
       "      <td>0</td>\n",
       "      <td>1</td>\n",
       "    </tr>\n",
       "    <tr>\n",
       "      <th>6601</th>\n",
       "      <td>@Strubbestition yeah I fucking thought so.</td>\n",
       "      <td>not_cyberbullying</td>\n",
       "      <td>0</td>\n",
       "      <td>42</td>\n",
       "      <td>0</td>\n",
       "      <td>1</td>\n",
       "    </tr>\n",
       "    <tr>\n",
       "      <th>95134</th>\n",
       "      <td>Companies are choosing Denver to resettle, inc...</td>\n",
       "      <td>not_cyberbullying</td>\n",
       "      <td>0</td>\n",
       "      <td>268</td>\n",
       "      <td>0</td>\n",
       "      <td>0</td>\n",
       "    </tr>\n",
       "    <tr>\n",
       "      <th>93133</th>\n",
       "      <td>@TimesNow @deepduttajourno @prathibhatweets NY...</td>\n",
       "      <td>religion</td>\n",
       "      <td>1</td>\n",
       "      <td>324</td>\n",
       "      <td>0</td>\n",
       "      <td>0</td>\n",
       "    </tr>\n",
       "    <tr>\n",
       "      <th>69267</th>\n",
       "      <td>@AndyGJBurge Any gambling logos yet Andy? Seem...</td>\n",
       "      <td>not_cyberbullying</td>\n",
       "      <td>0</td>\n",
       "      <td>129</td>\n",
       "      <td>0</td>\n",
       "      <td>0</td>\n",
       "    </tr>\n",
       "    <tr>\n",
       "      <th>52398</th>\n",
       "      <td>Getting yourself into this mess got you demoted.</td>\n",
       "      <td>not_cyberbullying</td>\n",
       "      <td>0</td>\n",
       "      <td>48</td>\n",
       "      <td>0</td>\n",
       "      <td>0</td>\n",
       "    </tr>\n",
       "    <tr>\n",
       "      <th>107059</th>\n",
       "      <td>@shalonmarie @bennyjohnson Race has nothing to...</td>\n",
       "      <td>religion</td>\n",
       "      <td>1</td>\n",
       "      <td>97</td>\n",
       "      <td>0</td>\n",
       "      <td>0</td>\n",
       "    </tr>\n",
       "    <tr>\n",
       "      <th>49739</th>\n",
       "      <td>@RemoteIAH @jmahler3 @Mike26928902 @NovelVaria...</td>\n",
       "      <td>religion</td>\n",
       "      <td>1</td>\n",
       "      <td>357</td>\n",
       "      <td>1</td>\n",
       "      <td>0</td>\n",
       "    </tr>\n",
       "    <tr>\n",
       "      <th>142103</th>\n",
       "      <td>Like us on tweeter and Facebook https://t.co/j...</td>\n",
       "      <td>not_cyberbullying</td>\n",
       "      <td>0</td>\n",
       "      <td>55</td>\n",
       "      <td>0</td>\n",
       "      <td>0</td>\n",
       "    </tr>\n",
       "  </tbody>\n",
       "</table>\n",
       "</div>"
      ],
      "text/plain": [
       "                                               tweet_text cyberbullying_type  \\\n",
       "144771  @prettyboithean Because I would always choose ...             gender   \n",
       "11248   So @RepTedYoho’s first interaction with a fema...             gender   \n",
       "6601           @Strubbestition yeah I fucking thought so.  not_cyberbullying   \n",
       "95134   Companies are choosing Denver to resettle, inc...  not_cyberbullying   \n",
       "93133   @TimesNow @deepduttajourno @prathibhatweets NY...           religion   \n",
       "69267   @AndyGJBurge Any gambling logos yet Andy? Seem...  not_cyberbullying   \n",
       "52398    Getting yourself into this mess got you demoted.  not_cyberbullying   \n",
       "107059  @shalonmarie @bennyjohnson Race has nothing to...           religion   \n",
       "49739   @RemoteIAH @jmahler3 @Mike26928902 @NovelVaria...           religion   \n",
       "142103  Like us on tweeter and Facebook https://t.co/j...  not_cyberbullying   \n",
       "\n",
       "        cyberbullying  word_count  emoji_count  profanity  \n",
       "144771              1         159            2          1  \n",
       "11248               1         149            0          1  \n",
       "6601                0          42            0          1  \n",
       "95134               0         268            0          0  \n",
       "93133               1         324            0          0  \n",
       "69267               0         129            0          0  \n",
       "52398               0          48            0          0  \n",
       "107059              1          97            0          0  \n",
       "49739               1         357            1          0  \n",
       "142103              0          55            0          0  "
      ]
     },
     "execution_count": 20,
     "metadata": {},
     "output_type": "execute_result"
    }
   ],
   "source": [
    "data['profanity'] = data['tweet_text'].apply(detect_profanity)\n",
    "\n",
    "data.sample(10)"
   ]
  },
  {
   "cell_type": "code",
   "execution_count": 21,
   "id": "89918c43",
   "metadata": {},
   "outputs": [
    {
     "data": {
      "text/html": [
       "<div>\n",
       "<style scoped>\n",
       "    .dataframe tbody tr th:only-of-type {\n",
       "        vertical-align: middle;\n",
       "    }\n",
       "\n",
       "    .dataframe tbody tr th {\n",
       "        vertical-align: top;\n",
       "    }\n",
       "\n",
       "    .dataframe thead th {\n",
       "        text-align: right;\n",
       "    }\n",
       "</style>\n",
       "<table border=\"1\" class=\"dataframe\">\n",
       "  <thead>\n",
       "    <tr style=\"text-align: right;\">\n",
       "      <th></th>\n",
       "      <th>count</th>\n",
       "      <th>mean</th>\n",
       "      <th>std</th>\n",
       "      <th>min</th>\n",
       "      <th>25%</th>\n",
       "      <th>50%</th>\n",
       "      <th>75%</th>\n",
       "      <th>max</th>\n",
       "    </tr>\n",
       "  </thead>\n",
       "  <tbody>\n",
       "    <tr>\n",
       "      <th>cyberbullying</th>\n",
       "      <td>147645.0</td>\n",
       "      <td>0.607599</td>\n",
       "      <td>0.488287</td>\n",
       "      <td>0.0</td>\n",
       "      <td>0.0</td>\n",
       "      <td>1.0</td>\n",
       "      <td>1.0</td>\n",
       "      <td>1.0</td>\n",
       "    </tr>\n",
       "    <tr>\n",
       "      <th>word_count</th>\n",
       "      <td>147645.0</td>\n",
       "      <td>131.056575</td>\n",
       "      <td>82.584336</td>\n",
       "      <td>1.0</td>\n",
       "      <td>68.0</td>\n",
       "      <td>111.0</td>\n",
       "      <td>177.0</td>\n",
       "      <td>5018.0</td>\n",
       "    </tr>\n",
       "    <tr>\n",
       "      <th>emoji_count</th>\n",
       "      <td>147645.0</td>\n",
       "      <td>0.312703</td>\n",
       "      <td>1.326426</td>\n",
       "      <td>0.0</td>\n",
       "      <td>0.0</td>\n",
       "      <td>0.0</td>\n",
       "      <td>0.0</td>\n",
       "      <td>128.0</td>\n",
       "    </tr>\n",
       "    <tr>\n",
       "      <th>profanity</th>\n",
       "      <td>147645.0</td>\n",
       "      <td>0.380710</td>\n",
       "      <td>0.485563</td>\n",
       "      <td>0.0</td>\n",
       "      <td>0.0</td>\n",
       "      <td>0.0</td>\n",
       "      <td>1.0</td>\n",
       "      <td>1.0</td>\n",
       "    </tr>\n",
       "  </tbody>\n",
       "</table>\n",
       "</div>"
      ],
      "text/plain": [
       "                  count        mean        std  min   25%    50%    75%  \\\n",
       "cyberbullying  147645.0    0.607599   0.488287  0.0   0.0    1.0    1.0   \n",
       "word_count     147645.0  131.056575  82.584336  1.0  68.0  111.0  177.0   \n",
       "emoji_count    147645.0    0.312703   1.326426  0.0   0.0    0.0    0.0   \n",
       "profanity      147645.0    0.380710   0.485563  0.0   0.0    0.0    1.0   \n",
       "\n",
       "                  max  \n",
       "cyberbullying     1.0  \n",
       "word_count     5018.0  \n",
       "emoji_count     128.0  \n",
       "profanity         1.0  "
      ]
     },
     "execution_count": 21,
     "metadata": {},
     "output_type": "execute_result"
    }
   ],
   "source": [
    "data.describe().T"
   ]
  },
  {
   "cell_type": "markdown",
   "id": "86c3e0fb",
   "metadata": {},
   "source": [
    "**Observation(s)**:\n",
    "- The average word count is approximately 131 words and the max word count is 5018 words\n",
    "- The average emoji count is approximately 0.313 emojis and the max emoji count is 128 emojis!"
   ]
  },
  {
   "cell_type": "markdown",
   "id": "eb93e904",
   "metadata": {},
   "source": [
    "Normalize variables such as 'word_count' and 'emoji_count'"
   ]
  },
  {
   "cell_type": "code",
   "execution_count": 22,
   "id": "fd692e86",
   "metadata": {},
   "outputs": [
    {
     "data": {
      "text/html": [
       "<div>\n",
       "<style scoped>\n",
       "    .dataframe tbody tr th:only-of-type {\n",
       "        vertical-align: middle;\n",
       "    }\n",
       "\n",
       "    .dataframe tbody tr th {\n",
       "        vertical-align: top;\n",
       "    }\n",
       "\n",
       "    .dataframe thead th {\n",
       "        text-align: right;\n",
       "    }\n",
       "</style>\n",
       "<table border=\"1\" class=\"dataframe\">\n",
       "  <thead>\n",
       "    <tr style=\"text-align: right;\">\n",
       "      <th></th>\n",
       "      <th>tweet_text</th>\n",
       "      <th>cyberbullying_type</th>\n",
       "      <th>cyberbullying</th>\n",
       "      <th>profanity</th>\n",
       "      <th>word_count_scaled</th>\n",
       "      <th>emoji_count_scaled</th>\n",
       "    </tr>\n",
       "  </thead>\n",
       "  <tbody>\n",
       "    <tr>\n",
       "      <th>115740</th>\n",
       "      <td>@ChrisColeman957 @theblaze Freedom of religion...</td>\n",
       "      <td>religion</td>\n",
       "      <td>1</td>\n",
       "      <td>0</td>\n",
       "      <td>0.047638</td>\n",
       "      <td>0.007812</td>\n",
       "    </tr>\n",
       "    <tr>\n",
       "      <th>69382</th>\n",
       "      <td>@reginalddhunter I doubt.... may be white stud...</td>\n",
       "      <td>not_cyberbullying</td>\n",
       "      <td>0</td>\n",
       "      <td>0</td>\n",
       "      <td>0.015746</td>\n",
       "      <td>0.000000</td>\n",
       "    </tr>\n",
       "    <tr>\n",
       "      <th>19891</th>\n",
       "      <td>Christian, really, 8 links to support all the ...</td>\n",
       "      <td>religion</td>\n",
       "      <td>1</td>\n",
       "      <td>0</td>\n",
       "      <td>0.054614</td>\n",
       "      <td>0.000000</td>\n",
       "    </tr>\n",
       "    <tr>\n",
       "      <th>68752</th>\n",
       "      <td>@_sayema That's why women protesting in Iran w...</td>\n",
       "      <td>religion</td>\n",
       "      <td>1</td>\n",
       "      <td>0</td>\n",
       "      <td>0.053418</td>\n",
       "      <td>0.000000</td>\n",
       "    </tr>\n",
       "    <tr>\n",
       "      <th>19751</th>\n",
       "      <td>Do even hv a clue that most of the terrorists ...</td>\n",
       "      <td>religion</td>\n",
       "      <td>1</td>\n",
       "      <td>1</td>\n",
       "      <td>0.049033</td>\n",
       "      <td>0.000000</td>\n",
       "    </tr>\n",
       "    <tr>\n",
       "      <th>94402</th>\n",
       "      <td>@mv_pfr @tonyhawkfan99 No because their scient...</td>\n",
       "      <td>religion</td>\n",
       "      <td>1</td>\n",
       "      <td>0</td>\n",
       "      <td>0.054814</td>\n",
       "      <td>0.007812</td>\n",
       "    </tr>\n",
       "    <tr>\n",
       "      <th>131973</th>\n",
       "      <td>Breakfast: Bacon, Egg, and Cheese McGriddle me...</td>\n",
       "      <td>not_cyberbullying</td>\n",
       "      <td>0</td>\n",
       "      <td>0</td>\n",
       "      <td>0.038071</td>\n",
       "      <td>0.000000</td>\n",
       "    </tr>\n",
       "    <tr>\n",
       "      <th>85742</th>\n",
       "      <td>@calbert_14 @RwSlocum @bosden303 @benshapiro N...</td>\n",
       "      <td>not_cyberbullying</td>\n",
       "      <td>0</td>\n",
       "      <td>0</td>\n",
       "      <td>0.023121</td>\n",
       "      <td>0.000000</td>\n",
       "    </tr>\n",
       "    <tr>\n",
       "      <th>68272</th>\n",
       "      <td>@FightHaven Is this really a true story? Wow.</td>\n",
       "      <td>not_cyberbullying</td>\n",
       "      <td>0</td>\n",
       "      <td>0</td>\n",
       "      <td>0.008770</td>\n",
       "      <td>0.000000</td>\n",
       "    </tr>\n",
       "    <tr>\n",
       "      <th>135230</th>\n",
       "      <td>@Timcast &amp;gt; For now health officials are sti...</td>\n",
       "      <td>not_cyberbullying</td>\n",
       "      <td>0</td>\n",
       "      <td>0</td>\n",
       "      <td>0.033088</td>\n",
       "      <td>0.000000</td>\n",
       "    </tr>\n",
       "  </tbody>\n",
       "</table>\n",
       "</div>"
      ],
      "text/plain": [
       "                                               tweet_text cyberbullying_type  \\\n",
       "115740  @ChrisColeman957 @theblaze Freedom of religion...           religion   \n",
       "69382   @reginalddhunter I doubt.... may be white stud...  not_cyberbullying   \n",
       "19891   Christian, really, 8 links to support all the ...           religion   \n",
       "68752   @_sayema That's why women protesting in Iran w...           religion   \n",
       "19751   Do even hv a clue that most of the terrorists ...           religion   \n",
       "94402   @mv_pfr @tonyhawkfan99 No because their scient...           religion   \n",
       "131973  Breakfast: Bacon, Egg, and Cheese McGriddle me...  not_cyberbullying   \n",
       "85742   @calbert_14 @RwSlocum @bosden303 @benshapiro N...  not_cyberbullying   \n",
       "68272       @FightHaven Is this really a true story? Wow.  not_cyberbullying   \n",
       "135230  @Timcast &gt; For now health officials are sti...  not_cyberbullying   \n",
       "\n",
       "        cyberbullying  profanity  word_count_scaled  emoji_count_scaled  \n",
       "115740              1          0           0.047638            0.007812  \n",
       "69382               0          0           0.015746            0.000000  \n",
       "19891               1          0           0.054614            0.000000  \n",
       "68752               1          0           0.053418            0.000000  \n",
       "19751               1          1           0.049033            0.000000  \n",
       "94402               1          0           0.054814            0.007812  \n",
       "131973              0          0           0.038071            0.000000  \n",
       "85742               0          0           0.023121            0.000000  \n",
       "68272               0          0           0.008770            0.000000  \n",
       "135230              0          0           0.033088            0.000000  "
      ]
     },
     "execution_count": 22,
     "metadata": {},
     "output_type": "execute_result"
    }
   ],
   "source": [
    "scaler = MinMaxScaler()\n",
    "\n",
    "scaled_data = data.copy()\n",
    "scaled_data['word_count_scaled'] = scaler.fit_transform(scaled_data[['word_count']])\n",
    "scaled_data['emoji_count_scaled'] = scaler.fit_transform(scaled_data[['emoji_count']])\n",
    "\n",
    "scaled_data.drop(columns=['word_count', 'emoji_count'], axis=1, inplace=True)\n",
    "\n",
    "scaled_data.sample(10)"
   ]
  },
  {
   "cell_type": "markdown",
   "id": "606f057b",
   "metadata": {},
   "source": [
    "Encode categorical variable 'cyberbullying_type' using One-Hot Encoding."
   ]
  },
  {
   "cell_type": "code",
   "execution_count": 23,
   "id": "9d56de39",
   "metadata": {},
   "outputs": [
    {
     "data": {
      "text/html": [
       "<div>\n",
       "<style scoped>\n",
       "    .dataframe tbody tr th:only-of-type {\n",
       "        vertical-align: middle;\n",
       "    }\n",
       "\n",
       "    .dataframe tbody tr th {\n",
       "        vertical-align: top;\n",
       "    }\n",
       "\n",
       "    .dataframe thead th {\n",
       "        text-align: right;\n",
       "    }\n",
       "</style>\n",
       "<table border=\"1\" class=\"dataframe\">\n",
       "  <thead>\n",
       "    <tr style=\"text-align: right;\">\n",
       "      <th></th>\n",
       "      <th>tweet_text</th>\n",
       "      <th>cyberbullying</th>\n",
       "      <th>profanity</th>\n",
       "      <th>word_count_scaled</th>\n",
       "      <th>emoji_count_scaled</th>\n",
       "      <th>cyberbullying_type_age</th>\n",
       "      <th>cyberbullying_type_ethnicity</th>\n",
       "      <th>cyberbullying_type_gender</th>\n",
       "      <th>cyberbullying_type_other_cyberbullying</th>\n",
       "      <th>cyberbullying_type_religion</th>\n",
       "    </tr>\n",
       "  </thead>\n",
       "  <tbody>\n",
       "    <tr>\n",
       "      <th>114248</th>\n",
       "      <td>@Ddarmoni406 He said the same thing about Jaso...</td>\n",
       "      <td>0</td>\n",
       "      <td>0</td>\n",
       "      <td>0.019932</td>\n",
       "      <td>0.000000</td>\n",
       "      <td>0</td>\n",
       "      <td>0</td>\n",
       "      <td>0</td>\n",
       "      <td>0</td>\n",
       "      <td>0</td>\n",
       "    </tr>\n",
       "    <tr>\n",
       "      <th>129957</th>\n",
       "      <td>@alwaysc77289952 @malrubius @JeremyBell79 @nyt...</td>\n",
       "      <td>1</td>\n",
       "      <td>0</td>\n",
       "      <td>0.063982</td>\n",
       "      <td>0.000000</td>\n",
       "      <td>0</td>\n",
       "      <td>0</td>\n",
       "      <td>0</td>\n",
       "      <td>0</td>\n",
       "      <td>1</td>\n",
       "    </tr>\n",
       "    <tr>\n",
       "      <th>145419</th>\n",
       "      <td>I certainly hope so https://t.co/bSiv94aHi2</td>\n",
       "      <td>0</td>\n",
       "      <td>0</td>\n",
       "      <td>0.008372</td>\n",
       "      <td>0.000000</td>\n",
       "      <td>0</td>\n",
       "      <td>0</td>\n",
       "      <td>0</td>\n",
       "      <td>0</td>\n",
       "      <td>0</td>\n",
       "    </tr>\n",
       "    <tr>\n",
       "      <th>142506</th>\n",
       "      <td>Lakeyah on shaderoom talking about bitches loo...</td>\n",
       "      <td>1</td>\n",
       "      <td>1</td>\n",
       "      <td>0.024517</td>\n",
       "      <td>0.015625</td>\n",
       "      <td>0</td>\n",
       "      <td>1</td>\n",
       "      <td>0</td>\n",
       "      <td>0</td>\n",
       "      <td>0</td>\n",
       "    </tr>\n",
       "    <tr>\n",
       "      <th>24012</th>\n",
       "      <td>@voretaq7 @chilblane i'm sorry. :(</td>\n",
       "      <td>1</td>\n",
       "      <td>0</td>\n",
       "      <td>0.006578</td>\n",
       "      <td>0.000000</td>\n",
       "      <td>0</td>\n",
       "      <td>0</td>\n",
       "      <td>0</td>\n",
       "      <td>1</td>\n",
       "      <td>0</td>\n",
       "    </tr>\n",
       "    <tr>\n",
       "      <th>115142</th>\n",
       "      <td>Guys, I Don't know how to own a computer I jus...</td>\n",
       "      <td>0</td>\n",
       "      <td>1</td>\n",
       "      <td>0.031294</td>\n",
       "      <td>0.000000</td>\n",
       "      <td>0</td>\n",
       "      <td>0</td>\n",
       "      <td>0</td>\n",
       "      <td>0</td>\n",
       "      <td>0</td>\n",
       "    </tr>\n",
       "    <tr>\n",
       "      <th>23765</th>\n",
       "      <td>@Raja5aab @Quickieleaks So tell me, what could...</td>\n",
       "      <td>1</td>\n",
       "      <td>0</td>\n",
       "      <td>0.026709</td>\n",
       "      <td>0.000000</td>\n",
       "      <td>0</td>\n",
       "      <td>0</td>\n",
       "      <td>0</td>\n",
       "      <td>0</td>\n",
       "      <td>1</td>\n",
       "    </tr>\n",
       "    <tr>\n",
       "      <th>145018</th>\n",
       "      <td>4. Interesting that you use the phrase of Hind...</td>\n",
       "      <td>1</td>\n",
       "      <td>0</td>\n",
       "      <td>0.053020</td>\n",
       "      <td>0.000000</td>\n",
       "      <td>0</td>\n",
       "      <td>0</td>\n",
       "      <td>0</td>\n",
       "      <td>0</td>\n",
       "      <td>1</td>\n",
       "    </tr>\n",
       "    <tr>\n",
       "      <th>88972</th>\n",
       "      <td>@BibleBuild_INA thank you min, I need a few mo...</td>\n",
       "      <td>0</td>\n",
       "      <td>0</td>\n",
       "      <td>0.014949</td>\n",
       "      <td>0.023438</td>\n",
       "      <td>0</td>\n",
       "      <td>0</td>\n",
       "      <td>0</td>\n",
       "      <td>0</td>\n",
       "      <td>0</td>\n",
       "    </tr>\n",
       "    <tr>\n",
       "      <th>19717</th>\n",
       "      <td>RT @Juliet777777: Norway sees huge drop crime ...</td>\n",
       "      <td>1</td>\n",
       "      <td>0</td>\n",
       "      <td>0.027706</td>\n",
       "      <td>0.000000</td>\n",
       "      <td>0</td>\n",
       "      <td>0</td>\n",
       "      <td>0</td>\n",
       "      <td>0</td>\n",
       "      <td>1</td>\n",
       "    </tr>\n",
       "  </tbody>\n",
       "</table>\n",
       "</div>"
      ],
      "text/plain": [
       "                                               tweet_text  cyberbullying  \\\n",
       "114248  @Ddarmoni406 He said the same thing about Jaso...              0   \n",
       "129957  @alwaysc77289952 @malrubius @JeremyBell79 @nyt...              1   \n",
       "145419        I certainly hope so https://t.co/bSiv94aHi2              0   \n",
       "142506  Lakeyah on shaderoom talking about bitches loo...              1   \n",
       "24012                  @voretaq7 @chilblane i'm sorry. :(              1   \n",
       "115142  Guys, I Don't know how to own a computer I jus...              0   \n",
       "23765   @Raja5aab @Quickieleaks So tell me, what could...              1   \n",
       "145018  4. Interesting that you use the phrase of Hind...              1   \n",
       "88972   @BibleBuild_INA thank you min, I need a few mo...              0   \n",
       "19717   RT @Juliet777777: Norway sees huge drop crime ...              1   \n",
       "\n",
       "        profanity  word_count_scaled  emoji_count_scaled  \\\n",
       "114248          0           0.019932            0.000000   \n",
       "129957          0           0.063982            0.000000   \n",
       "145419          0           0.008372            0.000000   \n",
       "142506          1           0.024517            0.015625   \n",
       "24012           0           0.006578            0.000000   \n",
       "115142          1           0.031294            0.000000   \n",
       "23765           0           0.026709            0.000000   \n",
       "145018          0           0.053020            0.000000   \n",
       "88972           0           0.014949            0.023438   \n",
       "19717           0           0.027706            0.000000   \n",
       "\n",
       "        cyberbullying_type_age  cyberbullying_type_ethnicity  \\\n",
       "114248                       0                             0   \n",
       "129957                       0                             0   \n",
       "145419                       0                             0   \n",
       "142506                       0                             1   \n",
       "24012                        0                             0   \n",
       "115142                       0                             0   \n",
       "23765                        0                             0   \n",
       "145018                       0                             0   \n",
       "88972                        0                             0   \n",
       "19717                        0                             0   \n",
       "\n",
       "        cyberbullying_type_gender  cyberbullying_type_other_cyberbullying  \\\n",
       "114248                          0                                       0   \n",
       "129957                          0                                       0   \n",
       "145419                          0                                       0   \n",
       "142506                          0                                       0   \n",
       "24012                           0                                       1   \n",
       "115142                          0                                       0   \n",
       "23765                           0                                       0   \n",
       "145018                          0                                       0   \n",
       "88972                           0                                       0   \n",
       "19717                           0                                       0   \n",
       "\n",
       "        cyberbullying_type_religion  \n",
       "114248                            0  \n",
       "129957                            1  \n",
       "145419                            0  \n",
       "142506                            0  \n",
       "24012                             0  \n",
       "115142                            0  \n",
       "23765                             1  \n",
       "145018                            1  \n",
       "88972                             0  \n",
       "19717                             1  "
      ]
     },
     "execution_count": 23,
     "metadata": {},
     "output_type": "execute_result"
    }
   ],
   "source": [
    "encoded_data = pd.get_dummies(scaled_data, columns=['cyberbullying_type'], dtype='int64')\n",
    "encoded_data.drop(columns=['cyberbullying_type_not_cyberbullying'], axis=1, inplace=True)\n",
    "\n",
    "encoded_data.sample(10)"
   ]
  },
  {
   "cell_type": "markdown",
   "id": "6dbc2c23",
   "metadata": {},
   "source": [
    "## 3. **Exploratory data analysis**"
   ]
  },
  {
   "cell_type": "markdown",
   "id": "f75be233",
   "metadata": {},
   "source": [
    "### Univariate analysis"
   ]
  },
  {
   "cell_type": "markdown",
   "id": "8aada06c",
   "metadata": {},
   "source": [
    "Boxplot for Word Count"
   ]
  },
  {
   "cell_type": "code",
   "execution_count": 24,
   "id": "51f49082",
   "metadata": {},
   "outputs": [
    {
     "data": {
      "image/png": "[encoded data removed]",
      "text/plain": [
       "<Figure size 432x288 with 1 Axes>"
      ]
     },
     "metadata": {
      "needs_background": "light"
     },
     "output_type": "display_data"
    }
   ],
   "source": [
    "# Boxplot to visualize word count\n",
    "sns.boxplot(data['word_count'], palette='bright')\n",
    "plt.title('Distribution of Word Count')\n",
    "plt.ylabel('Word Count')\n",
    "\n",
    "plt.tick_params(labelsize=10)\n",
    "plt.show()"
   ]
  },
  {
   "cell_type": "code",
   "execution_count": 25,
   "id": "864dfb22",
   "metadata": {},
   "outputs": [
    {
     "data": {
      "image/png": "[encoded data removed]",
      "text/plain": [
       "<Figure size 432x288 with 1 Axes>"
      ]
     },
     "metadata": {
      "needs_background": "light"
     },
     "output_type": "display_data"
    }
   ],
   "source": [
    "# Boxplot to visualize word count without outliers for clarity\n",
    "sns.boxplot(data['word_count'], palette='bright', showfliers=False)\n",
    "plt.title('Distribution of Word Count (w/o Outliers)')\n",
    "plt.ylabel('Word Count')\n",
    "\n",
    "plt.tick_params(labelsize=10)\n",
    "plt.show()"
   ]
  },
  {
   "cell_type": "markdown",
   "id": "851b47f2",
   "metadata": {},
   "source": [
    "**Observation(s)**:\n",
    "- Most tweets contain between 50 to 200 words; however, some can exceed 3000 words!"
   ]
  },
  {
   "cell_type": "markdown",
   "id": "5f51ae4e",
   "metadata": {},
   "source": [
    "Boxplot for Emoji Count"
   ]
  },
  {
   "cell_type": "code",
   "execution_count": 26,
   "id": "850133ba",
   "metadata": {},
   "outputs": [
    {
     "data": {
      "image/png": "[encoded data removed]",
      "text/plain": [
       "<Figure size 432x288 with 1 Axes>"
      ]
     },
     "metadata": {
      "needs_background": "light"
     },
     "output_type": "display_data"
    }
   ],
   "source": [
    "# Boxplot to visualize emoji count\n",
    "sns.boxplot(data['emoji_count'], palette='bright')\n",
    "plt.title('Distribution of Emoji Count')\n",
    "plt.ylabel('Emoji Count')\n",
    "\n",
    "plt.tick_params(labelsize=10)\n",
    "plt.show()"
   ]
  },
  {
   "cell_type": "code",
   "execution_count": 27,
   "id": "b76ec47f",
   "metadata": {},
   "outputs": [
    {
     "data": {
      "image/png": "[encoded data removed]",
      "text/plain": [
       "<Figure size 432x288 with 1 Axes>"
      ]
     },
     "metadata": {
      "needs_background": "light"
     },
     "output_type": "display_data"
    }
   ],
   "source": [
    "# Boxplot to visualize word count without outliers for clarity\n",
    "sns.boxplot(data['emoji_count'], palette='bright', showfliers=False)\n",
    "plt.title('Distribution of Emoji Count (w/o Outliers)')\n",
    "plt.ylabel('Emoji Count')\n",
    "\n",
    "plt.tick_params(labelsize=10)\n",
    "plt.show()"
   ]
  },
  {
   "cell_type": "markdown",
   "id": "ca00b2a1",
   "metadata": {},
   "source": [
    "**Observation(s)**:\n",
    "- Most tweets contain no emojis, but some contain more than 50 emojis!"
   ]
  },
  {
   "cell_type": "markdown",
   "id": "336bf07f",
   "metadata": {},
   "source": [
    "### Multivariate analysis"
   ]
  },
  {
   "cell_type": "markdown",
   "id": "8215fd92",
   "metadata": {},
   "source": [
    "Correlation matrix to visualize potential relationships"
   ]
  },
  {
   "cell_type": "code",
   "execution_count": 28,
   "id": "9648f7a6",
   "metadata": {},
   "outputs": [
    {
     "data": {
      "text/plain": [
       "<AxesSubplot: title={'center': 'Correlation between Numerical Variables'}>"
      ]
     },
     "execution_count": 28,
     "metadata": {},
     "output_type": "execute_result"
    },
    {
     "data": {
      "image/png": "[encoded data removed]",
      "text/plain": [
       "<Figure size 864x576 with 2 Axes>"
      ]
     },
     "metadata": {
      "needs_background": "light"
     },
     "output_type": "display_data"
    }
   ],
   "source": [
    "plt.figure(figsize=(12,8))\n",
    "plt.title('Correlation between Numerical Variables')\n",
    "sns.heatmap(encoded_data.corr(numeric_only=True), cmap='coolwarm', annot=True)"
   ]
  },
  {
   "cell_type": "markdown",
   "id": "de725389",
   "metadata": {},
   "source": [
    "**Observation(s)**:\n",
    "- Variables with high positive correlation between each other:\n",
    "    - cyberbullying -- profanity\n",
    "    - profanity -- ethnicity_cyberbullying_type\n",
    "    - profanity -- gender_cyberbullying_type\n",
    "    - word_count_scaled -- religion_cyberbullying_type\n",
    "- Emoji_count does not appear to have any notable correlation with any other variables\n",
    "- Age_cyberbullying and other_cyberbullying also appears to not have much correlation with the other variables, indicating this type of cyberbullying is more subtle than others"
   ]
  },
  {
   "cell_type": "markdown",
   "id": "e89dcf68",
   "metadata": {},
   "source": [
    "Count plots for profanity"
   ]
  },
  {
   "cell_type": "code",
   "execution_count": 29,
   "id": "72e23b05",
   "metadata": {},
   "outputs": [
    {
     "data": {
      "text/plain": [
       "<AxesSubplot: title={'center': 'Profanity grouped by Cyberbullying'}, xlabel='profanity', ylabel='count'>"
      ]
     },
     "execution_count": 29,
     "metadata": {},
     "output_type": "execute_result"
    },
    {
     "data": {
      "image/png": "[encoded data removed]",
      "text/plain": [
       "<Figure size 432x360 with 1 Axes>"
      ]
     },
     "metadata": {
      "needs_background": "light"
     },
     "output_type": "display_data"
    }
   ],
   "source": [
    "plt.figure(figsize=(6,5))\n",
    "plt.title('Profanity grouped by Cyberbullying')\n",
    "sns.countplot(x=data['profanity'], hue=data['cyberbullying'])"
   ]
  },
  {
   "cell_type": "markdown",
   "id": "133ee6a7",
   "metadata": {},
   "source": [
    "**Observation(s)**:\n",
    "- The proporition of cyberbullying without profanity is considerably lower than the proporition of cyberbullying with profanity\n",
    "    - This indicates that profanity strongly implies cyberbullying\n",
    "    - However, there are many tweets without profanity that are still cyberbullying"
   ]
  },
  {
   "cell_type": "code",
   "execution_count": 30,
   "id": "0ecfeee2",
   "metadata": {},
   "outputs": [
    {
     "data": {
      "text/plain": [
       "<AxesSubplot: title={'center': 'Cyberbullying grouped by Profanity'}, xlabel='cyberbullying_type', ylabel='count'>"
      ]
     },
     "execution_count": 30,
     "metadata": {},
     "output_type": "execute_result"
    },
    {
     "data": {
      "image/png": "[encoded data removed]",
      "text/plain": [
       "<Figure size 864x360 with 1 Axes>"
      ]
     },
     "metadata": {
      "needs_background": "light"
     },
     "output_type": "display_data"
    }
   ],
   "source": [
    "plt.figure(figsize=(12,5))\n",
    "plt.title('Cyberbullying grouped by Profanity')\n",
    "sns.countplot(x=data['cyberbullying_type'], hue=data['profanity'])"
   ]
  },
  {
   "cell_type": "markdown",
   "id": "9edeb0eb",
   "metadata": {},
   "source": [
    "**Observation(s)**:\n",
    "- As seen previously, most non-cyberbullying texts do not contain profanity\n",
    "- Most gender cyberbullying and ethnicity cyberbullying contain profanity\n",
    "- Other forms of cyberbullying do not have a significant correlation; in fact, most of these types do not contain profanity"
   ]
  },
  {
   "cell_type": "markdown",
   "id": "dffe28d4",
   "metadata": {},
   "source": [
    "Count plots and pivot tables for Word Count"
   ]
  },
  {
   "cell_type": "code",
   "execution_count": 31,
   "id": "5945629c",
   "metadata": {},
   "outputs": [
    {
     "name": "stdout",
     "output_type": "stream",
     "text": [
      "cyberbullying\n",
      "0    105.273595\n",
      "1    147.707777\n",
      "Name: word_count, dtype: float64\n"
     ]
    },
    {
     "data": {
      "text/plain": [
       "<AxesSubplot: title={'center': 'Average Word Count by Cyberbullying'}, xlabel='cyberbullying', ylabel='word_count'>"
      ]
     },
     "execution_count": 31,
     "metadata": {},
     "output_type": "execute_result"
    },
    {
     "data": {
      "image/png": "[encoded data removed]",
      "text/plain": [
       "<Figure size 432x360 with 1 Axes>"
      ]
     },
     "metadata": {
      "needs_background": "light"
     },
     "output_type": "display_data"
    }
   ],
   "source": [
    "cyberbullying_word_count = data.groupby('cyberbullying')[\"word_count\"].mean()\n",
    "print(cyberbullying_word_count)\n",
    "\n",
    "plt.figure(figsize=(6,5))\n",
    "plt.title('Average Word Count by Cyberbullying')\n",
    "sns.barplot(x='cyberbullying', y='word_count', data=data)"
   ]
  },
  {
   "cell_type": "markdown",
   "id": "99cc1db2",
   "metadata": {},
   "source": [
    "**Observation(s)**:\n",
    "- Cyberbullying tweets have, on average, more words per tweet compared to non-cyberbullying tweets"
   ]
  },
  {
   "cell_type": "code",
   "execution_count": 32,
   "id": "a5cdf64b",
   "metadata": {},
   "outputs": [
    {
     "name": "stdout",
     "output_type": "stream",
     "text": [
      "cyberbullying_type\n",
      "age                    173.542042\n",
      "ethnicity              123.085620\n",
      "gender                 116.538801\n",
      "not_cyberbullying      105.273595\n",
      "other_cyberbullying     85.713281\n",
      "religion               217.356485\n",
      "Name: word_count, dtype: float64\n"
     ]
    },
    {
     "data": {
      "text/plain": [
       "<AxesSubplot: title={'center': 'Average Word Count by Cyberbullying Type'}, xlabel='cyberbullying_type', ylabel='word_count'>"
      ]
     },
     "execution_count": 32,
     "metadata": {},
     "output_type": "execute_result"
    },
    {
     "data": {
      "image/png": "[encoded data removed]",
      "text/plain": [
       "<Figure size 1080x360 with 1 Axes>"
      ]
     },
     "metadata": {
      "needs_background": "light"
     },
     "output_type": "display_data"
    }
   ],
   "source": [
    "cyberbullying_type_word_count = data.groupby('cyberbullying_type')[\"word_count\"].mean()\n",
    "print(cyberbullying_type_word_count)\n",
    "\n",
    "plt.figure(figsize=(15,5))\n",
    "plt.title('Average Word Count by Cyberbullying Type')\n",
    "sns.barplot(x='cyberbullying_type', y='word_count', data=data)"
   ]
  },
  {
   "cell_type": "markdown",
   "id": "c0ad2791",
   "metadata": {},
   "source": [
    "**Observation(s)**:\n",
    "- On average, religion cyberbullying and age cyberbullying messages have significantly more words compared to non-cyberbullying messages\n",
    "- Curiously, other-cyberbullying messages generally have less words compared to all forms of cyberbullying as well as non-cyberbullying"
   ]
  },
  {
   "cell_type": "markdown",
   "id": "c58c0f68",
   "metadata": {},
   "source": [
    "Count plots and pivot tables for Emoji Count"
   ]
  },
  {
   "cell_type": "code",
   "execution_count": 33,
   "id": "99f628ae",
   "metadata": {},
   "outputs": [
    {
     "name": "stdout",
     "output_type": "stream",
     "text": [
      "cyberbullying\n",
      "0    0.414785\n",
      "1    0.246776\n",
      "Name: emoji_count, dtype: float64\n"
     ]
    },
    {
     "data": {
      "text/plain": [
       "<AxesSubplot: title={'center': 'Average Emoji Count by Cyberbullying'}, xlabel='cyberbullying', ylabel='emoji_count'>"
      ]
     },
     "execution_count": 33,
     "metadata": {},
     "output_type": "execute_result"
    },
    {
     "data": {
      "image/png": "[encoded data removed]",
      "text/plain": [
       "<Figure size 432x360 with 1 Axes>"
      ]
     },
     "metadata": {
      "needs_background": "light"
     },
     "output_type": "display_data"
    }
   ],
   "source": [
    "cyberbullying_emoji_count = data.groupby('cyberbullying')[\"emoji_count\"].mean()\n",
    "print(cyberbullying_emoji_count)\n",
    "\n",
    "plt.figure(figsize=(6,5))\n",
    "plt.title('Average Emoji Count by Cyberbullying')\n",
    "sns.barplot(x='cyberbullying', y='emoji_count', data=data)"
   ]
  },
  {
   "cell_type": "markdown",
   "id": "b09f952e",
   "metadata": {},
   "source": [
    "**Observation(s)**:\n",
    "- Cyberbullying tweets have, on average, less emojis per tweet compared to non-cyberbullying tweets (though not a significant difference)"
   ]
  },
  {
   "cell_type": "code",
   "execution_count": 34,
   "id": "bf382e42",
   "metadata": {},
   "outputs": [
    {
     "name": "stdout",
     "output_type": "stream",
     "text": [
      "cyberbullying_type\n",
      "age                    0.000501\n",
      "ethnicity              0.451180\n",
      "gender                 0.370611\n",
      "not_cyberbullying      0.414785\n",
      "other_cyberbullying    0.032213\n",
      "religion               0.057323\n",
      "Name: emoji_count, dtype: float64\n"
     ]
    },
    {
     "data": {
      "text/plain": [
       "<AxesSubplot: title={'center': 'Average Emoji Count by Cyberbullying Type'}, xlabel='cyberbullying_type', ylabel='emoji_count'>"
      ]
     },
     "execution_count": 34,
     "metadata": {},
     "output_type": "execute_result"
    },
    {
     "data": {
      "image/png": "[encoded data removed]",
      "text/plain": [
       "<Figure size 1080x360 with 1 Axes>"
      ]
     },
     "metadata": {
      "needs_background": "light"
     },
     "output_type": "display_data"
    }
   ],
   "source": [
    "cyberbullying_type_emoji_count = data.groupby('cyberbullying_type')[\"emoji_count\"].mean()\n",
    "print(cyberbullying_type_emoji_count)\n",
    "\n",
    "plt.figure(figsize=(15,5))\n",
    "plt.title('Average Emoji Count by Cyberbullying Type')\n",
    "sns.barplot(x='cyberbullying_type', y='emoji_count', data=data)"
   ]
  },
  {
   "cell_type": "markdown",
   "id": "1268074a",
   "metadata": {},
   "source": [
    "**Observation(s)**:\n",
    "- Interestingly, ethnicity cyberbullying, gender cyberbullying, and non-cyberbullying  messages have a generally higher number of emojis\n",
    "- Age cyberbullying, other-cyberbullying, and religion cyberbullying messages typically have less emojis\n",
    "- Overall, emoji use is not a strong indicator of cyberbullying"
   ]
  },
  {
   "cell_type": "markdown",
   "id": "7cce1746",
   "metadata": {},
   "source": [
    "## 4. **Analysis Summary**"
   ]
  },
  {
   "cell_type": "markdown",
   "id": "e438bd14",
   "metadata": {},
   "source": [
    "- PROFANITY:\n",
    "    - Profanity is a reliable indicator of cyberbullying; however, not all cyberbullying contains profanity\n",
    "    - Cyberbullying tweets related to gender and ethnicity contain a relatively high amount profanity compared to other forms of cyberbullying and non-cyberbullying tweets\n",
    "- WORD COUNT:\n",
    "    - Word count is mildly tied to cyberbullying; cyberbullying tweets generally contain more words than non-cyberbullying tweets\n",
    "    - Cyberbullying tweets related to religion and age contain noticable more words compared to other forms of cyberbullying and non-cyberbullying messages\n",
    "    - While there does appear to be some correlation between word count and specific cyberbullying types, it would not be practical use word count as an indicator of cyberbullying\n",
    "- EMOJI COUNT:\n",
    "    - Emoji count has little correlation with cyberbullying; cyberbullying tweets have slightly less emojis per tweet compared to non-cyberbullying tweets\n",
    "    - Cyberbullying tweets related to gender and ethnicity have a comparatively high emoji use, but non-cyberbullying tweets also possess frequent emoji usage\n",
    "    - Emoji count provides little insight into the content of the messages; however, categorizing emojis as positive or negative and counting the number of positive/negative emojis may produce meaningful results"
   ]
  },
  {
   "cell_type": "markdown",
   "id": "5b858211",
   "metadata": {},
   "source": [
    "***\n",
    "# **SECTION 2** : CYBERBULLYING DETECTION"
   ]
  },
  {
   "cell_type": "markdown",
   "id": "5accabb2",
   "metadata": {},
   "source": [
    "**OVERVIEW** </br>\n",
    "Cyberbullying detection is essentially a binary classification and/or sentiment analysis problem on text data. First, the text data will be cleaned and preprocessed. Then, analysis on the semantics of the text, such as determining most common words, will be conducted. Next, machine learning models, deep learning models, and natural language processing tools that specialize in binary classification will be trained on the preprocessed text data. Model accuracy will be the main metric to compare these models against."
   ]
  },
  {
   "cell_type": "markdown",
   "id": "0b3bb403",
   "metadata": {},
   "source": [
    "Import libraries for binary classification"
   ]
  },
  {
   "cell_type": "code",
   "execution_count": 35,
   "id": "300c622b",
   "metadata": {},
   "outputs": [
    {
     "name": "stderr",
     "output_type": "stream",
     "text": [
      "2025-07-03 22:05:12.654427: I tensorflow/core/util/port.cc:110] oneDNN custom operations are on. You may see slightly different numerical results due to floating-point round-off errors from different computation orders. To turn them off, set the environment variable `TF_ENABLE_ONEDNN_OPTS=0`.\n",
      "2025-07-03 22:05:12.692189: I tensorflow/core/platform/cpu_feature_guard.cc:182] This TensorFlow binary is optimized to use available CPU instructions in performance-critical operations.\n",
      "To enable the following instructions: AVX2 AVX512F AVX512_VNNI FMA, in other operations, rebuild TensorFlow with the appropriate compiler flags.\n"
     ]
    },
    {
     "name": "stdout",
     "output_type": "stream",
     "text": [
      "VOC-NOTICE: GPU memory for this assignment is capped at 1024MiB\n"
     ]
    },
    {
     "name": "stderr",
     "output_type": "stream",
     "text": [
      "2025-07-03 22:05:14.675571: E tensorflow/compiler/xla/stream_executor/cuda/cuda_driver.cc:268] failed call to cuInit: CUDA_ERROR_NO_DEVICE: no CUDA-capable device is detected\n"
     ]
    }
   ],
   "source": [
    "import os\n",
    "import joblib\n",
    "from sklearn.metrics import accuracy_score, classification_report, confusion_matrix, ConfusionMatrixDisplay\n",
    "from sklearn.model_selection import train_test_split\n",
    "from imblearn.over_sampling import SMOTE\n",
    "\n",
    "# Sentiment analysis\n",
    "import re\n",
    "import string\n",
    "import nltk\n",
    "from nltk.tokenize import word_tokenize\n",
    "from nltk.stem import WordNetLemmatizer\n",
    "from wordcloud import STOPWORDS\n",
    "from wordcloud import WordCloud\n",
    "from collections import Counter\n",
    "from vaderSentiment.vaderSentiment import SentimentIntensityAnalyzer\n",
    "\n",
    "# Machine learning\n",
    "from sklearn.feature_extraction.text import TfidfVectorizer\n",
    "from sklearn.linear_model import LogisticRegression\n",
    "from sklearn.neighbors import KNeighborsClassifier\n",
    "from sklearn.naive_bayes import BernoulliNB\n",
    "from sklearn.tree import DecisionTreeClassifier\n",
    "from sklearn.ensemble import RandomForestClassifier\n",
    "\n",
    "# Deep learning\n",
    "from tensorflow.keras.preprocessing.text import Tokenizer\n",
    "from tensorflow.keras.preprocessing.sequence import pad_sequences\n",
    "from tensorflow.keras.utils import to_categorical\n",
    "from tensorflow.keras.layers import (\n",
    "    Input, Dense, Flatten, Dropout,\n",
    "    LSTM, Conv1D, MaxPooling1D,\n",
    "    GlobalAveragePooling1D, Embedding)\n",
    "from tensorflow.keras.models import Model\n",
    "from tensorflow.keras.callbacks import EarlyStopping, ReduceLROnPlateau"
   ]
  },
  {
   "cell_type": "markdown",
   "id": "a1c45b89",
   "metadata": {},
   "source": [
    "Define a helper function for evaluating model performance"
   ]
  },
  {
   "cell_type": "code",
   "execution_count": 36,
   "id": "777e2676",
   "metadata": {},
   "outputs": [],
   "source": [
    "def evaluate_model(model_name, y_true, y_pred, cmap='Blues', ax=None, subplot=False, target_names=None, labels='auto', rotation=0):\n",
    "    '''\n",
    "    Computes model accuracy, classification report, and visualizes confusion matrix for model evaluation.\n",
    "    '''\n",
    "    accuracy = accuracy_score(y_true, y_pred)\n",
    "    print(f'\\nMODEL: {model_name}')\n",
    "    print('ACCURACY:', accuracy)\n",
    "    print('\\n----------------CLASSIFICATION REPORT----------------\\n',\n",
    "        classification_report(y_true, y_pred, target_names=target_names),\n",
    "        '-----------------------------------------------------')\n",
    "    \n",
    "    cm = confusion_matrix(y_true, y_pred)\n",
    "    sns.heatmap(cm, annot=True, fmt='d', cmap=cmap, xticklabels=labels, yticklabels=labels, ax=ax)\n",
    "    \n",
    "    if not subplot:\n",
    "        plt.title(f'Confusion Matrix - {model_name}')\n",
    "        plt.xlabel('Predicted')\n",
    "        plt.xticks(rotation=rotation)\n",
    "        plt.ylabel('Actual')\n",
    "        plt.show()\n",
    "      \n",
    "    return {'MODEL': model_name, 'ACCURACY': accuracy}"
   ]
  },
  {
   "cell_type": "markdown",
   "id": "f69074c4",
   "metadata": {},
   "source": [
    "## 1. **Text preprocessing**"
   ]
  },
  {
   "cell_type": "markdown",
   "id": "2218c528",
   "metadata": {},
   "source": [
    "A function that executes the following series of pre-processing steps:\n",
    "- Convert text to lowercase\n",
    "- Remove twitter tags\n",
    "- Remove stopwords\n",
    "- Remove punctuation\n",
    "- Apply lemmatization"
   ]
  },
  {
   "cell_type": "code",
   "execution_count": 37,
   "id": "60d04a00",
   "metadata": {},
   "outputs": [
    {
     "name": "stderr",
     "output_type": "stream",
     "text": [
      "[nltk_data] Downloading package punkt to /voc/work/nltk_data...\n",
      "[nltk_data]   Package punkt is already up-to-date!\n",
      "[nltk_data] Downloading package wordnet to /voc/work/nltk_data...\n",
      "[nltk_data]   Package wordnet is already up-to-date!\n"
     ]
    }
   ],
   "source": [
    "nltk.download('punkt')\n",
    "nltk.download('wordnet')\n",
    "TEXT_CLEANING_RE = \"@\\S+|https?:\\S+|http?:\\S|[^A-Za-z0-9]+\"\n",
    "STOPWORDS.update(['rt', 'mkr', 'didn', 'bc', 'n', 'm', 'im', 'll', 'y', 've', 'u', 'ur', 'don', 't', 's'])\n",
    "\n",
    "# Twitter TEXT_CLEANING_RE key and STOPWORDS from https://www.kaggle.com/code/lizakonopelko/cyberbullying-on-twitter-visualization/notebook\n",
    "def preprocessing(text):\n",
    "    '''\n",
    "    Cleans text by lowercasing, removing numbers/twitter tags/stopwords/punctuation, and lemmatizing\n",
    "    '''\n",
    "    \n",
    "    # Lowercasing\n",
    "    text = text.lower()\n",
    "\n",
    "    # Removing numbers\n",
    "    text = re.sub(r'\\d+', '', text)\n",
    "\n",
    "    # Removing twitter tags\n",
    "    text = re.sub(TEXT_CLEANING_RE, ' ', text)\n",
    "\n",
    "    # Removing stopwords\n",
    "    words = word_tokenize(text)\n",
    "    text = ' '.join([word for word in words if word not in STOPWORDS])\n",
    "\n",
    "    # Removing punctuation\n",
    "    text = re.sub(f'[{string.punctuation}]', '', text)\n",
    "\n",
    "    # Applying lemmatization\n",
    "    words = word_tokenize(text)\n",
    "    lemmatizer = WordNetLemmatizer()\n",
    "    text = ' '.join([lemmatizer.lemmatize(word) for word in words])\n",
    "    \n",
    "    return text"
   ]
  },
  {
   "cell_type": "code",
   "execution_count": 38,
   "id": "8eee44b1",
   "metadata": {},
   "outputs": [
    {
     "data": {
      "text/html": [
       "<div>\n",
       "<style scoped>\n",
       "    .dataframe tbody tr th:only-of-type {\n",
       "        vertical-align: middle;\n",
       "    }\n",
       "\n",
       "    .dataframe tbody tr th {\n",
       "        vertical-align: top;\n",
       "    }\n",
       "\n",
       "    .dataframe thead th {\n",
       "        text-align: right;\n",
       "    }\n",
       "</style>\n",
       "<table border=\"1\" class=\"dataframe\">\n",
       "  <thead>\n",
       "    <tr style=\"text-align: right;\">\n",
       "      <th></th>\n",
       "      <th>tweet_text</th>\n",
       "      <th>cyberbullying_type</th>\n",
       "      <th>cyberbullying</th>\n",
       "      <th>word_count</th>\n",
       "      <th>emoji_count</th>\n",
       "      <th>profanity</th>\n",
       "      <th>cleaned_text</th>\n",
       "    </tr>\n",
       "  </thead>\n",
       "  <tbody>\n",
       "    <tr>\n",
       "      <th>104716</th>\n",
       "      <td>Check out this awesome video!! https://t.co/DJ...</td>\n",
       "      <td>not_cyberbullying</td>\n",
       "      <td>0</td>\n",
       "      <td>54</td>\n",
       "      <td>0</td>\n",
       "      <td>0</td>\n",
       "      <td>check awesome video</td>\n",
       "    </tr>\n",
       "    <tr>\n",
       "      <th>42382</th>\n",
       "      <td>girl don’t worry i’ll legit do it i just gotta...</td>\n",
       "      <td>ethnicity</td>\n",
       "      <td>1</td>\n",
       "      <td>88</td>\n",
       "      <td>0</td>\n",
       "      <td>0</td>\n",
       "      <td>girl worry legit got ta finish one first almos...</td>\n",
       "    </tr>\n",
       "    <tr>\n",
       "      <th>121549</th>\n",
       "      <td>@Slowzenx @HillmanAnaya @Pao10826621 No nigga ...</td>\n",
       "      <td>ethnicity</td>\n",
       "      <td>1</td>\n",
       "      <td>68</td>\n",
       "      <td>0</td>\n",
       "      <td>1</td>\n",
       "      <td>hillmananaya pao nigga stfu punk as nigga</td>\n",
       "    </tr>\n",
       "    <tr>\n",
       "      <th>19284</th>\n",
       "      <td>Don't show paper cutting show some conclusive ...</td>\n",
       "      <td>religion</td>\n",
       "      <td>1</td>\n",
       "      <td>235</td>\n",
       "      <td>0</td>\n",
       "      <td>0</td>\n",
       "      <td>show paper cutting show conclusive statement c...</td>\n",
       "    </tr>\n",
       "    <tr>\n",
       "      <th>76039</th>\n",
       "      <td>@Cindtrillella nigga got a B so i guess he don...</td>\n",
       "      <td>ethnicity</td>\n",
       "      <td>1</td>\n",
       "      <td>134</td>\n",
       "      <td>0</td>\n",
       "      <td>1</td>\n",
       "      <td>nigga got b guess dont care much elevating art...</td>\n",
       "    </tr>\n",
       "    <tr>\n",
       "      <th>44947</th>\n",
       "      <td>“@chiIIful: FUCK MIKE BROWN. FUCK TRAYVON MART...</td>\n",
       "      <td>ethnicity</td>\n",
       "      <td>1</td>\n",
       "      <td>136</td>\n",
       "      <td>0</td>\n",
       "      <td>1</td>\n",
       "      <td>chiiiful fuck mike brown fuck trayvon martin n...</td>\n",
       "    </tr>\n",
       "    <tr>\n",
       "      <th>64876</th>\n",
       "      <td>@MutsauJohn Hey! I got this:  https://t.co/5jv...</td>\n",
       "      <td>not_cyberbullying</td>\n",
       "      <td>0</td>\n",
       "      <td>54</td>\n",
       "      <td>0</td>\n",
       "      <td>0</td>\n",
       "      <td>hey got</td>\n",
       "    </tr>\n",
       "    <tr>\n",
       "      <th>137286</th>\n",
       "      <td>#BTC really wants to stay above the 21K USD. L...</td>\n",
       "      <td>not_cyberbullying</td>\n",
       "      <td>0</td>\n",
       "      <td>60</td>\n",
       "      <td>0</td>\n",
       "      <td>0</td>\n",
       "      <td>btc really want stay usd let go bull</td>\n",
       "    </tr>\n",
       "    <tr>\n",
       "      <th>18223</th>\n",
       "      <td>@AbbsWinston @andyblueskyz Jews need to be tra...</td>\n",
       "      <td>religion</td>\n",
       "      <td>1</td>\n",
       "      <td>132</td>\n",
       "      <td>0</td>\n",
       "      <td>0</td>\n",
       "      <td>andyblueskyz jew need trained liberate palesti...</td>\n",
       "    </tr>\n",
       "    <tr>\n",
       "      <th>108707</th>\n",
       "      <td>@yoongithepixie @BTS_twt He would EAT!</td>\n",
       "      <td>not_cyberbullying</td>\n",
       "      <td>0</td>\n",
       "      <td>38</td>\n",
       "      <td>0</td>\n",
       "      <td>1</td>\n",
       "      <td>bts twt eat</td>\n",
       "    </tr>\n",
       "  </tbody>\n",
       "</table>\n",
       "</div>"
      ],
      "text/plain": [
       "                                               tweet_text cyberbullying_type  \\\n",
       "104716  Check out this awesome video!! https://t.co/DJ...  not_cyberbullying   \n",
       "42382   girl don’t worry i’ll legit do it i just gotta...          ethnicity   \n",
       "121549  @Slowzenx @HillmanAnaya @Pao10826621 No nigga ...          ethnicity   \n",
       "19284   Don't show paper cutting show some conclusive ...           religion   \n",
       "76039   @Cindtrillella nigga got a B so i guess he don...          ethnicity   \n",
       "44947   “@chiIIful: FUCK MIKE BROWN. FUCK TRAYVON MART...          ethnicity   \n",
       "64876   @MutsauJohn Hey! I got this:  https://t.co/5jv...  not_cyberbullying   \n",
       "137286  #BTC really wants to stay above the 21K USD. L...  not_cyberbullying   \n",
       "18223   @AbbsWinston @andyblueskyz Jews need to be tra...           religion   \n",
       "108707             @yoongithepixie @BTS_twt He would EAT!  not_cyberbullying   \n",
       "\n",
       "        cyberbullying  word_count  emoji_count  profanity  \\\n",
       "104716              0          54            0          0   \n",
       "42382               1          88            0          0   \n",
       "121549              1          68            0          1   \n",
       "19284               1         235            0          0   \n",
       "76039               1         134            0          1   \n",
       "44947               1         136            0          1   \n",
       "64876               0          54            0          0   \n",
       "137286              0          60            0          0   \n",
       "18223               1         132            0          0   \n",
       "108707              0          38            0          1   \n",
       "\n",
       "                                             cleaned_text  \n",
       "104716                                check awesome video  \n",
       "42382   girl worry legit got ta finish one first almos...  \n",
       "121549          hillmananaya pao nigga stfu punk as nigga  \n",
       "19284   show paper cutting show conclusive statement c...  \n",
       "76039   nigga got b guess dont care much elevating art...  \n",
       "44947   chiiiful fuck mike brown fuck trayvon martin n...  \n",
       "64876                                             hey got  \n",
       "137286               btc really want stay usd let go bull  \n",
       "18223   andyblueskyz jew need trained liberate palesti...  \n",
       "108707                                        bts twt eat  "
      ]
     },
     "execution_count": 38,
     "metadata": {},
     "output_type": "execute_result"
    }
   ],
   "source": [
    "data['cleaned_text'] = data['tweet_text'].apply(preprocessing)\n",
    "\n",
    "data.sample(10)"
   ]
  },
  {
   "cell_type": "markdown",
   "id": "f1e348e4",
   "metadata": {},
   "source": [
    "## 2. **Text analysis**"
   ]
  },
  {
   "cell_type": "markdown",
   "id": "d61a9b97",
   "metadata": {},
   "source": [
    "Visualize text patterns using bar graphs of top five most common words"
   ]
  },
  {
   "cell_type": "code",
   "execution_count": 39,
   "id": "42ccb247",
   "metadata": {},
   "outputs": [],
   "source": [
    "def get_most_common(cyberbullying_type, num):\n",
    "    '''\n",
    "    Helper function to find the most common words.\n",
    "    '''\n",
    "    data_column = data[data['cyberbullying_type']==cyberbullying_type]\n",
    "    all_text = ' '.join(data_column['cleaned_text'])\n",
    "\n",
    "    words = re.findall(r'\\b\\w+\\b', all_text)\n",
    "    word_counts = Counter(words)\n",
    "    most_common_words = word_counts.most_common(num)\n",
    "    return most_common_words"
   ]
  },
  {
   "cell_type": "code",
   "execution_count": 40,
   "id": "bb78042f",
   "metadata": {},
   "outputs": [],
   "source": [
    "def plot_most_common_words(cyberbullying_type, num, ax, palette):\n",
    "    '''\n",
    "    Helper function to plot most common words\n",
    "    '''\n",
    "    # Get the most common words\n",
    "    most_common_words = get_most_common(cyberbullying_type, num)\n",
    "\n",
    "    # Separate the words and counts for plotting\n",
    "    words, counts = zip(*most_common_words)\n",
    "\n",
    "    sns.barplot(x=list(counts), y=list(words), ax=ax, orient='h', palette=palette)\n",
    "\n",
    "    ax.set_title(f'Most Common Words ({cyberbullying_type})', fontsize=30)\n",
    "    ax.tick_params(axis='x', rotation=0, labelsize=16)\n",
    "    ax.tick_params(axis='y', labelsize=16)"
   ]
  },
  {
   "cell_type": "code",
   "execution_count": 41,
   "id": "9dd57b3e",
   "metadata": {},
   "outputs": [
    {
     "data": {
      "image/png": "[encoded data removed]",
      "text/plain": [
       "<Figure size 2592x1080 with 6 Axes>"
      ]
     },
     "metadata": {
      "needs_background": "light"
     },
     "output_type": "display_data"
    }
   ],
   "source": [
    "colormaps = ['Spectral', 'YlOrRd', 'YlGn', 'YlGnBu', 'Purples', 'PuRd']\n",
    "fig, axes = plt.subplots(2, 3, figsize=(36, 15))\n",
    "axes = axes.flatten()\n",
    "\n",
    "for i, cyberbullying_type in enumerate(data['cyberbullying_type'].unique()):\n",
    "    plot_most_common_words(cyberbullying_type, 5, axes[i], f'{colormaps[i]}_r')"
   ]
  },
  {
   "cell_type": "markdown",
   "id": "14fb10fe",
   "metadata": {},
   "source": [
    "**Observation(s)**:\n",
    "- The bar graph displaying the top five most common words allows a numerical frequency to be associated to each word\n",
    "- The most common words for non-cyberbullying tweets are inoffensive compared to the cyberbullying tweets (which are mostly offensive/profanity) which will help immensely in detection models\n",
    "- The most common words for each category have little overlap which is helpful for classification models in categorizing text"
   ]
  },
  {
   "cell_type": "code",
   "execution_count": 42,
   "id": "6b80df81",
   "metadata": {},
   "outputs": [],
   "source": [
    "# Make accuracy list for detection\n",
    "detection_accuracy_list = []"
   ]
  },
  {
   "cell_type": "markdown",
   "id": "71cfcd78",
   "metadata": {},
   "source": [
    "## 3. **Natural Language Processing Tools**"
   ]
  },
  {
   "cell_type": "markdown",
   "id": "d1816da0",
   "metadata": {},
   "source": [
    "Use SentimentIntensityAnalyzer from VADER to predict sentiments from the complaints"
   ]
  },
  {
   "cell_type": "code",
   "execution_count": 43,
   "id": "a3dfa390",
   "metadata": {},
   "outputs": [],
   "source": [
    "analyzer = SentimentIntensityAnalyzer()"
   ]
  },
  {
   "cell_type": "markdown",
   "id": "18539620",
   "metadata": {},
   "source": [
    "Define helper functions to classify complaint based on sentiment value"
   ]
  },
  {
   "cell_type": "code",
   "execution_count": 44,
   "id": "1f29d70c",
   "metadata": {},
   "outputs": [],
   "source": [
    "# Function to get compound score\n",
    "def get_comp(text):\n",
    "    sentiment_scores = analyzer.polarity_scores(text)\n",
    "    return sentiment_scores['compound']\n",
    "\n",
    "# Function to create label\n",
    "def label_sentiment(compound_score):\n",
    "    if compound_score < 0:\n",
    "        return 'negative'\n",
    "    else:\n",
    "        return 'positive'\n",
    "\n",
    "# Function to get sentiment label\n",
    "def get_label(text):\n",
    "    return label_sentiment(get_comp(text))"
   ]
  },
  {
   "cell_type": "code",
   "execution_count": 45,
   "id": "0024c19d",
   "metadata": {},
   "outputs": [
    {
     "data": {
      "text/html": [
       "<div>\n",
       "<style scoped>\n",
       "    .dataframe tbody tr th:only-of-type {\n",
       "        vertical-align: middle;\n",
       "    }\n",
       "\n",
       "    .dataframe tbody tr th {\n",
       "        vertical-align: top;\n",
       "    }\n",
       "\n",
       "    .dataframe thead th {\n",
       "        text-align: right;\n",
       "    }\n",
       "</style>\n",
       "<table border=\"1\" class=\"dataframe\">\n",
       "  <thead>\n",
       "    <tr style=\"text-align: right;\">\n",
       "      <th></th>\n",
       "      <th>tweet_text</th>\n",
       "      <th>cyberbullying_type</th>\n",
       "      <th>cyberbullying</th>\n",
       "      <th>word_count</th>\n",
       "      <th>emoji_count</th>\n",
       "      <th>profanity</th>\n",
       "      <th>cleaned_text</th>\n",
       "      <th>sentiment score</th>\n",
       "      <th>sentiment</th>\n",
       "    </tr>\n",
       "  </thead>\n",
       "  <tbody>\n",
       "    <tr>\n",
       "      <th>75427</th>\n",
       "      <td>This happened in the small town I grew up in. ...</td>\n",
       "      <td>not_cyberbullying</td>\n",
       "      <td>0</td>\n",
       "      <td>164</td>\n",
       "      <td>0</td>\n",
       "      <td>0</td>\n",
       "      <td>happened small town grew family still life voc...</td>\n",
       "      <td>0.5267</td>\n",
       "      <td>positive</td>\n",
       "    </tr>\n",
       "    <tr>\n",
       "      <th>9168</th>\n",
       "      <td>Me the rest of the night if these blonde bitch...</td>\n",
       "      <td>gender</td>\n",
       "      <td>1</td>\n",
       "      <td>88</td>\n",
       "      <td>0</td>\n",
       "      <td>1</td>\n",
       "      <td>rest night blonde bitch</td>\n",
       "      <td>-0.5994</td>\n",
       "      <td>negative</td>\n",
       "    </tr>\n",
       "    <tr>\n",
       "      <th>5137</th>\n",
       "      <td>@EvvyKube it's how I keep my youthful good loo...</td>\n",
       "      <td>not_cyberbullying</td>\n",
       "      <td>0</td>\n",
       "      <td>70</td>\n",
       "      <td>0</td>\n",
       "      <td>0</td>\n",
       "      <td>keep youthful good look will live forever</td>\n",
       "      <td>0.6369</td>\n",
       "      <td>positive</td>\n",
       "    </tr>\n",
       "    <tr>\n",
       "      <th>144484</th>\n",
       "      <td>@fer00065166 @BTS_twt So cute, I miss them</td>\n",
       "      <td>not_cyberbullying</td>\n",
       "      <td>0</td>\n",
       "      <td>42</td>\n",
       "      <td>0</td>\n",
       "      <td>0</td>\n",
       "      <td>bts twt cute miss</td>\n",
       "      <td>0.4593</td>\n",
       "      <td>positive</td>\n",
       "    </tr>\n",
       "    <tr>\n",
       "      <th>110260</th>\n",
       "      <td>@pickledswans @RukminiKrishnaa @stillgray he h...</td>\n",
       "      <td>gender</td>\n",
       "      <td>1</td>\n",
       "      <td>157</td>\n",
       "      <td>0</td>\n",
       "      <td>0</td>\n",
       "      <td>rukminikrishnaa stillgray denied know evidence...</td>\n",
       "      <td>-0.8225</td>\n",
       "      <td>negative</td>\n",
       "    </tr>\n",
       "    <tr>\n",
       "      <th>134388</th>\n",
       "      <td>And of course, my guy Giannis https://t.co/H4b...</td>\n",
       "      <td>not_cyberbullying</td>\n",
       "      <td>0</td>\n",
       "      <td>77</td>\n",
       "      <td>0</td>\n",
       "      <td>0</td>\n",
       "      <td>course guy giannis</td>\n",
       "      <td>0.0000</td>\n",
       "      <td>positive</td>\n",
       "    </tr>\n",
       "    <tr>\n",
       "      <th>46695</th>\n",
       "      <td>I beat a kid 6-2 his reaction is... \"I hope i ...</td>\n",
       "      <td>ethnicity</td>\n",
       "      <td>1</td>\n",
       "      <td>109</td>\n",
       "      <td>0</td>\n",
       "      <td>1</td>\n",
       "      <td>beat kid reaction hope hit bus weight fat fuck...</td>\n",
       "      <td>-0.8481</td>\n",
       "      <td>negative</td>\n",
       "    </tr>\n",
       "    <tr>\n",
       "      <th>128348</th>\n",
       "      <td>Maybe I’m not leaving anytime soon</td>\n",
       "      <td>not_cyberbullying</td>\n",
       "      <td>0</td>\n",
       "      <td>34</td>\n",
       "      <td>0</td>\n",
       "      <td>0</td>\n",
       "      <td>maybe leaving anytime soon</td>\n",
       "      <td>0.0000</td>\n",
       "      <td>positive</td>\n",
       "    </tr>\n",
       "    <tr>\n",
       "      <th>101654</th>\n",
       "      <td>the pelicans do so much foul baiting, no wonde...</td>\n",
       "      <td>not_cyberbullying</td>\n",
       "      <td>0</td>\n",
       "      <td>126</td>\n",
       "      <td>0</td>\n",
       "      <td>0</td>\n",
       "      <td>pelican much foul baiting wonder guy compete s...</td>\n",
       "      <td>-0.2960</td>\n",
       "      <td>negative</td>\n",
       "    </tr>\n",
       "    <tr>\n",
       "      <th>47471</th>\n",
       "      <td>Fuck you dumb nigger I should hang you by my c...</td>\n",
       "      <td>ethnicity</td>\n",
       "      <td>1</td>\n",
       "      <td>74</td>\n",
       "      <td>0</td>\n",
       "      <td>1</td>\n",
       "      <td>fuck dumb nigger hang cherry tree</td>\n",
       "      <td>-0.9022</td>\n",
       "      <td>negative</td>\n",
       "    </tr>\n",
       "  </tbody>\n",
       "</table>\n",
       "</div>"
      ],
      "text/plain": [
       "                                               tweet_text cyberbullying_type  \\\n",
       "75427   This happened in the small town I grew up in. ...  not_cyberbullying   \n",
       "9168    Me the rest of the night if these blonde bitch...             gender   \n",
       "5137    @EvvyKube it's how I keep my youthful good loo...  not_cyberbullying   \n",
       "144484         @fer00065166 @BTS_twt So cute, I miss them  not_cyberbullying   \n",
       "110260  @pickledswans @RukminiKrishnaa @stillgray he h...             gender   \n",
       "134388  And of course, my guy Giannis https://t.co/H4b...  not_cyberbullying   \n",
       "46695   I beat a kid 6-2 his reaction is... \"I hope i ...          ethnicity   \n",
       "128348                 Maybe I’m not leaving anytime soon  not_cyberbullying   \n",
       "101654  the pelicans do so much foul baiting, no wonde...  not_cyberbullying   \n",
       "47471   Fuck you dumb nigger I should hang you by my c...          ethnicity   \n",
       "\n",
       "        cyberbullying  word_count  emoji_count  profanity  \\\n",
       "75427               0         164            0          0   \n",
       "9168                1          88            0          1   \n",
       "5137                0          70            0          0   \n",
       "144484              0          42            0          0   \n",
       "110260              1         157            0          0   \n",
       "134388              0          77            0          0   \n",
       "46695               1         109            0          1   \n",
       "128348              0          34            0          0   \n",
       "101654              0         126            0          0   \n",
       "47471               1          74            0          1   \n",
       "\n",
       "                                             cleaned_text  sentiment score  \\\n",
       "75427   happened small town grew family still life voc...           0.5267   \n",
       "9168                              rest night blonde bitch          -0.5994   \n",
       "5137            keep youthful good look will live forever           0.6369   \n",
       "144484                                  bts twt cute miss           0.4593   \n",
       "110260  rukminikrishnaa stillgray denied know evidence...          -0.8225   \n",
       "134388                                 course guy giannis           0.0000   \n",
       "46695   beat kid reaction hope hit bus weight fat fuck...          -0.8481   \n",
       "128348                         maybe leaving anytime soon           0.0000   \n",
       "101654  pelican much foul baiting wonder guy compete s...          -0.2960   \n",
       "47471                   fuck dumb nigger hang cherry tree          -0.9022   \n",
       "\n",
       "       sentiment  \n",
       "75427   positive  \n",
       "9168    negative  \n",
       "5137    positive  \n",
       "144484  positive  \n",
       "110260  negative  \n",
       "134388  positive  \n",
       "46695   negative  \n",
       "128348  positive  \n",
       "101654  negative  \n",
       "47471   negative  "
      ]
     },
     "execution_count": 45,
     "metadata": {},
     "output_type": "execute_result"
    }
   ],
   "source": [
    "# Apply sentiment analysis to the text column\n",
    "data['sentiment score'] = data['tweet_text'].apply(get_comp)\n",
    "data['sentiment'] = data['tweet_text'].apply(get_label)\n",
    "\n",
    "data.sample(10)"
   ]
  },
  {
   "cell_type": "markdown",
   "id": "e6d6ba91",
   "metadata": {},
   "source": [
    "Evaluate VADER model using accuracy, F1-score, and a confusion matrix and store accuracy score for future comparison"
   ]
  },
  {
   "cell_type": "code",
   "execution_count": 46,
   "id": "99460080",
   "metadata": {},
   "outputs": [
    {
     "name": "stdout",
     "output_type": "stream",
     "text": [
      "\n",
      "MODEL: VADER\n",
      "ACCURACY: 0.7019066002912391\n",
      "\n",
      "----------------CLASSIFICATION REPORT----------------\n",
      "               precision    recall  f1-score   support\n",
      "\n",
      "           0       0.60      0.74      0.66     57936\n",
      "           1       0.80      0.68      0.73     89709\n",
      "\n",
      "    accuracy                           0.70    147645\n",
      "   macro avg       0.70      0.71      0.70    147645\n",
      "weighted avg       0.72      0.70      0.71    147645\n",
      " -----------------------------------------------------\n"
     ]
    },
    {
     "data": {
      "image/png": "[encoded data removed]",
      "text/plain": [
       "<Figure size 432x288 with 2 Axes>"
      ]
     },
     "metadata": {
      "needs_background": "light"
     },
     "output_type": "display_data"
    }
   ],
   "source": [
    "vader_preds = data['sentiment'].apply(lambda x: 0 if x=='positive' else 1)\n",
    "vader_accuracy = evaluate_model('VADER', data['cyberbullying'], vader_preds, cmap='PuBu')\n",
    "\n",
    "# Store Sentiment Intensity Analyzer accuracy\n",
    "detection_accuracy_list.append(vader_accuracy)"
   ]
  },
  {
   "cell_type": "markdown",
   "id": "190d807e",
   "metadata": {},
   "source": [
    "**Observation(s)**:\n",
    "- Model speed: Average\n",
    "- VADER has an ACCURACY of 70.19%\n",
    "- VADER has a PRECISION of 80% for identifying positive instances of cyberbullying\n",
    "    - In other words, if the model identifies 5 instances of cyberbullying, 4 of these instances are true cyberbullying\n",
    "- VADER has a RECALL of 68% for identifying positive instances of cyberbullying\n",
    "    - Roughly speaking, if 3 true instances of cyberbullying are given, the model can identify 2 of them as cyberbullying\n",
    "- Overall, VADER does a decent job at identifying cyberbullying"
   ]
  },
  {
   "cell_type": "markdown",
   "id": "9d9f55d3",
   "metadata": {},
   "source": [
    "Model performance on individual cyberbullying types will also be examined"
   ]
  },
  {
   "cell_type": "code",
   "execution_count": 47,
   "id": "1bbefb51",
   "metadata": {},
   "outputs": [
    {
     "name": "stdout",
     "output_type": "stream",
     "text": [
      "\n",
      "MODEL: VADER (not_cyberbullying)\n",
      "ACCURACY: 0.7362434410383872\n",
      "\n",
      "----------------CLASSIFICATION REPORT----------------\n",
      "               precision    recall  f1-score   support\n",
      "\n",
      "           0       1.00      0.74      0.85     57936\n",
      "           1       0.00      0.00      0.00         0\n",
      "\n",
      "    accuracy                           0.74     57936\n",
      "   macro avg       0.50      0.37      0.42     57936\n",
      "weighted avg       1.00      0.74      0.85     57936\n",
      " -----------------------------------------------------\n",
      "\n",
      "MODEL: VADER (gender)\n",
      "ACCURACY: 0.7904040404040404\n",
      "\n",
      "----------------CLASSIFICATION REPORT----------------\n",
      "               precision    recall  f1-score   support\n",
      "\n",
      "           0       0.00      0.00      0.00         0\n",
      "           1       1.00      0.79      0.88     24948\n",
      "\n",
      "    accuracy                           0.79     24948\n",
      "   macro avg       0.50      0.40      0.44     24948\n",
      "weighted avg       1.00      0.79      0.88     24948\n",
      " -----------------------------------------------------\n",
      "\n",
      "MODEL: VADER (religion)\n",
      "ACCURACY: 0.635719347980156\n",
      "\n",
      "----------------CLASSIFICATION REPORT----------------\n",
      "               precision    recall  f1-score   support\n",
      "\n",
      "           0       0.00      0.00      0.00         0\n",
      "           1       1.00      0.64      0.78     23987\n",
      "\n",
      "    accuracy                           0.64     23987\n",
      "   macro avg       0.50      0.32      0.39     23987\n",
      "weighted avg       1.00      0.64      0.78     23987\n",
      " -----------------------------------------------------\n",
      "\n",
      "MODEL: VADER (other_cyberbullying)\n",
      "ACCURACY: 0.4219608845711364\n",
      "\n",
      "----------------CLASSIFICATION REPORT----------------\n",
      "               precision    recall  f1-score   support\n",
      "\n",
      "           0       0.00      0.00      0.00         0\n",
      "           1       1.00      0.42      0.59      7823\n",
      "\n",
      "    accuracy                           0.42      7823\n",
      "   macro avg       0.50      0.21      0.30      7823\n",
      "weighted avg       1.00      0.42      0.59      7823\n",
      " -----------------------------------------------------\n",
      "\n",
      "MODEL: VADER (age)\n",
      "ACCURACY: 0.7432432432432432\n",
      "\n",
      "----------------CLASSIFICATION REPORT----------------\n",
      "               precision    recall  f1-score   support\n",
      "\n",
      "           0       0.00      0.00      0.00         0\n",
      "           1       1.00      0.74      0.85      7992\n",
      "\n",
      "    accuracy                           0.74      7992\n",
      "   macro avg       0.50      0.37      0.43      7992\n",
      "weighted avg       1.00      0.74      0.85      7992\n",
      " -----------------------------------------------------\n",
      "\n",
      "MODEL: VADER (ethnicity)\n",
      "ACCURACY: 0.671861853439641\n",
      "\n",
      "----------------CLASSIFICATION REPORT----------------\n",
      "               precision    recall  f1-score   support\n",
      "\n",
      "           0       0.00      0.00      0.00         0\n",
      "           1       1.00      0.67      0.80     24959\n",
      "\n",
      "    accuracy                           0.67     24959\n",
      "   macro avg       0.50      0.34      0.40     24959\n",
      "weighted avg       1.00      0.67      0.80     24959\n",
      " -----------------------------------------------------\n"
     ]
    },
    {
     "data": {
      "image/png": "[encoded data removed]",
      "text/plain": [
       "<Figure size 1440x720 with 12 Axes>"
      ]
     },
     "metadata": {
      "needs_background": "light"
     },
     "output_type": "display_data"
    }
   ],
   "source": [
    "fig, axes = plt.subplots(2, 3, figsize=(20, 10))\n",
    "axes = axes.flatten()\n",
    "\n",
    "for i, cyberbullying_type in enumerate(data['cyberbullying_type'].unique()):\n",
    "    data_cyberbullying_type = data[data['cyberbullying_type']==cyberbullying_type]\n",
    "    data_column = data_cyberbullying_type['cyberbullying']\n",
    "    preds = data_cyberbullying_type['sentiment'].apply(lambda x: 0 if x=='positive' else 1)\n",
    "\n",
    "    # Evaluate model for each cyberbullying type and plot confusion matrices on dashboard\n",
    "    evaluate_model(f'VADER ({cyberbullying_type})',\n",
    "                   data_column,\n",
    "                   preds,\n",
    "                   cmap=f'{colormaps[i]}',\n",
    "                   ax=axes[i],\n",
    "                   subplot=True)\n",
    "    axes[i].set_title(f'VADER ({cyberbullying_type})')\n",
    "    axes[i].set_xlabel('Predicted')\n",
    "    axes[i].set_ylabel('Actual')"
   ]
  },
  {
   "cell_type": "markdown",
   "id": "fe20c104",
   "metadata": {},
   "source": [
    "**Observation(s)**:\n",
    "- ACCURACY SCORES:\n",
    "    - not_cyberbulling: 73.62%\n",
    "    - gender: 79.44%\n",
    "    - religion: 63.58%\n",
    "    - other_cyberbullying: 42.20%\n",
    "    - age: 74.34%\n",
    "    - ethnicity: 67.19%\n",
    "- VADER does a good job detecting cyberbullying for gender cyberbullying, age cyberbullying, and ethnicity cyberbullying\n",
    "- The model underperforms for other_cyberbullying"
   ]
  },
  {
   "cell_type": "markdown",
   "id": "4045c61f",
   "metadata": {},
   "source": [
    "## 4. **Machine Learning Models**"
   ]
  },
  {
   "cell_type": "code",
   "execution_count": 48,
   "id": "a8193afb",
   "metadata": {},
   "outputs": [],
   "source": [
    "X = data['cleaned_text']\n",
    "y = data['cyberbullying']"
   ]
  },
  {
   "cell_type": "code",
   "execution_count": 49,
   "id": "0070450d",
   "metadata": {},
   "outputs": [],
   "source": [
    "X_train, X_test, y_train, y_test = train_test_split(X, y, test_size=0.2, random_state=42)"
   ]
  },
  {
   "cell_type": "markdown",
   "id": "945b5d84",
   "metadata": {},
   "source": [
    "Vectorize text data"
   ]
  },
  {
   "cell_type": "code",
   "execution_count": 50,
   "id": "d48a0136",
   "metadata": {},
   "outputs": [],
   "source": [
    "vectorizer = TfidfVectorizer()\n",
    "X_train_vec = vectorizer.fit_transform(X_train)\n",
    "X_test_vec = vectorizer.transform(X_test)"
   ]
  },
  {
   "cell_type": "markdown",
   "id": "df4a7e03",
   "metadata": {},
   "source": [
    "Handle potentional class imbalance (detection)"
   ]
  },
  {
   "cell_type": "code",
   "execution_count": 51,
   "id": "da1edc78",
   "metadata": {},
   "outputs": [
    {
     "data": {
      "text/plain": [
       "cyberbullying\n",
       "1    60.77%\n",
       "0    39.23%\n",
       "Name: proportion, dtype: object"
      ]
     },
     "execution_count": 51,
     "metadata": {},
     "output_type": "execute_result"
    }
   ],
   "source": [
    "# Examine class composition based on cyberbullying\n",
    "cyberbullying_count = y_train.value_counts(normalize=True)\n",
    "round(cyberbullying_count*100, 2).astype('str') + '%'"
   ]
  },
  {
   "cell_type": "markdown",
   "id": "dc1a64a7",
   "metadata": {},
   "source": [
    "**Observation(s)**:\n",
    "- There appears to be a slight class imbalance that favors positive instances of cyberbullying over negative instances of cyberbullying\n",
    "- SMOTE will be used to upsample the minority class"
   ]
  },
  {
   "cell_type": "code",
   "execution_count": 52,
   "id": "f9afefeb",
   "metadata": {},
   "outputs": [],
   "source": [
    "smote = SMOTE(random_state=42)\n",
    "X_train_balanced, y_train_balanced = smote.fit_resample(X_train_vec, y_train)"
   ]
  },
  {
   "cell_type": "code",
   "execution_count": 53,
   "id": "6dad7cca",
   "metadata": {},
   "outputs": [
    {
     "data": {
      "text/plain": [
       "cyberbullying\n",
       "1    50.0%\n",
       "0    50.0%\n",
       "Name: proportion, dtype: object"
      ]
     },
     "execution_count": 53,
     "metadata": {},
     "output_type": "execute_result"
    }
   ],
   "source": [
    "# Examine class composition based on cyberbullying after upsampling\n",
    "cyberbullying_count = y_train_balanced.value_counts(normalize=True)\n",
    "round(cyberbullying_count * 100, 2).astype('str') + '%'"
   ]
  },
  {
   "cell_type": "markdown",
   "id": "e729159b",
   "metadata": {},
   "source": [
    " Test multiple machine learning binary classification models:\n",
    "- Logistic Regression\n",
    "- K-Nearest Neighbors\n",
    "- Naïve Bayes\n",
    "- Decision Tree\n",
    "- Random Forest </br>\n",
    "\n",
    "Then evaluate models using accuracy, F1-score, and a confusion matrix"
   ]
  },
  {
   "cell_type": "markdown",
   "id": "df37bba0",
   "metadata": {},
   "source": [
    "### Logistic Regression"
   ]
  },
  {
   "cell_type": "code",
   "execution_count": 54,
   "id": "15e88062",
   "metadata": {},
   "outputs": [
    {
     "name": "stdout",
     "output_type": "stream",
     "text": [
      "\n",
      "MODEL: Logistic Regression\n",
      "ACCURACY: 0.9335907074401436\n",
      "\n",
      "----------------CLASSIFICATION REPORT----------------\n",
      "               precision    recall  f1-score   support\n",
      "\n",
      "           0       0.88      0.97      0.92     11603\n",
      "           1       0.98      0.91      0.94     17926\n",
      "\n",
      "    accuracy                           0.93     29529\n",
      "   macro avg       0.93      0.94      0.93     29529\n",
      "weighted avg       0.94      0.93      0.93     29529\n",
      " -----------------------------------------------------\n"
     ]
    },
    {
     "data": {
      "image/png": "[encoded data removed]",
      "text/plain": [
       "<Figure size 432x288 with 2 Axes>"
      ]
     },
     "metadata": {
      "needs_background": "light"
     },
     "output_type": "display_data"
    }
   ],
   "source": [
    "log_reg = LogisticRegression(random_state=42)\n",
    "log_reg.fit(X_train_balanced, y_train_balanced)\n",
    "\n",
    "log_reg_preds = log_reg.predict(X_test_vec)\n",
    "log_reg_accuracy = evaluate_model('Logistic Regression', y_test, log_reg_preds, cmap='Reds')\n",
    "\n",
    "# Store Logistic Regression accuracy\n",
    "detection_accuracy_list.append(log_reg_accuracy)"
   ]
  },
  {
   "cell_type": "markdown",
   "id": "e3c152be",
   "metadata": {},
   "source": [
    "**Observation(s)**:\n",
    "- Model speed: Fast\n",
    "- Logistic Regression has an ACCURACY of 93.36%\n",
    "- Logistic Regression has a PRECISION of 98% for identifying positive instances of cyberbullying\n",
    "    - In other words, if the model identifies 50 instances of cyberbullying, 49 of these instances are true cyberbullying!\n",
    "- Logistic Regression has a RECALL of 91% for identifying positive instances of cyberbullying\n",
    "    - Roughly speaking, if 10 true instances of cyberbullying are given, the model can identify 9 of them as cyberbullying\n",
    "- Overall, Logistic Regression does a superb job at identifying cyberbullying"
   ]
  },
  {
   "cell_type": "markdown",
   "id": "7a76ff0d",
   "metadata": {},
   "source": [
    "### K-Nearest Neighbors"
   ]
  },
  {
   "cell_type": "code",
   "execution_count": 55,
   "id": "3fdcb12c",
   "metadata": {},
   "outputs": [
    {
     "name": "stdout",
     "output_type": "stream",
     "text": [
      "\n",
      "MODEL: K-Nearest Neighbors\n",
      "ACCURACY: 0.46814995428223105\n",
      "\n",
      "----------------CLASSIFICATION REPORT----------------\n",
      "               precision    recall  f1-score   support\n",
      "\n",
      "           0       0.42      0.98      0.59     11603\n",
      "           1       0.92      0.14      0.24     17926\n",
      "\n",
      "    accuracy                           0.47     29529\n",
      "   macro avg       0.67      0.56      0.41     29529\n",
      "weighted avg       0.73      0.47      0.38     29529\n",
      " -----------------------------------------------------\n"
     ]
    },
    {
     "data": {
      "image/png": "[encoded data removed]",
      "text/plain": [
       "<Figure size 432x288 with 2 Axes>"
      ]
     },
     "metadata": {
      "needs_background": "light"
     },
     "output_type": "display_data"
    }
   ],
   "source": [
    "knn = KNeighborsClassifier()\n",
    "knn.fit(X_train_balanced, y_train_balanced)\n",
    "\n",
    "knn_preds = knn.predict(X_test_vec)\n",
    "knn_accuracy = evaluate_model('K-Nearest Neighbors', y_test, knn_preds, cmap='Oranges')\n",
    "\n",
    "# Store K-Nearest Neighbors accuracy\n",
    "detection_accuracy_list.append(knn_accuracy)"
   ]
  },
  {
   "cell_type": "markdown",
   "id": "dbb695e6",
   "metadata": {},
   "source": [
    "**Observation(s)**:\n",
    "- Model speed: Very slow\n",
    "- K-Nearest Neighbors has an ACCURACY of 46.81%\n",
    "- K-Nearest Neighbors has a PRECISION of 92% for identifying positive instances of cyberbullying\n",
    "    - In other words, if the model identifies 25 instances of cyberbullying, 23 of these instances are true cyberbullying\n",
    "- K-Nearest Neighbors has a RECALL of 14% for identifying positive instances of cyberbullying\n",
    "    - Roughly speaking, if 7 true instances of cyberbullying are given, the model can identify 1 of them as cyberbullying\n",
    "- Overall, K-Nearest Neighbors does a poor job at identifying cyberbullying"
   ]
  },
  {
   "cell_type": "markdown",
   "id": "46ed9668",
   "metadata": {},
   "source": [
    "### Naïve Bayes"
   ]
  },
  {
   "cell_type": "code",
   "execution_count": 56,
   "id": "851d5dbf",
   "metadata": {},
   "outputs": [
    {
     "name": "stdout",
     "output_type": "stream",
     "text": [
      "\n",
      "MODEL: Naïve Bayes\n",
      "ACCURACY: 0.9155067899353179\n",
      "\n",
      "----------------CLASSIFICATION REPORT----------------\n",
      "               precision    recall  f1-score   support\n",
      "\n",
      "           0       0.86      0.93      0.90     11603\n",
      "           1       0.95      0.90      0.93     17926\n",
      "\n",
      "    accuracy                           0.92     29529\n",
      "   macro avg       0.91      0.92      0.91     29529\n",
      "weighted avg       0.92      0.92      0.92     29529\n",
      " -----------------------------------------------------\n"
     ]
    },
    {
     "data": {
      "image/png": "[encoded data removed]",
      "text/plain": [
       "<Figure size 432x288 with 2 Axes>"
      ]
     },
     "metadata": {
      "needs_background": "light"
     },
     "output_type": "display_data"
    }
   ],
   "source": [
    "nb = BernoulliNB()\n",
    "nb.fit(X_train_balanced, y_train_balanced)\n",
    "\n",
    "nb_preds = nb.predict(X_test_vec)\n",
    "nb_accuracy = evaluate_model('Naïve Bayes', y_test, nb_preds, cmap='Greens')\n",
    "\n",
    "# Store Naïve Bayes accuracy\n",
    "detection_accuracy_list.append(nb_accuracy)"
   ]
  },
  {
   "cell_type": "markdown",
   "id": "d25b322e",
   "metadata": {},
   "source": [
    "**Observation(s)**:\n",
    "- Model speed: Extremely fast\n",
    "- Naïve Bayes has an ACCURACY of 91.55%\n",
    "- Naïve Bayes has a PRECISION of 95% for identifying positive instances of cyberbullying\n",
    "    - In other words, if the model identifies 20 instances of cyberbullying, 19 of these instances are true cyberbullying\n",
    "- Naïve Bayes has a RECALL of 90% for identifying positive instances of cyberbullying\n",
    "    - Roughly speaking, if 10 true instances of cyberbullying are given, the model can identify 9 of them as cyberbullying\n",
    "- Overall, Naïve Bayes does an excellent job at identifying cyberbullying"
   ]
  },
  {
   "cell_type": "markdown",
   "id": "a31c7a5d",
   "metadata": {},
   "source": [
    "### Decision Tree"
   ]
  },
  {
   "cell_type": "code",
   "execution_count": 57,
   "id": "a558355f",
   "metadata": {},
   "outputs": [
    {
     "name": "stdout",
     "output_type": "stream",
     "text": [
      "\n",
      "MODEL: Decision Tree\n",
      "ACCURACY: 0.922449117816384\n",
      "\n",
      "----------------CLASSIFICATION REPORT----------------\n",
      "               precision    recall  f1-score   support\n",
      "\n",
      "           0       0.90      0.90      0.90     11603\n",
      "           1       0.93      0.94      0.94     17926\n",
      "\n",
      "    accuracy                           0.92     29529\n",
      "   macro avg       0.92      0.92      0.92     29529\n",
      "weighted avg       0.92      0.92      0.92     29529\n",
      " -----------------------------------------------------\n"
     ]
    },
    {
     "data": {
      "image/png": "[encoded data removed]",
      "text/plain": [
       "<Figure size 432x288 with 2 Axes>"
      ]
     },
     "metadata": {
      "needs_background": "light"
     },
     "output_type": "display_data"
    }
   ],
   "source": [
    "dec_tree = DecisionTreeClassifier(random_state=42)\n",
    "dec_tree.fit(X_train_balanced, y_train_balanced)\n",
    "\n",
    "dec_tree_preds = dec_tree.predict(X_test_vec)\n",
    "dec_tree_accuracy = evaluate_model('Decision Tree', y_test, dec_tree_preds, cmap='Blues')\n",
    "\n",
    "# Store Decision Tree accuracy\n",
    "detection_accuracy_list.append(dec_tree_accuracy)"
   ]
  },
  {
   "cell_type": "markdown",
   "id": "cb2b7830",
   "metadata": {},
   "source": [
    "**Observation(s)**:\n",
    "- Model speed: Slow\n",
    "- Decision Tree has an ACCURACY of 92.24%\n",
    "- Decision Tree has a PRECISION of 93% for identifying positive instances of cyberbullying\n",
    "    - In other words, if the model identifies 15 instances of cyberbullying, 14 of these instances are true cyberbullying\n",
    "- Decision Tree has a RECALL of 94% for identifying positive instances of cyberbullying\n",
    "    - Roughly speaking, if 17 true instances of cyberbullying are given, the model can identify 16 of them as cyberbullying\n",
    "- Overall, Decision Tree does an excellent job at identifying cyberbullying"
   ]
  },
  {
   "cell_type": "markdown",
   "id": "7db527d4",
   "metadata": {},
   "source": [
    "### Random Forest"
   ]
  },
  {
   "cell_type": "code",
   "execution_count": 58,
   "id": "b5a2aec5",
   "metadata": {},
   "outputs": [
    {
     "name": "stdout",
     "output_type": "stream",
     "text": [
      "\n",
      "MODEL: Random Forest\n",
      "ACCURACY: 0.9335568424260896\n",
      "\n",
      "----------------CLASSIFICATION REPORT----------------\n",
      "               precision    recall  f1-score   support\n",
      "\n",
      "           0       0.90      0.94      0.92     11603\n",
      "           1       0.96      0.93      0.94     17926\n",
      "\n",
      "    accuracy                           0.93     29529\n",
      "   macro avg       0.93      0.93      0.93     29529\n",
      "weighted avg       0.93      0.93      0.93     29529\n",
      " -----------------------------------------------------\n"
     ]
    },
    {
     "data": {
      "image/png": "[encoded data removed]",
      "text/plain": [
       "<Figure size 432x288 with 2 Axes>"
      ]
     },
     "metadata": {
      "needs_background": "light"
     },
     "output_type": "display_data"
    }
   ],
   "source": [
    "ran_for = RandomForestClassifier(random_state=42)\n",
    "ran_for.fit(X_train_balanced, y_train_balanced)\n",
    "\n",
    "ran_for_preds = ran_for.predict(X_test_vec)\n",
    "ran_for_accuracy = evaluate_model('Random Forest', y_test, ran_for_preds, cmap='Purples')\n",
    "\n",
    "# Store Random Forest accuracy\n",
    "detection_accuracy_list.append(ran_for_accuracy)"
   ]
  },
  {
   "cell_type": "markdown",
   "id": "50a87b99",
   "metadata": {},
   "source": [
    "**Observation(s)**:\n",
    "- Model speed: Extremely slow\n",
    "- Random Forest has an ACCURACY of 93.36%\n",
    "- Random Forest has a PRECISION of 96% for identifying positive instances of cyberbullying\n",
    "    - In other words, if the model identifies 25 instances of cyberbullying, 24 of these instances are true cyberbullying\n",
    "- Random Forest has a RECALL of 93% for identifying positive instances of cyberbullying\n",
    "    - Roughly speaking, if 15 true instances of cyberbullying are given, the model can identify 14 of them as cyberbullying\n",
    "- Overall, Random Forest does a superb job at identifying cyberbullying"
   ]
  },
  {
   "cell_type": "markdown",
   "id": "8e99bc40",
   "metadata": {},
   "source": [
    "## 5. **Deep Learning Models**"
   ]
  },
  {
   "cell_type": "markdown",
   "id": "f7ed16b1",
   "metadata": {},
   "source": [
    "Tokenize text data"
   ]
  },
  {
   "cell_type": "code",
   "execution_count": 59,
   "id": "2c179b93",
   "metadata": {},
   "outputs": [],
   "source": [
    "MAX_NB_WORDS = 100000\n",
    "\n",
    "# Vectorize the text samples into 2 integer tensor\n",
    "tokenizer = Tokenizer(num_words=MAX_NB_WORDS, char_level=False)\n",
    "tokenizer.fit_on_texts(X_train)"
   ]
  },
  {
   "cell_type": "code",
   "execution_count": 60,
   "id": "d60f8a1e",
   "metadata": {},
   "outputs": [],
   "source": [
    "X_train_seq = tokenizer.texts_to_sequences(X_train)\n",
    "X_test_seq = tokenizer.texts_to_sequences(X_test)"
   ]
  },
  {
   "cell_type": "markdown",
   "id": "536c89a1",
   "metadata": {},
   "source": [
    "Find max sequence length"
   ]
  },
  {
   "cell_type": "code",
   "execution_count": 61,
   "id": "225ecd63",
   "metadata": {},
   "outputs": [
    {
     "name": "stdout",
     "output_type": "stream",
     "text": [
      "Average length: 11.7\n",
      "Max length: 443\n"
     ]
    },
    {
     "data": {
      "text/plain": [
       "Text(0, 0.5, 'Frequency')"
      ]
     },
     "execution_count": 61,
     "metadata": {},
     "output_type": "execute_result"
    },
    {
     "data": {
      "image/png": "[encoded data removed]",
      "text/plain": [
       "<Figure size 432x288 with 1 Axes>"
      ]
     },
     "metadata": {
      "needs_background": "light"
     },
     "output_type": "display_data"
    }
   ],
   "source": [
    "sequence_lens = [len(seq) for seq in X_train_seq]\n",
    "print('Average length: %0.1f' % np.mean(sequence_lens))\n",
    "print('Max length: %d' % max(sequence_lens))\n",
    "\n",
    "plt.hist([length for length in sequence_lens if length < 200], bins=50)\n",
    "plt.title('Sequence Length Distribution Plot')\n",
    "plt.xlabel('Sequence Length')\n",
    "plt.ylabel('Frequency')"
   ]
  },
  {
   "cell_type": "markdown",
   "id": "d09f01cb",
   "metadata": {},
   "source": [
    "Since most sequences are under 50, the max sequence length will be set to 50 for computational efficiency"
   ]
  },
  {
   "cell_type": "code",
   "execution_count": 62,
   "id": "bb928970",
   "metadata": {},
   "outputs": [],
   "source": [
    "MAX_SEQUENCE_LENGTH = 50\n",
    "\n",
    "# Pad sequences with 0s\n",
    "X_train_pad = pad_sequences(X_train_seq, maxlen=MAX_SEQUENCE_LENGTH)\n",
    "X_test_pad = pad_sequences(X_test_seq, maxlen=MAX_SEQUENCE_LENGTH)"
   ]
  },
  {
   "cell_type": "code",
   "execution_count": 63,
   "id": "7fba8066",
   "metadata": {},
   "outputs": [],
   "source": [
    "smote = SMOTE(random_state=42)\n",
    "\n",
    "X_train_balanced, y_train_balanced = smote.fit_resample(X_train_pad, y_train)"
   ]
  },
  {
   "cell_type": "markdown",
   "id": "29af9300",
   "metadata": {},
   "source": [
    "One-hot encode the output classes (True/False)"
   ]
  },
  {
   "cell_type": "code",
   "execution_count": 64,
   "id": "342797d1",
   "metadata": {},
   "outputs": [],
   "source": [
    "y_train_cat = to_categorical(np.asarray(y_train_balanced))\n",
    "y_test_cat = to_categorical(np.asarray(y_test))"
   ]
  },
  {
   "cell_type": "markdown",
   "id": "4668920b",
   "metadata": {},
   "source": [
    "Build a CNN-LSTM hybrid model with the following layers:\n",
    "- Input layer with input shape = MAX_SEQUENCE_LENGTH and dtype int32\n",
    "- Embedding layer with input dimension = MAX_NB_WORDS, output dimension =50, and input length = MAX_SEQUENCE_LENGTH \n",
    "- Conv1D layer with 128 filters and kernel size 5 and activation relu\n",
    "- MaxPooling1D with pool size = 5\n",
    "- Dropout(0.3)\n",
    "- Conv1D layer with 128 filters and kernel size 5 and activation relu\n",
    "- MaxPooling1D with pool size = 5 \n",
    "- Dropout(0.3)\n",
    "- LSTM layer with 128 units\n",
    "- Dense layer with 2 neurons and activation softmax"
   ]
  },
  {
   "cell_type": "code",
   "execution_count": 65,
   "id": "fe3c9169",
   "metadata": {},
   "outputs": [],
   "source": [
    "EMBEDDING_DIM = 100\n",
    "\n",
    "sequence_input = Input(shape=(MAX_SEQUENCE_LENGTH,), dtype='int32')\n",
    "\n",
    "embedding_layer = Embedding(MAX_NB_WORDS, EMBEDDING_DIM,\n",
    "                            input_length=MAX_SEQUENCE_LENGTH,\n",
    "                            trainable=True)\n",
    "x = embedding_layer(sequence_input)\n",
    "\n",
    "# CNN layers\n",
    "x = Conv1D(128, 5, activation='relu')(x)\n",
    "x = MaxPooling1D(5)(x)\n",
    "x = Dropout(0.3)(x)\n",
    "\n",
    "x = Conv1D(128, 5, activation='relu')(x)\n",
    "x = MaxPooling1D(5)(x)\n",
    "x = Dropout(0.3)(x)\n",
    "\n",
    "# LSTM layer\n",
    "x = LSTM(128)(x)\n",
    "predictions = Dense(2, activation='softmax')(x)"
   ]
  },
  {
   "cell_type": "markdown",
   "id": "600bb3b0",
   "metadata": {},
   "source": [
    "Compile the model with Adam optimizer, cateogrical crossentropy loss function, and metric accuracy"
   ]
  },
  {
   "cell_type": "code",
   "execution_count": 66,
   "id": "36cbc3c8",
   "metadata": {},
   "outputs": [],
   "source": [
    "detection_model = Model(sequence_input, predictions)\n",
    "\n",
    "detection_model.compile(optimizer='adam',\n",
    "                        loss='categorical_crossentropy',\n",
    "                        metrics=['accuracy'])"
   ]
  },
  {
   "cell_type": "markdown",
   "id": "cdfa51c6",
   "metadata": {},
   "source": [
    "Use Reduce Learning Rate on Plateau and early stopping to monitor validation loss"
   ]
  },
  {
   "cell_type": "code",
   "execution_count": 67,
   "id": "cb575697",
   "metadata": {},
   "outputs": [],
   "source": [
    "learning_rate_reduction = ReduceLROnPlateau(monitor='val_accuracy',\n",
    "                                            factor=0.5,\n",
    "                                            patience=2,\n",
    "                                            verbose=1,\n",
    "                                            min_lr=0.0001)\n",
    "\n",
    "early_stop = EarlyStopping(patience=3, verbose=1)"
   ]
  },
  {
   "cell_type": "markdown",
   "id": "40abb6e9",
   "metadata": {},
   "source": [
    "Train the hybrid model for 10 epochs with early stopping"
   ]
  },
  {
   "cell_type": "code",
   "execution_count": 68,
   "id": "7fbdcbc9",
   "metadata": {},
   "outputs": [
    {
     "name": "stdout",
     "output_type": "stream",
     "text": [
      "Epoch 1/10\n",
      "2019/2019 [==============================] - 167s 82ms/step - loss: 0.3016 - accuracy: 0.8763 - val_loss: 0.6316 - val_accuracy: 0.7683 - lr: 0.0010\n",
      "Epoch 2/10\n",
      "2019/2019 [==============================] - 164s 81ms/step - loss: 0.2093 - accuracy: 0.9158 - val_loss: 0.6974 - val_accuracy: 0.7221 - lr: 0.0010\n",
      "Epoch 3/10\n",
      "2019/2019 [==============================] - 165s 81ms/step - loss: 0.1423 - accuracy: 0.9436 - val_loss: 0.5991 - val_accuracy: 0.7726 - lr: 0.0010\n",
      "Epoch 4/10\n",
      "2019/2019 [==============================] - 163s 81ms/step - loss: 0.1046 - accuracy: 0.9576 - val_loss: 1.0012 - val_accuracy: 0.7052 - lr: 0.0010\n",
      "Epoch 5/10\n",
      "2019/2019 [==============================] - 162s 80ms/step - loss: 0.0617 - accuracy: 0.9729 - val_loss: 1.1357 - val_accuracy: 0.7541 - lr: 5.0000e-04\n",
      "Epoch 6: early stopping\n"
     ]
    }
   ],
   "source": [
    "detection_history = detection_model.fit(X_train_balanced,\n",
    "                                        y_train_cat,\n",
    "                                        validation_split=0.1,\n",
    "                                        epochs=10,\n",
    "                                        batch_size=64,\n",
    "                                        callbacks=[learning_rate_reduction, early_stop])"
   ]
  },
  {
   "cell_type": "markdown",
   "id": "157b4306",
   "metadata": {},
   "source": [
    "Plot training and validation accuracy and loss against epochs for the deep learning detection model"
   ]
  },
  {
   "cell_type": "code",
   "execution_count": 69,
   "id": "1171f131",
   "metadata": {},
   "outputs": [
    {
     "data": {
      "image/png": "[encoded data removed]",
      "text/plain": [
       "<Figure size 432x288 with 1 Axes>"
      ]
     },
     "metadata": {
      "needs_background": "light"
     },
     "output_type": "display_data"
    },
    {
     "data": {
      "image/png": "[encoded data removed]",
      "text/plain": [
       "<Figure size 432x288 with 1 Axes>"
      ]
     },
     "metadata": {
      "needs_background": "light"
     },
     "output_type": "display_data"
    }
   ],
   "source": [
    "plt.plot(detection_history.history['accuracy'])\n",
    "plt.plot(detection_history.history['val_accuracy'])\n",
    "plt.title('Model Accuracy')\n",
    "plt.xlabel('Epoch')\n",
    "plt.ylabel('Accuracy')\n",
    "plt.legend(['Train', 'Validation'], loc='upper left')\n",
    "plt.show()\n",
    "\n",
    "plt.plot(detection_history.history['loss'])\n",
    "plt.plot(detection_history.history['val_loss'])\n",
    "plt.title('Model Loss')\n",
    "plt.xlabel('Epoch')\n",
    "plt.ylabel('Loss')\n",
    "plt.legend(['Train', 'Validation'], loc='upper left')\n",
    "plt.show()"
   ]
  },
  {
   "cell_type": "markdown",
   "id": "2bb512f8",
   "metadata": {},
   "source": [
    "**Observations**:\n",
    "- Training accuracy increases smoothly \n",
    "- Validation accuracy remains steady\n",
    "- Training loss decreases continuously\n",
    "- Validation loss increases slightly (learning rate reduction and early stopping prevented overfitting)"
   ]
  },
  {
   "cell_type": "markdown",
   "id": "d2f10bf6",
   "metadata": {},
   "source": [
    "Test CNN-LSTM hybrid model and store accuracy score"
   ]
  },
  {
   "cell_type": "code",
   "execution_count": 70,
   "id": "497a4234",
   "metadata": {},
   "outputs": [
    {
     "name": "stdout",
     "output_type": "stream",
     "text": [
      "923/923 [==============================] - 3s 3ms/step\n",
      "\n",
      "MODEL: CNN-LSTM\n",
      "ACCURACY: 0.8877713434251076\n",
      "\n",
      "----------------CLASSIFICATION REPORT----------------\n",
      "               precision    recall  f1-score   support\n",
      "\n",
      "           0       0.82      0.92      0.87     11603\n",
      "           1       0.94      0.87      0.90     17926\n",
      "\n",
      "    accuracy                           0.89     29529\n",
      "   macro avg       0.88      0.89      0.88     29529\n",
      "weighted avg       0.89      0.89      0.89     29529\n",
      " -----------------------------------------------------\n"
     ]
    },
    {
     "data": {
      "image/png": "[encoded data removed]",
      "text/plain": [
       "<Figure size 432x288 with 2 Axes>"
      ]
     },
     "metadata": {
      "needs_background": "light"
     },
     "output_type": "display_data"
    }
   ],
   "source": [
    "y_preds = (detection_model.predict(X_test_pad) > 0.5).astype('int32')\n",
    "\n",
    "# Switching from Multi-Label format to Multiclass\n",
    "cnn_lstm_preds = []\n",
    "weights = [0, 1]\n",
    "for j in range(len(y_preds)):\n",
    "    weighted_pred = [y_preds[j][i] * weights[i] for i in range(len(y_preds[j]))]\n",
    "    prediction = sum(weighted_pred)\n",
    "    cnn_lstm_preds.append(prediction)\n",
    "\n",
    "cnn_lstm_accuracy = evaluate_model('CNN-LSTM', y_test, cnn_lstm_preds, cmap='Greys')\n",
    "\n",
    "# Store CNN-LSTM accuracy\n",
    "detection_accuracy_list.append(cnn_lstm_accuracy)"
   ]
  },
  {
   "cell_type": "markdown",
   "id": "934f788f",
   "metadata": {},
   "source": [
    "**Observation(s)**:\n",
    "- Model speed: Very slow\n",
    "- CNN-LSTM has an ACCURACY of 88.69%\n",
    "- CNN-LSTM has a PRECISION of 94% for identifying positive instances of cyberbullying\n",
    "    - In other words, if the model identifies 17 instances of cyberbullying, 16 of these instances are true cyberbullying\n",
    "- CNN-LSTM has a RECALL of 87% for identifying positive instances of cyberbullying\n",
    "    - Roughly speaking, if 8 true instances of cyberbullying are given, the model can identify 7 of them as cyberbullying\n",
    "- Overall, CNN-LSTM does a good job at identifying cyberbullying"
   ]
  },
  {
   "cell_type": "markdown",
   "id": "477d0d86",
   "metadata": {},
   "source": [
    "## 6. **Detection Summary**"
   ]
  },
  {
   "cell_type": "markdown",
   "id": "fcb99648",
   "metadata": {},
   "source": [
    "Model Accuracy Comparison"
   ]
  },
  {
   "cell_type": "code",
   "execution_count": 71,
   "id": "5d6c30f7",
   "metadata": {},
   "outputs": [
    {
     "name": "stdout",
     "output_type": "stream",
     "text": [
      "----------------MODELS RANKED BY PERFORMANCE----------------\n",
      "\n",
      "1. Logistic Regression\n",
      "    ACCURACY: 0.9335907074401436\n",
      "\n",
      "2. Random Forest\n",
      "    ACCURACY: 0.9335568424260896\n",
      "\n",
      "3. Decision Tree\n",
      "    ACCURACY: 0.922449117816384\n",
      "\n",
      "4. Naïve Bayes\n",
      "    ACCURACY: 0.9155067899353179\n",
      "\n",
      "5. CNN-LSTM\n",
      "    ACCURACY: 0.8877713434251076\n",
      "\n",
      "6. VADER\n",
      "    ACCURACY: 0.7019066002912391\n",
      "\n",
      "7. K-Nearest Neighbors\n",
      "    ACCURACY: 0.46814995428223105\n",
      "\n",
      "------------------------------------------------------------\n"
     ]
    }
   ],
   "source": [
    "# Sort by accuracy in descending order\n",
    "sorted_detection_accuracy_list = sorted(detection_accuracy_list, key=lambda x: x['ACCURACY'], reverse=True)\n",
    "\n",
    "# Print sorted models\n",
    "print('----------------MODELS RANKED BY PERFORMANCE----------------\\n')\n",
    "for i, model_dict in enumerate(sorted_detection_accuracy_list):\n",
    "    print(f\"{i+1}. {model_dict['MODEL']}\")\n",
    "    print(f\"    ACCURACY: {model_dict['ACCURACY']}\\n\")\n",
    "print('------------------------------------------------------------')"
   ]
  },
  {
   "cell_type": "markdown",
   "id": "cfbeb953",
   "metadata": {},
   "source": [
    "### **SUMMARY**:\n",
    "- MACHINE LEARNING MODELS: Logistic Regression, Random Forest, Decision Tree, Naïve Bayes, K-Nearest Neighbors\n",
    "    - The traditional machine learning models, aside from K-Nearest Neighbors, have very high performance (all exceeding 0.9 accuracy)\n",
    "    - Logistic Regression is placed the highest and is one of the fastest algorithms\n",
    "    - However, Random Forest has almost the same accuracy score and has generally higher detection precision and recall\n",
    "- DEEP LEARNING MODELS: Convolutional + Recurrent Neural Network (CNN-LSTM)\n",
    "    - The CNN-LSTM hybrid model performed surprisingly well on test data (as validation accuracy seemed to stagnate at a lower score)\n",
    "    - Adding additional layers and hyperparameter tuning could be used to improve detection\n",
    "- NATURAL LANGUAGE PROCESSING TOOLS: Valence Aware Dictionary and sEntiment Reasoner (VADER)\n",
    "    - The VADER model did not perform as well as the other models\n",
    "    - This is surprising since VADER specializes with analyzing short text passages such as tweets, customer reviews, or comments that may contain slang, emojis and abbreviations\n",
    "    - The most likely explanation is that some forms of cyberbullying are more subtle than others and thus the VADER model would not detect a high enough negative sentiment\n",
    "        - For example, a high proportion of religion cyberbullying, age cyberbullying, and \"other\" cyberbullying do not contain profanity and use other semantics to be considered offensive <br>\n",
    "\n",
    "#### Overall, the best model to use for cyberbullying detection is **Logistic Regression** for its high performance and efficiency!"
   ]
  },
  {
   "cell_type": "code",
   "execution_count": 72,
   "id": "ec1967cb-540d-4808-8a9f-61fa6696928a",
   "metadata": {},
   "outputs": [
    {
     "data": {
      "text/plain": [
       "['models/detection/detection_vectorizer.pkl']"
      ]
     },
     "execution_count": 72,
     "metadata": {},
     "output_type": "execute_result"
    }
   ],
   "source": [
    "# Save best model and vectorizer for future testing and experientation\n",
    "folder_path = 'models/detection/'\n",
    "if not os.path.exists(folder_path):\n",
    "    os.makedirs(folder_path)\n",
    "\n",
    "joblib.dump(log_reg, os.path.join(folder_path, 'detection_model.pkl'))\n",
    "joblib.dump(vectorizer, os.path.join(folder_path, 'detection_vectorizer.pkl'))"
   ]
  },
  {
   "cell_type": "markdown",
   "id": "78890266",
   "metadata": {},
   "source": [
    "***\n",
    "# **SECTION 3** : CYBERBULLYING CATEGORIZATION"
   ]
  },
  {
   "cell_type": "markdown",
   "id": "e9e2a21b",
   "metadata": {},
   "source": [
    "**OVERVIEW** </br>\n",
    "Cyberbullying categorization is a multi-class classification problem on text data. Given that the previous detection model classified the text as cyberbullying, the models in this section aim to categorize the text based on what type of cyberbullying is being presented. First, the DataFrame will be preprocessed once more to only include positive instances of cyberbullying and class imbalanced will be handled. Next, machine learning models and deep learning models that specialize in multi-class classification will be trained on the preprocessed text data. Model accuracy will be the main metric to compare these models against."
   ]
  },
  {
   "cell_type": "markdown",
   "id": "de78009a",
   "metadata": {},
   "source": [
    "Import libraries for categorization"
   ]
  },
  {
   "cell_type": "code",
   "execution_count": 73,
   "id": "66c151d1",
   "metadata": {},
   "outputs": [],
   "source": [
    "from sklearn.preprocessing import LabelEncoder\n",
    "from sklearn.naive_bayes import MultinomialNB\n",
    "from xgboost import XGBClassifier\n",
    "from sklearn.ensemble import AdaBoostClassifier\n",
    "from transformers import TFBertForSequenceClassification, BertTokenizer"
   ]
  },
  {
   "cell_type": "markdown",
   "id": "9937b1d4",
   "metadata": {},
   "source": [
    "## 1. **Data preprocessing**"
   ]
  },
  {
   "cell_type": "markdown",
   "id": "04061b72",
   "metadata": {},
   "source": [
    "Create a new DataFrame by dropping non-cyberbullying rows from original DataFrame"
   ]
  },
  {
   "cell_type": "code",
   "execution_count": 74,
   "id": "0b799a82",
   "metadata": {},
   "outputs": [
    {
     "name": "stdout",
     "output_type": "stream",
     "text": [
      "[ True]\n"
     ]
    }
   ],
   "source": [
    "# Drop non-cyberbullying rows\n",
    "non_cyberbullying_rows = data[data['cyberbullying'] == 0].index\n",
    "cyberbullying_data = data.drop(non_cyberbullying_rows, axis=0)\n",
    "\n",
    "# Check if all negative instances of cyberbullying have been dropped\n",
    "print(cyberbullying_data['cyberbullying'].unique() == 1)"
   ]
  },
  {
   "cell_type": "markdown",
   "id": "25765abd",
   "metadata": {},
   "source": [
    "Perform train-test split and vectorization on new dataset"
   ]
  },
  {
   "cell_type": "code",
   "execution_count": 75,
   "id": "71a2ffea",
   "metadata": {},
   "outputs": [],
   "source": [
    "X = cyberbullying_data['cleaned_text']\n",
    "y = cyberbullying_data['cyberbullying_type']\n",
    "\n",
    "X_train, X_test, y_train, y_test = train_test_split(X, y, test_size=0.2, random_state=42)"
   ]
  },
  {
   "cell_type": "code",
   "execution_count": 76,
   "id": "38f4af67",
   "metadata": {},
   "outputs": [],
   "source": [
    "vectorizer = TfidfVectorizer()\n",
    "X_train_vec = vectorizer.fit_transform(X_train)\n",
    "X_test_vec = vectorizer.transform(X_test)"
   ]
  },
  {
   "cell_type": "markdown",
   "id": "a25994d7",
   "metadata": {},
   "source": [
    "Handle potential class imbalance (categorization)"
   ]
  },
  {
   "cell_type": "code",
   "execution_count": 77,
   "id": "d1506781",
   "metadata": {},
   "outputs": [
    {
     "data": {
      "text/plain": [
       "cyberbullying_type\n",
       "gender                 27.95%\n",
       "ethnicity              27.68%\n",
       "religion               26.72%\n",
       "age                     8.93%\n",
       "other_cyberbullying     8.72%\n",
       "Name: proportion, dtype: object"
      ]
     },
     "execution_count": 77,
     "metadata": {},
     "output_type": "execute_result"
    }
   ],
   "source": [
    "# Examine class composition based on cyberbullying type\n",
    "cyberbullying_types_composition = y_train.value_counts(normalize=True)\n",
    "round(cyberbullying_types_composition*100, 2).astype('str') + '%'"
   ]
  },
  {
   "cell_type": "markdown",
   "id": "bbb05c02",
   "metadata": {},
   "source": [
    "**Observation(s)**:\n",
    "- Ethnicity, gender, and religion have more than triple the amount as age and other_cyberbullying which indicates class imbalance\n",
    "- SMOTE will be used to upsample the minority classes"
   ]
  },
  {
   "cell_type": "code",
   "execution_count": 78,
   "id": "5a5ef924",
   "metadata": {},
   "outputs": [],
   "source": [
    "smote = SMOTE(random_state=42)\n",
    "X_train_balanced, y_train_balanced = smote.fit_resample(X_train_vec, y_train)"
   ]
  },
  {
   "cell_type": "code",
   "execution_count": 79,
   "id": "f6c94444",
   "metadata": {},
   "outputs": [
    {
     "data": {
      "text/plain": [
       "cyberbullying_type\n",
       "ethnicity              20.0%\n",
       "age                    20.0%\n",
       "gender                 20.0%\n",
       "religion               20.0%\n",
       "other_cyberbullying    20.0%\n",
       "Name: proportion, dtype: object"
      ]
     },
     "execution_count": 79,
     "metadata": {},
     "output_type": "execute_result"
    }
   ],
   "source": [
    "# Examine class composition based on cyberbullying type after upsampling\n",
    "cyberbullying_types_smote = y_train_balanced.value_counts(normalize=True)\n",
    "round(cyberbullying_types_smote*100, 2).astype('str') + '%'"
   ]
  },
  {
   "cell_type": "markdown",
   "id": "93ffaa09",
   "metadata": {},
   "source": [
    "Label encode the cyberbullying type column to ensure compatibility with selected models"
   ]
  },
  {
   "cell_type": "code",
   "execution_count": 80,
   "id": "6230040a",
   "metadata": {},
   "outputs": [],
   "source": [
    "encoder = LabelEncoder()\n",
    "y_train_encoded = encoder.fit_transform(y_train_balanced)\n",
    "y_test_encoded = encoder.transform(y_test)"
   ]
  },
  {
   "cell_type": "markdown",
   "id": "98504f5b",
   "metadata": {},
   "source": [
    "## 2. **Machine Learning Models**"
   ]
  },
  {
   "cell_type": "markdown",
   "id": "9d7e946b",
   "metadata": {},
   "source": [
    " Test multiple machine learning multi-class classification models:\n",
    "- Decision Tree\n",
    "- Random Forest\n",
    "- Naïve Bayes\n",
    "- Gradient Boosting\n",
    "- Adaptive Boosting </br>\n",
    "\n",
    "Then evaluate models using accuracy, F1-score, and a confusion matrix"
   ]
  },
  {
   "cell_type": "code",
   "execution_count": 81,
   "id": "319ed36f",
   "metadata": {},
   "outputs": [],
   "source": [
    "# Make accuracy list for categorization\n",
    "categorization_accuracy_list = []"
   ]
  },
  {
   "cell_type": "markdown",
   "id": "465895e8",
   "metadata": {},
   "source": [
    "### Decision Tree"
   ]
  },
  {
   "cell_type": "code",
   "execution_count": 82,
   "id": "489e8b59",
   "metadata": {},
   "outputs": [
    {
     "name": "stdout",
     "output_type": "stream",
     "text": [
      "\n",
      "MODEL: Decision Tree\n",
      "ACCURACY: 0.9716865455356147\n",
      "\n",
      "----------------CLASSIFICATION REPORT----------------\n",
      "                      precision    recall  f1-score   support\n",
      "\n",
      "                age       0.98      0.97      0.98      1585\n",
      "          ethnicity       0.99      0.99      0.99      5091\n",
      "             gender       0.97      0.96      0.96      4892\n",
      "other_cyberbullying       0.86      0.89      0.87      1565\n",
      "           religion       0.99      0.99      0.99      4809\n",
      "\n",
      "           accuracy                           0.97     17942\n",
      "          macro avg       0.96      0.96      0.96     17942\n",
      "       weighted avg       0.97      0.97      0.97     17942\n",
      " -----------------------------------------------------\n"
     ]
    },
    {
     "data": {
      "image/png": "[encoded data removed]",
      "text/plain": [
       "<Figure size 432x288 with 2 Axes>"
      ]
     },
     "metadata": {
      "needs_background": "light"
     },
     "output_type": "display_data"
    }
   ],
   "source": [
    "dec_tree = DecisionTreeClassifier(random_state=42)\n",
    "dec_tree.fit(X_train_balanced, y_train_encoded)\n",
    "\n",
    "dec_tree_preds = dec_tree.predict(X_test_vec)\n",
    "dec_tree_accuracy = evaluate_model('Decision Tree', y_test_encoded, dec_tree_preds, cmap='Reds',\n",
    "                                   target_names=encoder.classes_, labels=encoder.classes_, rotation=45)\n",
    "\n",
    "# Store Decision Tree accuracy\n",
    "categorization_accuracy_list.append(dec_tree_accuracy)"
   ]
  },
  {
   "cell_type": "markdown",
   "id": "723dacff",
   "metadata": {},
   "source": [
    "**Observation(s)**:\n",
    "- Model speed: Average\n",
    "- Decision Tree has an ACCURACY of 97.17%\n",
    "- Decision Tree has very high PRECISION for all classes, performing the best on ethnicity and religion (99%) but the worst on other cyberbullying (86%)\n",
    "- Decision Tree has very high RECALL for all classes, performing the best on ethnicity and religion (99%) but the worst on other cyberbullying (89%)\n",
    "- Decision Tree has very high F1-SCORES for all classes, performing the best on ethnicity and religion (99%) but the worst on other cyberbullying (87%)\n",
    "- Overall, Decision Tree does a superb job at categorizing cyberbullying"
   ]
  },
  {
   "cell_type": "markdown",
   "id": "c0330e5d",
   "metadata": {},
   "source": [
    "### Random Forest"
   ]
  },
  {
   "cell_type": "code",
   "execution_count": 83,
   "id": "028e9bc3",
   "metadata": {},
   "outputs": [
    {
     "name": "stdout",
     "output_type": "stream",
     "text": [
      "\n",
      "MODEL: Random Forest\n",
      "ACCURACY: 0.9759224166759558\n",
      "\n",
      "----------------CLASSIFICATION REPORT----------------\n",
      "                      precision    recall  f1-score   support\n",
      "\n",
      "                age       0.99      0.98      0.99      1585\n",
      "          ethnicity       0.99      1.00      0.99      5091\n",
      "             gender       0.98      0.95      0.96      4892\n",
      "other_cyberbullying       0.85      0.92      0.88      1565\n",
      "           religion       0.99      1.00      1.00      4809\n",
      "\n",
      "           accuracy                           0.98     17942\n",
      "          macro avg       0.96      0.97      0.96     17942\n",
      "       weighted avg       0.98      0.98      0.98     17942\n",
      " -----------------------------------------------------\n"
     ]
    },
    {
     "data": {
      "image/png": "[encoded data removed]",
      "text/plain": [
       "<Figure size 432x288 with 2 Axes>"
      ]
     },
     "metadata": {
      "needs_background": "light"
     },
     "output_type": "display_data"
    }
   ],
   "source": [
    "ran_for = RandomForestClassifier(random_state=42)\n",
    "ran_for.fit(X_train_balanced, y_train_encoded)\n",
    "\n",
    "ran_for_preds = ran_for.predict(X_test_vec)\n",
    "ran_for_accuracy = evaluate_model('Random Forest', y_test_encoded, ran_for_preds, cmap='Oranges',\n",
    "                                  target_names=encoder.classes_, labels=encoder.classes_, rotation=45)\n",
    "\n",
    "# Store Random Forest accuracy\n",
    "categorization_accuracy_list.append(ran_for_accuracy)"
   ]
  },
  {
   "cell_type": "markdown",
   "id": "03601b7e",
   "metadata": {},
   "source": [
    "**Observation(s)**:\n",
    "- Model speed: Extremely slow\n",
    "- Random Forest has an ACCURACY of 97.59%\n",
    "- Random Forest has very high PRECISION for all classes, performing the best on age, ethnicity, and religion (99%) but the worst on other cyberbullying (85%)\n",
    "- Random Forest has very high RECALL for all classes, performing the best on ethnicity and religion (100%) but the worst on other cyberbullying (92%)\n",
    "- Random Forest has very high F1-SCORES for all classes, performing the best on religion (100%) but the worst on other cyberbullying (88%)\n",
    "- Overall, Random Forest does a superb job at categorizing cyberbullying"
   ]
  },
  {
   "cell_type": "markdown",
   "id": "b4f82b40",
   "metadata": {},
   "source": [
    "### Naïve Bayes"
   ]
  },
  {
   "cell_type": "code",
   "execution_count": 84,
   "id": "69c8d5f0",
   "metadata": {},
   "outputs": [
    {
     "name": "stdout",
     "output_type": "stream",
     "text": [
      "\n",
      "MODEL: Naïve Bayes\n",
      "ACCURACY: 0.8596031657563259\n",
      "\n",
      "----------------CLASSIFICATION REPORT----------------\n",
      "                      precision    recall  f1-score   support\n",
      "\n",
      "                age       0.75      0.97      0.84      1585\n",
      "          ethnicity       0.83      0.92      0.87      5091\n",
      "             gender       0.92      0.75      0.83      4892\n",
      "other_cyberbullying       0.85      0.49      0.62      1565\n",
      "           religion       0.89      0.99      0.94      4809\n",
      "\n",
      "           accuracy                           0.86     17942\n",
      "          macro avg       0.85      0.82      0.82     17942\n",
      "       weighted avg       0.87      0.86      0.85     17942\n",
      " -----------------------------------------------------\n"
     ]
    },
    {
     "data": {
      "image/png": "[encoded data removed]",
      "text/plain": [
       "<Figure size 432x288 with 2 Axes>"
      ]
     },
     "metadata": {
      "needs_background": "light"
     },
     "output_type": "display_data"
    }
   ],
   "source": [
    "nb = MultinomialNB()\n",
    "nb.fit(X_train_balanced, y_train_encoded)\n",
    "\n",
    "nb_preds = nb.predict(X_test_vec)\n",
    "nb_accuracy = evaluate_model('Naïve Bayes', y_test_encoded, nb_preds, cmap='Greens',\n",
    "                             target_names=encoder.classes_, labels=encoder.classes_, rotation=45)\n",
    "\n",
    "# Store Naïve Bayes accuracy\n",
    "categorization_accuracy_list.append(nb_accuracy)"
   ]
  },
  {
   "cell_type": "markdown",
   "id": "9a4f804f",
   "metadata": {},
   "source": [
    "**Observation(s)**:\n",
    "- Model speed: Very fast\n",
    "- Naïve Bayes has an ACCURACY of 85.96%\n",
    "- Naïve Bayes has very high PRECISION for most classes, performing the best on gender (92%) but the worst on age (75%)\n",
    "- Naïve Bayes has very high RECALL for most classes, performing the best on religion (99%) but the worst on other cyberbullying (49%)\n",
    "- Naïve Bayes has very high F1-SCORES for most classes, performing the best on religion (94%) but the worst on other cyberbullying (62%)\n",
    "- Overall, Naïve Bayes does a good job at categorizing cyberbullying"
   ]
  },
  {
   "cell_type": "markdown",
   "id": "88739cd7",
   "metadata": {},
   "source": [
    "### Gradient Boosting"
   ]
  },
  {
   "cell_type": "code",
   "execution_count": 85,
   "id": "eb0c7ea1",
   "metadata": {},
   "outputs": [
    {
     "name": "stdout",
     "output_type": "stream",
     "text": [
      "\n",
      "MODEL: Gradient Boosting\n",
      "ACCURACY: 0.9726897781741166\n",
      "\n",
      "----------------CLASSIFICATION REPORT----------------\n",
      "                      precision    recall  f1-score   support\n",
      "\n",
      "                age       0.99      0.98      0.99      1585\n",
      "          ethnicity       0.99      1.00      0.99      5091\n",
      "             gender       0.98      0.95      0.96      4892\n",
      "other_cyberbullying       0.80      0.94      0.87      1565\n",
      "           religion       1.00      0.98      0.99      4809\n",
      "\n",
      "           accuracy                           0.97     17942\n",
      "          macro avg       0.95      0.97      0.96     17942\n",
      "       weighted avg       0.98      0.97      0.97     17942\n",
      " -----------------------------------------------------\n"
     ]
    },
    {
     "data": {
      "image/png": "[encoded data removed]",
      "text/plain": [
       "<Figure size 432x288 with 2 Axes>"
      ]
     },
     "metadata": {
      "needs_background": "light"
     },
     "output_type": "display_data"
    }
   ],
   "source": [
    "xgb = XGBClassifier()\n",
    "xgb.fit(X_train_balanced, y_train_encoded)\n",
    "\n",
    "xgb_preds = xgb.predict(X_test_vec)\n",
    "xgb_accuracy = evaluate_model('Gradient Boosting', y_test_encoded, xgb_preds, cmap='Blues',\n",
    "                              target_names=encoder.classes_, labels=encoder.classes_, rotation=45)\n",
    "\n",
    "# Store Gradient Boosting accuracy\n",
    "categorization_accuracy_list.append(xgb_accuracy)"
   ]
  },
  {
   "cell_type": "markdown",
   "id": "db25aaa6",
   "metadata": {},
   "source": [
    "**Observation(s)**:\n",
    "- Model speed: Average\n",
    "- Gradient Boosting has an ACCURACY of 97.26%\n",
    "- Gradient Boosting has very high PRECISION for all classes, performing the best on religion (100%) but the worst on other cyberbullying (80%)\n",
    "- Gradient Boosting has very high RECALL for all classes, performing the best on ethnicity (100%) but the worst on other cyberbullying (94%)\n",
    "- Gradient Boosting has very high F1-SCORES for all classes, performing the best on age, ethnicity, and religion (99%) but the worst on other cyberbullying (87%)\n",
    "- Overall, Gradient Boosting does a superb job at categorizing cyberbullying"
   ]
  },
  {
   "cell_type": "markdown",
   "id": "fa65ac9a",
   "metadata": {},
   "source": [
    "### Adaptive Boosting"
   ]
  },
  {
   "cell_type": "code",
   "execution_count": 86,
   "id": "f72a6656",
   "metadata": {},
   "outputs": [
    {
     "name": "stdout",
     "output_type": "stream",
     "text": [
      "\n",
      "MODEL: Adaptive Boosting\n",
      "ACCURACY: 0.9508973358599934\n",
      "\n",
      "----------------CLASSIFICATION REPORT----------------\n",
      "                      precision    recall  f1-score   support\n",
      "\n",
      "                age       0.98      0.98      0.98      1585\n",
      "          ethnicity       0.99      0.97      0.98      5091\n",
      "             gender       0.98      0.91      0.94      4892\n",
      "other_cyberbullying       0.70      0.95      0.80      1565\n",
      "           religion       0.99      0.96      0.98      4809\n",
      "\n",
      "           accuracy                           0.95     17942\n",
      "          macro avg       0.93      0.95      0.94     17942\n",
      "       weighted avg       0.96      0.95      0.95     17942\n",
      " -----------------------------------------------------\n"
     ]
    },
    {
     "data": {
      "image/png": "[encoded data removed]",
      "text/plain": [
       "<Figure size 432x288 with 2 Axes>"
      ]
     },
     "metadata": {
      "needs_background": "light"
     },
     "output_type": "display_data"
    }
   ],
   "source": [
    "adb = AdaBoostClassifier()\n",
    "adb.fit(X_train_balanced, y_train_encoded)\n",
    "\n",
    "adb_preds = adb.predict(X_test_vec)\n",
    "adb_accuracy = evaluate_model('Adaptive Boosting', y_test_encoded, adb_preds, cmap='Purples',\n",
    "                              target_names=encoder.classes_, labels=encoder.classes_, rotation=45)\n",
    "\n",
    "# Store Adaptive Boosting accuracy\n",
    "categorization_accuracy_list.append(adb_accuracy)"
   ]
  },
  {
   "cell_type": "markdown",
   "id": "ae292660",
   "metadata": {},
   "source": [
    "**Observation(s)**:\n",
    "- Model speed: Fast\n",
    "- Adaptive Boosting has an ACCURACY of 95.09%\n",
    "- Adaptive Boosting has very high PRECISION for most classes, performing the best on ethnicity and religion (99%) but the worst on other cyberbullying (70%)\n",
    "- Adaptive Boosting has very high RECALL for most classes, performing the best on age (98%) but the worst on gender (91%)\n",
    "- Adaptive Boosting has very high F1-SCORES for most classes, performing the best on age, ethnicity, and religion (98%) but the worst on other cyberbullying (80%)\n",
    "- Overall, Adaptive Boosting does an excellent job at categorizing cyberbullying"
   ]
  },
  {
   "cell_type": "markdown",
   "id": "1bfcd3d6",
   "metadata": {},
   "source": [
    "## 3. **Deep Learning Models**"
   ]
  },
  {
   "cell_type": "markdown",
   "id": "578b919c",
   "metadata": {},
   "source": [
    "While transformer-based models like BERT are effective at multi-class classification, they are very computationally and memory intensive models. Due to hardware constraints, a hybrid CNN-LSTM model will be used due to its efficient and simpler architecture."
   ]
  },
  {
   "cell_type": "markdown",
   "id": "a7824db3",
   "metadata": {},
   "source": [
    "Tokenize text data"
   ]
  },
  {
   "cell_type": "code",
   "execution_count": 87,
   "id": "484870ca",
   "metadata": {},
   "outputs": [],
   "source": [
    "MAX_NB_WORDS = 100000\n",
    "\n",
    "# Vectorize the text samples into 2 integer tensor\n",
    "tokenizer = Tokenizer(num_words=MAX_NB_WORDS, char_level=False)\n",
    "tokenizer.fit_on_texts(X_train)"
   ]
  },
  {
   "cell_type": "code",
   "execution_count": 88,
   "id": "2f0bf027",
   "metadata": {},
   "outputs": [],
   "source": [
    "X_train_seq = tokenizer.texts_to_sequences(X_train)\n",
    "X_test_seq = tokenizer.texts_to_sequences(X_test)"
   ]
  },
  {
   "cell_type": "markdown",
   "id": "ac6de271",
   "metadata": {},
   "source": [
    "Find max sequence length"
   ]
  },
  {
   "cell_type": "code",
   "execution_count": 89,
   "id": "5a49765c",
   "metadata": {},
   "outputs": [
    {
     "name": "stdout",
     "output_type": "stream",
     "text": [
      "Average length: 13.7\n",
      "Max length: 443\n"
     ]
    },
    {
     "data": {
      "text/plain": [
       "Text(0, 0.5, 'Frequency')"
      ]
     },
     "execution_count": 89,
     "metadata": {},
     "output_type": "execute_result"
    },
    {
     "data": {
      "image/png": "[encoded data removed]",
      "text/plain": [
       "<Figure size 432x288 with 1 Axes>"
      ]
     },
     "metadata": {
      "needs_background": "light"
     },
     "output_type": "display_data"
    }
   ],
   "source": [
    "sequence_lens = [len(seq) for seq in X_train_seq]\n",
    "print('Average length: %0.1f' % np.mean(sequence_lens))\n",
    "print('Max length: %d' % max(sequence_lens))\n",
    "\n",
    "plt.hist([length for length in sequence_lens if length < 200], bins=50)\n",
    "plt.title('Sequence Length Distribution Plot')\n",
    "plt.xlabel('Sequence Length')\n",
    "plt.ylabel('Frequency')"
   ]
  },
  {
   "cell_type": "markdown",
   "id": "63773e80",
   "metadata": {},
   "source": [
    "Since most sequences are under 50, the max sequence length will be set to 50 for computational efficiency"
   ]
  },
  {
   "cell_type": "code",
   "execution_count": 90,
   "id": "f42bb8e5",
   "metadata": {},
   "outputs": [],
   "source": [
    "MAX_SEQUENCE_LENGTH = 50\n",
    "\n",
    "# Pad sequences with 0s\n",
    "X_train_pad = pad_sequences(X_train_seq, maxlen=MAX_SEQUENCE_LENGTH)\n",
    "X_test_pad = pad_sequences(X_test_seq, maxlen=MAX_SEQUENCE_LENGTH)"
   ]
  },
  {
   "cell_type": "code",
   "execution_count": 91,
   "id": "89447c07",
   "metadata": {},
   "outputs": [],
   "source": [
    "smote = SMOTE(random_state=42)\n",
    "\n",
    "X_train_balanced, y_train_balanced = smote.fit_resample(X_train_pad, y_train)"
   ]
  },
  {
   "cell_type": "markdown",
   "id": "40735256-52bc-4023-b3ee-96758e8c3dfb",
   "metadata": {},
   "source": [
    "Build a CNN-LSTM hybrid model with the following layers:\n",
    "- Input layer with input shape = MAX_SEQUENCE_LENGTH and dtype int32\n",
    "- Embedding layer with input dimension = MAX_NB_WORDS, output dimension =50, and input length = MAX_SEQUENCE_LENGTH \n",
    "- Conv1D layer with 64 filters and kernel size 5 and activation relu\n",
    "- MaxPooling1D with pool size = 5\n",
    "- Dropout(0.2)\n",
    "- Conv1D layer with 64 filters and kernel size 5 and activation relu\n",
    "- MaxPooling1D with pool size = 5 \n",
    "- Dropout(0.2)\n",
    "- LSTM layer with 64 units\n",
    "- Dense layer with 5 neurons and activation softmax"
   ]
  },
  {
   "cell_type": "code",
   "execution_count": 92,
   "id": "a9a3f95c-09e0-4734-a8e3-ec567392ce17",
   "metadata": {},
   "outputs": [],
   "source": [
    "EMBEDDING_DIM = 100\n",
    "\n",
    "sequence_input = Input(shape=(MAX_SEQUENCE_LENGTH,), dtype='int32')\n",
    "\n",
    "embedding_layer = Embedding(MAX_NB_WORDS, EMBEDDING_DIM,\n",
    "                            input_length=MAX_SEQUENCE_LENGTH,\n",
    "                            trainable=True)\n",
    "x = embedding_layer(sequence_input)\n",
    "\n",
    "# CNN layers\n",
    "x = Conv1D(64, 5, activation='relu')(x)\n",
    "x = MaxPooling1D(5)(x)\n",
    "x = Dropout(0.2)(x)\n",
    "\n",
    "x = Conv1D(64, 5, activation='relu')(x)\n",
    "x = MaxPooling1D(5)(x)\n",
    "x = Dropout(0.2)(x)\n",
    "\n",
    "# LSTM layer with a hidden size of 64\n",
    "x = LSTM(64)(x)\n",
    "predictions = Dense(5, activation='softmax')(x)"
   ]
  },
  {
   "cell_type": "markdown",
   "id": "417a6585-688e-46e6-a126-2ac20612bd75",
   "metadata": {},
   "source": [
    "Compile the model with Adam optimizer, sparse categorical crossentropy loss function and metric accuracy"
   ]
  },
  {
   "cell_type": "code",
   "execution_count": 93,
   "id": "c09fd5bd-2523-41da-8caf-8f30e9bb0727",
   "metadata": {},
   "outputs": [],
   "source": [
    "categorization_model = Model(sequence_input, predictions)\n",
    "\n",
    "categorization_model.compile(optimizer='adam',\n",
    "                        loss='sparse_categorical_crossentropy',\n",
    "                        metrics=['accuracy'])"
   ]
  },
  {
   "cell_type": "markdown",
   "id": "dcce550d-7f5b-4f0c-8974-24576d610d30",
   "metadata": {},
   "source": [
    "Train the hybrid model for 10 epochs with early stopping"
   ]
  },
  {
   "cell_type": "code",
   "execution_count": 94,
   "id": "047f9504-c8db-4094-aa44-8c6dfdd586b9",
   "metadata": {},
   "outputs": [
    {
     "name": "stdout",
     "output_type": "stream",
     "text": [
      "Epoch 1/10\n",
      "1411/1411 [==============================] - 108s 75ms/step - loss: 0.5552 - accuracy: 0.7868 - val_loss: 1.2735 - val_accuracy: 0.6603 - lr: 0.0010\n",
      "Epoch 2/10\n",
      "1411/1411 [==============================] - 106s 75ms/step - loss: 0.3107 - accuracy: 0.8928 - val_loss: 1.4495 - val_accuracy: 0.5846 - lr: 0.0010\n",
      "Epoch 3/10\n",
      "1411/1411 [==============================] - ETA: 0s - loss: 0.2127 - accuracy: 0.9292\n",
      "Epoch 3: ReduceLROnPlateau reducing learning rate to 0.0005000000237487257.\n",
      "1411/1411 [==============================] - 106s 75ms/step - loss: 0.2127 - accuracy: 0.9292 - val_loss: 1.4587 - val_accuracy: 0.6020 - lr: 0.0010\n",
      "Epoch 4/10\n",
      "1411/1411 [==============================] - 106s 75ms/step - loss: 0.1368 - accuracy: 0.9553 - val_loss: 1.5411 - val_accuracy: 0.6035 - lr: 5.0000e-04\n",
      "Epoch 4: early stopping\n"
     ]
    }
   ],
   "source": [
    "categorization_history = categorization_model.fit(X_train_balanced,\n",
    "                                                  y_train_encoded,\n",
    "                                                  validation_split=0.1,\n",
    "                                                  epochs=10,\n",
    "                                                  batch_size=64,\n",
    "                                                  callbacks=[learning_rate_reduction, early_stop])"
   ]
  },
  {
   "cell_type": "markdown",
   "id": "833a7660-2aea-4bac-a1e6-0908fb7f0917",
   "metadata": {},
   "source": [
    "Plot training and validation accuracy and loss against epochs for the deep learning categorization model"
   ]
  },
  {
   "cell_type": "code",
   "execution_count": 95,
   "id": "f759c9a3-c950-47b6-998b-709250895d1b",
   "metadata": {},
   "outputs": [
    {
     "data": {
      "image/png": "[encoded data removed]",
      "text/plain": [
       "<Figure size 432x288 with 1 Axes>"
      ]
     },
     "metadata": {
      "needs_background": "light"
     },
     "output_type": "display_data"
    },
    {
     "data": {
      "image/png": "[encoded data removed]",
      "text/plain": [
       "<Figure size 432x288 with 1 Axes>"
      ]
     },
     "metadata": {
      "needs_background": "light"
     },
     "output_type": "display_data"
    }
   ],
   "source": [
    "plt.plot(categorization_history.history['accuracy'])\n",
    "plt.plot(categorization_history.history['val_accuracy'])\n",
    "plt.title('Model Accuracy')\n",
    "plt.xlabel('Epoch')\n",
    "plt.ylabel('Accuracy')\n",
    "plt.legend(['Train', 'Validation'], loc='upper left')\n",
    "plt.show()\n",
    "\n",
    "plt.plot(categorization_history.history['loss'])\n",
    "plt.plot(categorization_history.history['val_loss'])\n",
    "plt.title('Model Loss')\n",
    "plt.xlabel('Epoch')\n",
    "plt.ylabel('Loss')\n",
    "plt.legend(['Train', 'Validation'], loc='upper left')\n",
    "plt.show()"
   ]
  },
  {
   "cell_type": "markdown",
   "id": "1d5cf1c9-8dca-4c7b-a3cc-4b1147ecea39",
   "metadata": {},
   "source": [
    "**Observations**:\n",
    "- Training accuracy increases smoothly \n",
    "- Validation accuracy remains steady\n",
    "- Training loss decreases continuously\n",
    "- Validation loss increases slightly (learning rate reduction and early stopping prevented overfitting)"
   ]
  },
  {
   "cell_type": "markdown",
   "id": "48f2fad6-ef62-4155-b876-b1cc59b372c4",
   "metadata": {},
   "source": [
    "Test CNN-LSTM hybrid model and store accuracy score"
   ]
  },
  {
   "cell_type": "code",
   "execution_count": 96,
   "id": "d93837e3-46d7-42b9-a396-992dc8b9fd35",
   "metadata": {},
   "outputs": [
    {
     "name": "stdout",
     "output_type": "stream",
     "text": [
      "561/561 [==============================] - 2s 2ms/step\n",
      "\n",
      "MODEL: CNN-LSTM\n",
      "ACCURACY: 0.8975030654330621\n",
      "\n",
      "----------------CLASSIFICATION REPORT----------------\n",
      "                      precision    recall  f1-score   support\n",
      "\n",
      "                age       0.68      0.96      0.80      1585\n",
      "          ethnicity       0.98      0.90      0.94      5091\n",
      "             gender       0.92      0.85      0.88      4892\n",
      "other_cyberbullying       0.66      0.77      0.71      1565\n",
      "           religion       1.00      0.96      0.98      4809\n",
      "\n",
      "           accuracy                           0.90     17942\n",
      "          macro avg       0.85      0.89      0.86     17942\n",
      "       weighted avg       0.91      0.90      0.90     17942\n",
      " -----------------------------------------------------\n"
     ]
    },
    {
     "data": {
      "image/png": "[encoded data removed]",
      "text/plain": [
       "<Figure size 432x288 with 2 Axes>"
      ]
     },
     "metadata": {
      "needs_background": "light"
     },
     "output_type": "display_data"
    }
   ],
   "source": [
    "y_preds = (categorization_model.predict(X_test_pad) > 0.5).astype('int32')\n",
    "\n",
    "# Switching from Multi-Label format to Multiclass\n",
    "cnn_lstm_preds = []\n",
    "weights = [0, 1, 2, 3, 4]\n",
    "for j in range(len(y_preds)):\n",
    "    weighted_pred = [y_preds[j][i] * weights[i] for i in range(len(y_preds[j]))]\n",
    "    prediction = sum(weighted_pred)\n",
    "    cnn_lstm_preds.append(prediction)\n",
    "\n",
    "cnn_lstm_accuracy = evaluate_model('CNN-LSTM', y_test_encoded, cnn_lstm_preds, cmap='Greys',\n",
    "                                  target_names=encoder.classes_, labels=encoder.classes_, rotation=45)\n",
    "\n",
    "# Store CNN-LSTM accuracy\n",
    "categorization_accuracy_list.append(cnn_lstm_accuracy)"
   ]
  },
  {
   "cell_type": "markdown",
   "id": "015c3643-841f-4c61-8c14-a77faa6e1a0b",
   "metadata": {},
   "source": [
    "**Observation(s)**:\n",
    "- Model speed: Slow\n",
    "- CNN-LSTM has an ACCURACY of 90.14%\n",
    "- CNN-LSTM has high PRECISION for most classes, performing the best on religion (99%) but the worst on other cyberbullying (69%)\n",
    "- CNN-LSTM has high RECALL for most classes, performing the best on age (97%) but the worst on other cycberbullying (70%)\n",
    "- CNN-LSTM has high F1-SCORES for most classes, performing the best on religion (98%) but the worst on other cyberbullying (69%)\n",
    "- Overall, CNN-LSTM does a good job at categorizing cyberbullying"
   ]
  },
  {
   "cell_type": "markdown",
   "id": "b7c6f4fd",
   "metadata": {},
   "source": [
    "## 4. **Categorization Summary**"
   ]
  },
  {
   "cell_type": "markdown",
   "id": "340de73e-f6bb-4ac8-8f2d-41884d2eb8ac",
   "metadata": {},
   "source": [
    "Model accuracy comparison"
   ]
  },
  {
   "cell_type": "code",
   "execution_count": 97,
   "id": "94fe6b08-6cc2-4930-990d-5605ea8e80f9",
   "metadata": {},
   "outputs": [
    {
     "name": "stdout",
     "output_type": "stream",
     "text": [
      "----------------MODELS RANKED BY PERFORMANCE----------------\n",
      "\n",
      "1. Random Forest\n",
      "    ACCURACY: 0.9759224166759558\n",
      "\n",
      "2. Gradient Boosting\n",
      "    ACCURACY: 0.9726897781741166\n",
      "\n",
      "3. Decision Tree\n",
      "    ACCURACY: 0.9716865455356147\n",
      "\n",
      "4. Adaptive Boosting\n",
      "    ACCURACY: 0.9508973358599934\n",
      "\n",
      "5. CNN-LSTM\n",
      "    ACCURACY: 0.8975030654330621\n",
      "\n",
      "6. Naïve Bayes\n",
      "    ACCURACY: 0.8596031657563259\n",
      "\n",
      "------------------------------------------------------------\n"
     ]
    }
   ],
   "source": [
    "# Sort by accuracy in descending order\n",
    "sorted_categorization_accuracy_list = sorted(categorization_accuracy_list, key=lambda x: x['ACCURACY'], reverse=True)\n",
    "\n",
    "# Print sorted models\n",
    "print('----------------MODELS RANKED BY PERFORMANCE----------------\\n')\n",
    "for i, model_dict in enumerate(sorted_categorization_accuracy_list):\n",
    "    print(f\"{i+1}. {model_dict['MODEL']}\")\n",
    "    print(f\"    ACCURACY: {model_dict['ACCURACY']}\\n\")\n",
    "print('------------------------------------------------------------')"
   ]
  },
  {
   "cell_type": "markdown",
   "id": "bbcc7819-9339-4693-b559-17897b148293",
   "metadata": {},
   "source": [
    "### **SUMMARY**:\n",
    "- MACHINE LEARNING MODELS: Random Forest, Gradient Boosting, Decision Tree, Adaptive Boosting, and Naïve Bayes\n",
    "    - The traditional machine learning models, aside from Naïve Bayes, have very high performance (all exceeding 0.9 accuracy)\n",
    "    - Random Forest is placed the highest by accuracy\n",
    "    - Gradient Boosting is ranked second but is more efficient\n",
    "- DEEP LEARNING MODELS: Convolutional + Recurrent Neural Network (CNN-LSTM)\n",
    "    - The CNN-LSTM hybrid model performed surprisingly well on test data (as validation accuracy seemed to stagnate at a lower score)\n",
    "    - Adding additional layers and hyperparameter tuning could be used to improve categorization\n",
    "\n",
    "#### Overall, the best model to use for cyberbullying categorization is **Random Forest** for its high performance!"
   ]
  },
  {
   "cell_type": "code",
   "execution_count": 98,
   "id": "dd51b8dd-d70b-4cf8-a6f5-7967d1cad54c",
   "metadata": {},
   "outputs": [
    {
     "data": {
      "text/plain": [
       "['models/categorization/cateogrization_encoder.pkl']"
      ]
     },
     "execution_count": 98,
     "metadata": {},
     "output_type": "execute_result"
    }
   ],
   "source": [
    "# Save best model, vectorizer, and encoder for future testing and experientation\n",
    "folder_path = 'models/categorization/'\n",
    "if not os.path.exists(folder_path):\n",
    "    os.makedirs(folder_path)\n",
    "\n",
    "joblib.dump(ran_for, os.path.join(folder_path, 'categorization_model.pkl'))\n",
    "joblib.dump(vectorizer, os.path.join(folder_path, 'cateogrization_vectorizer.pkl'))\n",
    "joblib.dump(encoder, os.path.join(folder_path, 'cateogrization_encoder.pkl'))"
   ]
  },
  {
   "cell_type": "markdown",
   "id": "8d817cab-a157-422b-8638-e2584afcb633",
   "metadata": {},
   "source": [
    "# SECTION 4: MODEL DEPLOYMENT AND CONCLUSION"
   ]
  },
  {
   "cell_type": "markdown",
   "id": "d9c7106c-c3ef-4332-bdde-a6bad8a94c09",
   "metadata": {},
   "source": [
    "**OVERVIEW** </br>\n",
    "Now that the best detection and categorization models have been identified, a small application will be developed that prompts users to input text and the returns an appropriate response based on the text content:\n",
    "- If the text is not cyberbullying, the application will return 'This message is not cyberbullying.'\n",
    "- If the text is cyberbullying, the application will return 'This message is cyberbullying.' and then will attempt to identify what type of cyberbullying is present </br>\n",
    "Finally, a comprehensive conclusion of the project will be included at the end to summarize all insights drawn from the capstone as well as provide possible suggestions on handling cyberbullying."
   ]
  },
  {
   "cell_type": "markdown",
   "id": "fcf1a490-611b-4c4c-a571-74869c1e78ce",
   "metadata": {},
   "source": [
    "Reload detection and categorization models"
   ]
  },
  {
   "cell_type": "code",
   "execution_count": null,
   "id": "08955a8a-ea3f-49d0-9bf1-f842b9db2872",
   "metadata": {},
   "outputs": [],
   "source": [
    "# Load detection components\n",
    "detection = joblib.load('models/detection/detection_model.pkl')\n",
    "detection_vectorizer = joblib.load('models/detection/detection_vectorizer.pkl')\n",
    "\n",
    "# Load categorization components\n",
    "categorization = joblib.load('models/categorization/categorization_model.pkl')\n",
    "categorization_vectorizer = joblib.load('models/categorization/categorization_vectorizer.pkl')\n",
    "categorization_encoder = joblib.load('models/categorization/categorization_encoder.pkl')"
   ]
  },
  {
   "cell_type": "markdown",
   "id": "91d22c40-5180-4e14-8654-25a6f6debbca",
   "metadata": {},
   "source": [
    "Application that allows users to input text and detection + categorization is applied to text"
   ]
  },
  {
   "cell_type": "code",
   "execution_count": null,
   "id": "1eb47e3a-747c-47f6-8826-d7b327b7d21e",
   "metadata": {},
   "outputs": [],
   "source": [
    "print('-------------------CYBERBULLYING IDENTIFIER-------------------')\n",
    "msg = input('Enter a message: ')\n",
    "\n",
    "# Preprocess text\n",
    "cleaned_msg = preprocessing(msg)\n",
    "\n",
    "# Vectorize text\n",
    "vectorized_msg = detection_vectorizer.transform([cleaned_msg])\n",
    "\n",
    "# Detect cyberbullying\n",
    "detect_pred = detection.predict(vectorized_msg)\n",
    "\n",
    "def extract_label(categorize_pred):\n",
    "    '''\n",
    "    Helper function for extracting label\n",
    "    '''\n",
    "    label_block = categorization_encoder.inverse_transform([categorize_pred])\n",
    "    if label_block[0] == 'other_cyberbullying':\n",
    "        return 'other'\n",
    "    else:\n",
    "        return label_block[0]\n",
    "\n",
    "# Categorize cyberbullying\n",
    "if detect_pred == [0]:\n",
    "    print('This message is not cyberbullying.')\n",
    "else:\n",
    "    vectorized_msg = categorization_vectorizer.transform([cleaned_msg])\n",
    "    categorize_pred = categorization.predict(vectorized_msg)\n",
    "    print(f'This message is considered cyberbullying and falls under {extract_label(categorize_pred)} cyberbullying.')"
   ]
  },
  {
   "cell_type": "markdown",
   "id": "14b7b1cd-ba08-4ba6-83b9-d30839967db0",
   "metadata": {},
   "source": [
    "### **CONCLUSION**:\n",
    "- Cyberbullying analysis demonstrated that profanity is a reliable indicator of cyberbullying but it is not always a case of cyberbullying\n",
    "- Cyberbullying detection demonstrated that traditional machine learning models such as Logistic Regression and Random Forest are still effective in binary classification/sentiment analysis problems\n",
    "- Cyberbullying classification demonstated that machine learning models such as Random Forest and Gradient Boosting are still effective in multi-class classification on vectorized text data#### Overall, "
   ]
  },
  {
   "cell_type": "markdown",
   "id": "26ea3538-957e-4158-a786-26caf5e90aff",
   "metadata": {},
   "source": [
    "This capstone project can be viewed as a valuable application of various data science, machine learning, deep learning, and natural language processing techniques. Cyberbullying grows rampant in an ever-growing age of electronics and virtual connections. The findings and models of this project can be used freely by anyone."
   ]
  }
 ],
 "metadata": {
  "kernelspec": {
   "display_name": "Python 3 [3.10]",
   "language": "python",
   "name": "python3"
  },
  "language_info": {
   "codemirror_mode": {
    "name": "ipython",
    "version": 3
   },
   "file_extension": ".py",
   "mimetype": "text/x-python",
   "name": "python",
   "nbconvert_exporter": "python",
   "pygments_lexer": "ipython3",
   "version": "3.10.2"
  }
 },
 "nbformat": 4,
 "nbformat_minor": 5
}
